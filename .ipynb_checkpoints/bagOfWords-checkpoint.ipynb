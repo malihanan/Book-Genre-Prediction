{
 "cells": [
  {
   "cell_type": "code",
   "execution_count": 42,
   "metadata": {},
   "outputs": [],
   "source": [
    "import nltk\n",
    "import re\n",
    "import heapq\n",
    "import math\n",
    "import numpy as np"
   ]
  },
  {
   "cell_type": "code",
   "execution_count": 25,
   "metadata": {},
   "outputs": [],
   "source": [
    "paragraph = \"\"\"Thank you all so very much. Thank you to the Academy. Thank you to all of you in this room. I have to congratulate the other incredible nominees this year. The Revenant was the product of the tireless efforts of an unbelievable cast and crew. First off, to my brother in this endeavor, Mr. Tom Hardy. Tom, your talent on screen can only be surpassed by your friendship off screen … thank you for creating a transcendent cinematic experience. Thank you to everybody at Fox and New Regency … my entire team. I have to thank everyone from the very onset of my career … To my parents; none of this would be possible without you. And to my friends, I love you dearly; you know who you are. And lastly, I just want to say this: Making The Revenant was about man's relationship to the natural world. A world that we collectively felt in 2015 as the hottest year in recorded history. Our production needed to move to the southern tip of this planet just to be able to find snow. Climate change is real, it is happening right now. It is the most urgent threat facing our entire species, and we need to work collectively together and stop procrastinating. We need to support leaders around the world who do not speak for the big polluters, but who speak for all of humanity, for the indigenous people of the world, for the billions and billions of underprivileged people out there who would be most affected by this. For our children’s children, and for those people out there whose voices have been drowned out by the politics of greed. I thank you all for this amazing award tonight. Let us not take this planet for granted. I do not take tonight for granted. Thank you so very much.\"\"\""
   ]
  },
  {
   "cell_type": "code",
   "execution_count": 26,
   "metadata": {},
   "outputs": [],
   "source": [
    "dataset = nltk.sent_tokenize(paragraph)"
   ]
  },
  {
   "cell_type": "code",
   "execution_count": 29,
   "metadata": {},
   "outputs": [],
   "source": [
    "for i in range(len(dataset)):\n",
    "    dataset[i] = dataset[i].lower()\n",
    "    dataset[i] = re.sub(r'\\W', ' ', dataset[i])\n",
    "    dataset[i] = re.sub(r'\\s+', ' ', dataset[i])\n",
    "    dataset[i] = re.sub('^\\s+', '', dataset[i])\n",
    "    dataset[i] = re.sub(r'\\s$', '', dataset[i])"
   ]
  },
  {
   "cell_type": "code",
   "execution_count": 31,
   "metadata": {},
   "outputs": [],
   "source": [
    "word_count = {}\n",
    "for data in dataset:\n",
    "    for word in nltk.word_tokenize(data):\n",
    "        if word in word_count.keys():\n",
    "            word_count[word] += 1\n",
    "        else:\n",
    "            word_count[word] = 1"
   ]
  },
  {
   "cell_type": "code",
   "execution_count": 38,
   "metadata": {},
   "outputs": [],
   "source": [
    "word_count = heapq.nlargest(math.floor(len(word_count)*0.75), word_count)"
   ]
  },
  {
   "cell_type": "code",
   "execution_count": 45,
   "metadata": {},
   "outputs": [],
   "source": [
    "bagOfWords = []\n",
    "for i in range(len(dataset)):\n",
    "    vector = []\n",
    "    for j in range(len(word_count)):\n",
    "        if word_count[j] in dataset[i]:\n",
    "            vector.append(1)\n",
    "        else:\n",
    "            vector.append(0)\n",
    "    bagOfWords.append(vector)\n",
    "        "
   ]
  },
  {
   "cell_type": "code",
   "execution_count": 47,
   "metadata": {},
   "outputs": [],
   "source": [
    "bagOfWords = np.asarray(bagOfWords)"
   ]
  },
  {
   "cell_type": "code",
   "execution_count": 52,
   "metadata": {},
   "outputs": [
    {
     "name": "stdout",
     "output_type": "stream",
     "text": [
      "010000000000010000000000000000010000000001000100000000000000000000000000000000010000000000000000000000000000000000000\n",
      "010000000000000000000010000001010000000000000000000000000000000000000000000000100000000000000000000000000000000000000\n",
      "010000000000000000000010000100010000000000000110000000000000000000000100000000000000000000001001100000000000000000000\n",
      "001000000000000000000010000101000000000000000100000000000000000010010000010000000000000000001011100010000000000000000\n",
      "000000000010000001000001000001000000000000000100100000100000000000000100000000000000000000000000100000000000010000000\n",
      "000000000000000000001010000101000000000000000100000000000000000010001100000000101000000000001001100001000000001000000\n",
      "110000000000000000101010000000010101000000010100000000000000000100111100000000000000000000000001100000000011010000100\n",
      "010000000000010000000010000000011000000000000000001000000000000000000000001000100000000000000000100000000000100000001\n",
      "010100100000010000000010000101010000000000000100000000001000011001010100100000100000000000011000100010000100000000010\n",
      "010000001000000000000010000000000000000000000100000000000000000000000010000000100000010001000000100000000001000000000\n",
      "000010000011001000000010000101000000000000001100110000000000001000010000000001000001100010101001100000000000000000000\n",
      "001010000100000000000010000001100000000000000100000100000000000000000000000000000000000000001001101100000000000010000\n",
      "000000000000001000000010100101000000000011100100000001100001001100010110000110000100000000101001100000000000000100000\n",
      "000000000000000000000000000000000000000000000101000010000000000000000010000000000000000000011001100000100000000000000\n",
      "000001000100000100000110010001000000011000000100000000010000000100000000000010000010000000011001100000000000000001000\n",
      "000110001100001010000010000111000000100100000100000000000100101000010101000010000011000100011101110000000000010000000\n",
      "000000011000100000000000001011000000000000000100000000000010101100000100000000000000000000010000100010010000010000000\n",
      "010000000000000000010010000100010000000000000100000000000000000000010000000000000000000000001001100000000000010000000\n",
      "000000000000001000000000000100000010000000000100000000000001000000000001000000000000001000001000100000001000010000000\n",
      "000000000000000000010010000000000010000000000000000000000000000000010001000000000000000000000000100000001000010000000\n",
      "010000000000010000000000000000010000000001000100000000000000000000000000000000010000000000000000000000000000000000000\n"
     ]
    }
   ],
   "source": [
    "for i in range(bagOfWords.shape[0]):\n",
    "    for j in range(bagOfWords.shape[1]):\n",
    "        print(bagOfWords[i][j], end=\"\")\n",
    "    print()"
   ]
  },
  {
   "cell_type": "code",
   "execution_count": null,
   "metadata": {},
   "outputs": [],
   "source": []
  }
 ],
 "metadata": {
  "kernelspec": {
   "display_name": "Python 3",
   "language": "python",
   "name": "python3"
  },
  "language_info": {
   "codemirror_mode": {
    "name": "ipython",
    "version": 3
   },
   "file_extension": ".py",
   "mimetype": "text/x-python",
   "name": "python",
   "nbconvert_exporter": "python",
   "pygments_lexer": "ipython3",
   "version": "3.7.3"
  }
 },
 "nbformat": 4,
 "nbformat_minor": 2
}
