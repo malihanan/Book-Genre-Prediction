{
 "cells": [
  {
   "cell_type": "code",
   "execution_count": 53,
   "metadata": {},
   "outputs": [],
   "source": [
    "import numpy as np\n",
    "import nltk as nltk\n",
    "from nltk.corpus import stopwords\n",
    "from nltk.tokenize import word_tokenize\n",
    "from num2words import num2words\n",
    "import csv\n",
    "import matplotlib.pyplot as plt\n",
    "import json\n",
    "from tqdm import tqdm\n",
    "import pandas as pd\n",
    "import seaborn as sns"
   ]
  },
  {
   "cell_type": "code",
   "execution_count": 176,
   "metadata": {},
   "outputs": [
    {
     "data": {
      "text/html": [
       "<div>\n",
       "<style scoped>\n",
       "    .dataframe tbody tr th:only-of-type {\n",
       "        vertical-align: middle;\n",
       "    }\n",
       "\n",
       "    .dataframe tbody tr th {\n",
       "        vertical-align: top;\n",
       "    }\n",
       "\n",
       "    .dataframe thead th {\n",
       "        text-align: right;\n",
       "    }\n",
       "</style>\n",
       "<table border=\"1\" class=\"dataframe\">\n",
       "  <thead>\n",
       "    <tr style=\"text-align: right;\">\n",
       "      <th></th>\n",
       "      <th>Unnamed: 0</th>\n",
       "      <th>Name</th>\n",
       "      <th>Genres</th>\n",
       "      <th>Summary</th>\n",
       "    </tr>\n",
       "  </thead>\n",
       "  <tbody>\n",
       "    <tr>\n",
       "      <th>0</th>\n",
       "      <td>1</td>\n",
       "      <td>A Clockwork Orange</td>\n",
       "      <td>Science Fiction</td>\n",
       "      <td>Alex, a teenager living in near-future Englan...</td>\n",
       "    </tr>\n",
       "    <tr>\n",
       "      <th>1</th>\n",
       "      <td>6</td>\n",
       "      <td>A Wizard of Earthsea</td>\n",
       "      <td>Children's literature</td>\n",
       "      <td>Ged is a young boy on Gont, one of the larger...</td>\n",
       "    </tr>\n",
       "    <tr>\n",
       "      <th>2</th>\n",
       "      <td>8</td>\n",
       "      <td>Blade Runner 3: Replicant Night</td>\n",
       "      <td>Science Fiction</td>\n",
       "      <td>Living on Mars, Deckard is acting as a consul...</td>\n",
       "    </tr>\n",
       "    <tr>\n",
       "      <th>3</th>\n",
       "      <td>9</td>\n",
       "      <td>Blade Runner 2: The Edge of Human</td>\n",
       "      <td>Science Fiction</td>\n",
       "      <td>Beginning several months after the events in ...</td>\n",
       "    </tr>\n",
       "    <tr>\n",
       "      <th>4</th>\n",
       "      <td>21</td>\n",
       "      <td>Children of Dune</td>\n",
       "      <td>Science Fiction</td>\n",
       "      <td>Nine years after Emperor Paul Muad'dib walked...</td>\n",
       "    </tr>\n",
       "    <tr>\n",
       "      <th>...</th>\n",
       "      <td>...</td>\n",
       "      <td>...</td>\n",
       "      <td>...</td>\n",
       "      <td>...</td>\n",
       "    </tr>\n",
       "    <tr>\n",
       "      <th>8794</th>\n",
       "      <td>16541</td>\n",
       "      <td>Nevermore: The Final Maximum Ride Adventure</td>\n",
       "      <td>Young adult literature</td>\n",
       "      <td>The prologue is Angel's vision of Max's death...</td>\n",
       "    </tr>\n",
       "    <tr>\n",
       "      <th>8795</th>\n",
       "      <td>16542</td>\n",
       "      <td>The Bourne Imperative</td>\n",
       "      <td>Thriller</td>\n",
       "      <td>:For a more detailed background of the main c...</td>\n",
       "    </tr>\n",
       "    <tr>\n",
       "      <th>8796</th>\n",
       "      <td>16551</td>\n",
       "      <td>Remote Control</td>\n",
       "      <td>Thriller</td>\n",
       "      <td>The series follows the character of Nick Ston...</td>\n",
       "    </tr>\n",
       "    <tr>\n",
       "      <th>8797</th>\n",
       "      <td>16555</td>\n",
       "      <td>Transfer of Power</td>\n",
       "      <td>Thriller</td>\n",
       "      <td>The reader first meets Rapp while he is doing...</td>\n",
       "    </tr>\n",
       "    <tr>\n",
       "      <th>8798</th>\n",
       "      <td>16556</td>\n",
       "      <td>Decoded</td>\n",
       "      <td>autobiography</td>\n",
       "      <td>The book follows very rough chronological ord...</td>\n",
       "    </tr>\n",
       "  </tbody>\n",
       "</table>\n",
       "<p>8799 rows × 4 columns</p>\n",
       "</div>"
      ],
      "text/plain": [
       "      Unnamed: 0                                         Name  \\\n",
       "0              1                           A Clockwork Orange   \n",
       "1              6                         A Wizard of Earthsea   \n",
       "2              8              Blade Runner 3: Replicant Night   \n",
       "3              9            Blade Runner 2: The Edge of Human   \n",
       "4             21                             Children of Dune   \n",
       "...          ...                                          ...   \n",
       "8794       16541  Nevermore: The Final Maximum Ride Adventure   \n",
       "8795       16542                        The Bourne Imperative   \n",
       "8796       16551                               Remote Control   \n",
       "8797       16555                            Transfer of Power   \n",
       "8798       16556                                      Decoded   \n",
       "\n",
       "                      Genres  \\\n",
       "0            Science Fiction   \n",
       "1      Children's literature   \n",
       "2            Science Fiction   \n",
       "3            Science Fiction   \n",
       "4            Science Fiction   \n",
       "...                      ...   \n",
       "8794  Young adult literature   \n",
       "8795                Thriller   \n",
       "8796                Thriller   \n",
       "8797                Thriller   \n",
       "8798           autobiography   \n",
       "\n",
       "                                                Summary  \n",
       "0      Alex, a teenager living in near-future Englan...  \n",
       "1      Ged is a young boy on Gont, one of the larger...  \n",
       "2      Living on Mars, Deckard is acting as a consul...  \n",
       "3      Beginning several months after the events in ...  \n",
       "4      Nine years after Emperor Paul Muad'dib walked...  \n",
       "...                                                 ...  \n",
       "8794   The prologue is Angel's vision of Max's death...  \n",
       "8795   :For a more detailed background of the main c...  \n",
       "8796   The series follows the character of Nick Ston...  \n",
       "8797   The reader first meets Rapp while he is doing...  \n",
       "8798   The book follows very rough chronological ord...  \n",
       "\n",
       "[8799 rows x 4 columns]"
      ]
     },
     "execution_count": 176,
     "metadata": {},
     "output_type": "execute_result"
    }
   ],
   "source": [
    "df=pd.read_csv('ds_beforeduplication.csv')\n",
    "# df=pd.read_csv('booksum_preprocessed.csv')\n",
    "# df=pd.read_csv('booksumm_org.csv')\n",
    "df"
   ]
  },
  {
   "cell_type": "code",
   "execution_count": 3,
   "metadata": {},
   "outputs": [
    {
     "data": {
      "text/plain": [
       "fiction                   1615\n",
       "Children's literature     1152\n",
       "Science Fiction            999\n",
       "Novel                      925\n",
       "Mystery                    734\n",
       "historical                 727\n",
       "Fantasy                    624\n",
       "Thriller                   568\n",
       "Young adult literature     321\n",
       "comedy                     174\n",
       "autobiography              170\n",
       "Non-fiction                166\n",
       "Spy fiction                112\n",
       "Horror                      88\n",
       "Romance novel               68\n",
       "Adventure novel             60\n",
       "Picture book                49\n",
       "Memoir                      43\n",
       "Biography                   39\n",
       "Techno-thriller             37\n",
       "Short story                 36\n",
       "Literary fiction            27\n",
       "Philosophy                  23\n",
       "Urban fantasy               22\n",
       "Sword and sorcery           20\n",
       "Name: Genres, dtype: int64"
      ]
     },
     "execution_count": 3,
     "metadata": {},
     "output_type": "execute_result"
    }
   ],
   "source": [
    "df.Genres.value_counts()"
   ]
  },
  {
   "cell_type": "code",
   "execution_count": 10,
   "metadata": {},
   "outputs": [],
   "source": [
    "import random\n",
    "from random import shuffle\n",
    "stop_words = set(stopwords.words('english'))\n",
    "from nltk.corpus import wordnet"
   ]
  },
  {
   "cell_type": "code",
   "execution_count": 45,
   "metadata": {},
   "outputs": [],
   "source": [
    "def synonym_replacement(words, n):\n",
    "\tnew_words = words.copy()\n",
    "\trandom_word_list = list(set([word for word in words if word not in stop_words]))\n",
    "\trandom.shuffle(random_word_list)\n",
    "\tnum_replaced = 0\n",
    "\tfor random_word in random_word_list:\n",
    "\t\tsynonyms = get_synonyms(random_word)\n",
    "\t\tif len(synonyms) >= 1:\n",
    "\t\t\tsynonym = random.choice(list(synonyms))\n",
    "\t\t\tnew_words = [synonym if word == random_word else word for word in new_words]\n",
    "\t\t\t#print(\"replaced\", random_word, \"with\", synonym)\n",
    "\t\t\tnum_replaced += 1\n",
    "\t\tif num_replaced >= n: #only replace up to n words\n",
    "\t\t\tbreak\n",
    "\n",
    "\t#this is stupid but we need it, trust me\n",
    "\tsentence = ' '.join(new_words)\n",
    "\tnew_words = sentence.split(' ')\n",
    "\n",
    "\treturn new_words\n",
    "\n",
    "def get_synonyms(word):\n",
    "\tsynonyms = set()\n",
    "\tfor syn in wordnet.synsets(word): \n",
    "\t\tfor l in syn.lemmas(): \n",
    "\t\t\tsynonym = l.name().replace(\"_\", \" \").replace(\"-\", \" \").lower()\n",
    "\t\t\tsynonym = \"\".join([char for char in synonym if char in ' qwertyuiopasdfghjklzxcvbnm'])\n",
    "\t\t\tsynonyms.add(synonym) \n",
    "\tif word in synonyms:\n",
    "\t\tsynonyms.remove(word)\n",
    "\treturn list(synonyms)"
   ]
  },
  {
   "cell_type": "code",
   "execution_count": 14,
   "metadata": {},
   "outputs": [
    {
     "data": {
      "text/plain": [
       "['howdy', 'moderately', 'slimy', 'cloud', 'both', 'how']"
      ]
     },
     "execution_count": 14,
     "metadata": {},
     "output_type": "execute_result"
    }
   ],
   "source": [
    "synonym_replacement(['hello','pretty','ugly','cloud','both','how'],3)"
   ]
  },
  {
   "cell_type": "code",
   "execution_count": 79,
   "metadata": {},
   "outputs": [],
   "source": [
    "glist2=[\"Horror\",\n",
    "\"Romance novel\",\n",
    "\"Adventure novel\",\n",
    "\"Picture book\",\n",
    "\"Memoir\",\n",
    "\"Biography\",\n",
    "\"Techno-thriller\",\n",
    "\"Short story\",\n",
    "\"Literary fiction\",\n",
    "\"Philosophy\",\n",
    "\"Urban fantasy\",\n",
    "\"Sword and sorcery\",\n",
    "\n",
    "]\n",
    "\n",
    "glist3=[\n",
    " 'comedy',\n",
    " 'autobiography',\n",
    " 'Non-fiction',\n",
    " 'Spy fiction']\n",
    "glist4=['Young adult literature',\n",
    " 'Mystery',\n",
    " 'historical',\n",
    " 'Fantasy',\n",
    " 'Thriller',]\n",
    "\n"
   ]
  },
  {
   "cell_type": "code",
   "execution_count": 89,
   "metadata": {},
   "outputs": [],
   "source": [
    "def applysynonym(row):\n",
    "#     row=row1[3]\n",
    "#     row1=temp.loc[row1]\n",
    "#     print(row)\n",
    "    words=word_tokenize(row)\n",
    "    n=len(words)\n",
    "    res=synonym_replacement(words,n//10)\n",
    "    return ' '.join(res)"
   ]
  },
  {
   "cell_type": "code",
   "execution_count": 97,
   "metadata": {},
   "outputs": [],
   "source": [
    "def augmentdata(g,n):\n",
    "    global df\n",
    "    temp=df[df.Genres==g]\n",
    "    temp1=temp\n",
    "    for i in range(n):\n",
    "        temp1.Summary=temp.Summary.apply(applysynonym)\n",
    "        df=df.append(temp1,ignore_index=True)\n",
    "    return"
   ]
  },
  {
   "cell_type": "code",
   "execution_count": 84,
   "metadata": {},
   "outputs": [
    {
     "data": {
      "text/html": [
       "<div>\n",
       "<style scoped>\n",
       "    .dataframe tbody tr th:only-of-type {\n",
       "        vertical-align: middle;\n",
       "    }\n",
       "\n",
       "    .dataframe tbody tr th {\n",
       "        vertical-align: top;\n",
       "    }\n",
       "\n",
       "    .dataframe thead th {\n",
       "        text-align: right;\n",
       "    }\n",
       "</style>\n",
       "<table border=\"1\" class=\"dataframe\">\n",
       "  <thead>\n",
       "    <tr style=\"text-align: right;\">\n",
       "      <th></th>\n",
       "      <th>Unnamed: 0</th>\n",
       "      <th>Name</th>\n",
       "      <th>Genres</th>\n",
       "      <th>Summary</th>\n",
       "    </tr>\n",
       "  </thead>\n",
       "  <tbody>\n",
       "    <tr>\n",
       "      <th>0</th>\n",
       "      <td>1</td>\n",
       "      <td>A Clockwork Orange</td>\n",
       "      <td>Science Fiction</td>\n",
       "      <td>Alex, a teenager living in near-future Englan...</td>\n",
       "    </tr>\n",
       "    <tr>\n",
       "      <th>1</th>\n",
       "      <td>6</td>\n",
       "      <td>A Wizard of Earthsea</td>\n",
       "      <td>Children's literature</td>\n",
       "      <td>Ged is a young boy on Gont, one of the larger...</td>\n",
       "    </tr>\n",
       "    <tr>\n",
       "      <th>2</th>\n",
       "      <td>8</td>\n",
       "      <td>Blade Runner 3: Replicant Night</td>\n",
       "      <td>Science Fiction</td>\n",
       "      <td>Living on Mars, Deckard is acting as a consul...</td>\n",
       "    </tr>\n",
       "    <tr>\n",
       "      <th>3</th>\n",
       "      <td>9</td>\n",
       "      <td>Blade Runner 2: The Edge of Human</td>\n",
       "      <td>Science Fiction</td>\n",
       "      <td>Beginning several months after the events in ...</td>\n",
       "    </tr>\n",
       "    <tr>\n",
       "      <th>4</th>\n",
       "      <td>21</td>\n",
       "      <td>Children of Dune</td>\n",
       "      <td>Science Fiction</td>\n",
       "      <td>Nine years after Emperor Paul Muad'dib walked...</td>\n",
       "    </tr>\n",
       "    <tr>\n",
       "      <th>...</th>\n",
       "      <td>...</td>\n",
       "      <td>...</td>\n",
       "      <td>...</td>\n",
       "      <td>...</td>\n",
       "    </tr>\n",
       "    <tr>\n",
       "      <th>8794</th>\n",
       "      <td>16541</td>\n",
       "      <td>Nevermore: The Final Maximum Ride Adventure</td>\n",
       "      <td>Young adult literature</td>\n",
       "      <td>The prologue is Angel's vision of Max's death...</td>\n",
       "    </tr>\n",
       "    <tr>\n",
       "      <th>8795</th>\n",
       "      <td>16542</td>\n",
       "      <td>The Bourne Imperative</td>\n",
       "      <td>Thriller</td>\n",
       "      <td>:For a more detailed background of the main c...</td>\n",
       "    </tr>\n",
       "    <tr>\n",
       "      <th>8796</th>\n",
       "      <td>16551</td>\n",
       "      <td>Remote Control</td>\n",
       "      <td>Thriller</td>\n",
       "      <td>The series follows the character of Nick Ston...</td>\n",
       "    </tr>\n",
       "    <tr>\n",
       "      <th>8797</th>\n",
       "      <td>16555</td>\n",
       "      <td>Transfer of Power</td>\n",
       "      <td>Thriller</td>\n",
       "      <td>The reader first meets Rapp while he is doing...</td>\n",
       "    </tr>\n",
       "    <tr>\n",
       "      <th>8798</th>\n",
       "      <td>16556</td>\n",
       "      <td>Decoded</td>\n",
       "      <td>autobiography</td>\n",
       "      <td>The book follows very rough chronological ord...</td>\n",
       "    </tr>\n",
       "  </tbody>\n",
       "</table>\n",
       "<p>8799 rows × 4 columns</p>\n",
       "</div>"
      ],
      "text/plain": [
       "      Unnamed: 0                                         Name  \\\n",
       "0              1                           A Clockwork Orange   \n",
       "1              6                         A Wizard of Earthsea   \n",
       "2              8              Blade Runner 3: Replicant Night   \n",
       "3              9            Blade Runner 2: The Edge of Human   \n",
       "4             21                             Children of Dune   \n",
       "...          ...                                          ...   \n",
       "8794       16541  Nevermore: The Final Maximum Ride Adventure   \n",
       "8795       16542                        The Bourne Imperative   \n",
       "8796       16551                               Remote Control   \n",
       "8797       16555                            Transfer of Power   \n",
       "8798       16556                                      Decoded   \n",
       "\n",
       "                      Genres  \\\n",
       "0            Science Fiction   \n",
       "1      Children's literature   \n",
       "2            Science Fiction   \n",
       "3            Science Fiction   \n",
       "4            Science Fiction   \n",
       "...                      ...   \n",
       "8794  Young adult literature   \n",
       "8795                Thriller   \n",
       "8796                Thriller   \n",
       "8797                Thriller   \n",
       "8798           autobiography   \n",
       "\n",
       "                                                Summary  \n",
       "0      Alex, a teenager living in near-future Englan...  \n",
       "1      Ged is a young boy on Gont, one of the larger...  \n",
       "2      Living on Mars, Deckard is acting as a consul...  \n",
       "3      Beginning several months after the events in ...  \n",
       "4      Nine years after Emperor Paul Muad'dib walked...  \n",
       "...                                                 ...  \n",
       "8794   The prologue is Angel's vision of Max's death...  \n",
       "8795   :For a more detailed background of the main c...  \n",
       "8796   The series follows the character of Nick Ston...  \n",
       "8797   The reader first meets Rapp while he is doing...  \n",
       "8798   The book follows very rough chronological ord...  \n",
       "\n",
       "[8799 rows x 4 columns]"
      ]
     },
     "execution_count": 84,
     "metadata": {},
     "output_type": "execute_result"
    }
   ],
   "source": [
    "df"
   ]
  },
  {
   "cell_type": "code",
   "execution_count": 103,
   "metadata": {},
   "outputs": [
    {
     "name": "stderr",
     "output_type": "stream",
     "text": [
      "100%|████████████████████████████████████████████████████████████████████████████████████| 4/4 [02:00<00:00, 30.19s/it]\n",
      "100%|████████████████████████████████████████████████████████████████████████████████████| 5/5 [01:00<00:00, 12.19s/it]\n"
     ]
    },
    {
     "data": {
      "text/html": [
       "<div>\n",
       "<style scoped>\n",
       "    .dataframe tbody tr th:only-of-type {\n",
       "        vertical-align: middle;\n",
       "    }\n",
       "\n",
       "    .dataframe tbody tr th {\n",
       "        vertical-align: top;\n",
       "    }\n",
       "\n",
       "    .dataframe thead th {\n",
       "        text-align: right;\n",
       "    }\n",
       "</style>\n",
       "<table border=\"1\" class=\"dataframe\">\n",
       "  <thead>\n",
       "    <tr style=\"text-align: right;\">\n",
       "      <th></th>\n",
       "      <th>Unnamed: 0</th>\n",
       "      <th>Name</th>\n",
       "      <th>Genres</th>\n",
       "      <th>Summary</th>\n",
       "    </tr>\n",
       "  </thead>\n",
       "  <tbody>\n",
       "    <tr>\n",
       "      <th>0</th>\n",
       "      <td>1</td>\n",
       "      <td>A Clockwork Orange</td>\n",
       "      <td>Science Fiction</td>\n",
       "      <td>Alex, a teenager living in near-future Englan...</td>\n",
       "    </tr>\n",
       "    <tr>\n",
       "      <th>1</th>\n",
       "      <td>6</td>\n",
       "      <td>A Wizard of Earthsea</td>\n",
       "      <td>Children's literature</td>\n",
       "      <td>Ged is a young boy on Gont, one of the larger...</td>\n",
       "    </tr>\n",
       "    <tr>\n",
       "      <th>2</th>\n",
       "      <td>8</td>\n",
       "      <td>Blade Runner 3: Replicant Night</td>\n",
       "      <td>Science Fiction</td>\n",
       "      <td>Living on Mars, Deckard is acting as a consul...</td>\n",
       "    </tr>\n",
       "    <tr>\n",
       "      <th>3</th>\n",
       "      <td>9</td>\n",
       "      <td>Blade Runner 2: The Edge of Human</td>\n",
       "      <td>Science Fiction</td>\n",
       "      <td>Beginning several months after the events in ...</td>\n",
       "    </tr>\n",
       "    <tr>\n",
       "      <th>4</th>\n",
       "      <td>21</td>\n",
       "      <td>Children of Dune</td>\n",
       "      <td>Science Fiction</td>\n",
       "      <td>Nine years after Emperor Paul Muad'dib walked...</td>\n",
       "    </tr>\n",
       "    <tr>\n",
       "      <th>...</th>\n",
       "      <td>...</td>\n",
       "      <td>...</td>\n",
       "      <td>...</td>\n",
       "      <td>...</td>\n",
       "    </tr>\n",
       "    <tr>\n",
       "      <th>21864</th>\n",
       "      <td>16414</td>\n",
       "      <td>Carver</td>\n",
       "      <td>Thriller</td>\n",
       "      <td>The exchange character , Samuel carver , is an...</td>\n",
       "    </tr>\n",
       "    <tr>\n",
       "      <th>21865</th>\n",
       "      <td>16442</td>\n",
       "      <td>Rabies</td>\n",
       "      <td>Thriller</td>\n",
       "      <td>determined in early 1980s , during the height ...</td>\n",
       "    </tr>\n",
       "    <tr>\n",
       "      <th>21866</th>\n",
       "      <td>16542</td>\n",
       "      <td>The Bourne Imperative</td>\n",
       "      <td>Thriller</td>\n",
       "      <td>: For a more detailed background of the main c...</td>\n",
       "    </tr>\n",
       "    <tr>\n",
       "      <th>21867</th>\n",
       "      <td>16551</td>\n",
       "      <td>Remote Control</td>\n",
       "      <td>Thriller</td>\n",
       "      <td>The series follows the character of dent Stone...</td>\n",
       "    </tr>\n",
       "    <tr>\n",
       "      <th>21868</th>\n",
       "      <td>16555</td>\n",
       "      <td>Transfer of Power</td>\n",
       "      <td>Thriller</td>\n",
       "      <td>The lector offset meets Rapp while he is doing...</td>\n",
       "    </tr>\n",
       "  </tbody>\n",
       "</table>\n",
       "<p>21869 rows × 4 columns</p>\n",
       "</div>"
      ],
      "text/plain": [
       "       Unnamed: 0                               Name                 Genres  \\\n",
       "0               1                 A Clockwork Orange        Science Fiction   \n",
       "1               6               A Wizard of Earthsea  Children's literature   \n",
       "2               8    Blade Runner 3: Replicant Night        Science Fiction   \n",
       "3               9  Blade Runner 2: The Edge of Human        Science Fiction   \n",
       "4              21                   Children of Dune        Science Fiction   \n",
       "...           ...                                ...                    ...   \n",
       "21864       16414                             Carver               Thriller   \n",
       "21865       16442                             Rabies               Thriller   \n",
       "21866       16542              The Bourne Imperative               Thriller   \n",
       "21867       16551                     Remote Control               Thriller   \n",
       "21868       16555                  Transfer of Power               Thriller   \n",
       "\n",
       "                                                 Summary  \n",
       "0       Alex, a teenager living in near-future Englan...  \n",
       "1       Ged is a young boy on Gont, one of the larger...  \n",
       "2       Living on Mars, Deckard is acting as a consul...  \n",
       "3       Beginning several months after the events in ...  \n",
       "4       Nine years after Emperor Paul Muad'dib walked...  \n",
       "...                                                  ...  \n",
       "21864  The exchange character , Samuel carver , is an...  \n",
       "21865  determined in early 1980s , during the height ...  \n",
       "21866  : For a more detailed background of the main c...  \n",
       "21867  The series follows the character of dent Stone...  \n",
       "21868  The lector offset meets Rapp while he is doing...  \n",
       "\n",
       "[21869 rows x 4 columns]"
      ]
     },
     "execution_count": 103,
     "metadata": {},
     "output_type": "execute_result"
    }
   ],
   "source": [
    "for g in glist2:\n",
    "    augmentdata(g,10)\n",
    "\n",
    "for g in tqdm(glist3):\n",
    "    augmentdata(g,8)\n",
    "\n",
    "for g in tqdm(glist4):\n",
    "    augmentdata(g,1)\n",
    "\n",
    "# for g in glist2:\n",
    "#     df_try=df[df.Genres==g]\n",
    "#     df=df.append([df_try]*10,ignore_index=True)\n",
    "\n",
    "# for g in glist4:\n",
    "#     df_try=df[df.Genres==g]\n",
    "#     df=df.append([df_try]*2,ignore_index=True)\n",
    "\n",
    "df"
   ]
  },
  {
   "cell_type": "code",
   "execution_count": 91,
   "metadata": {},
   "outputs": [],
   "source": []
  },
  {
   "cell_type": "code",
   "execution_count": 104,
   "metadata": {},
   "outputs": [
    {
     "data": {
      "text/plain": [
       "fiction                   1615\n",
       "comedy                    1566\n",
       "autobiography             1530\n",
       "Non-fiction               1494\n",
       "Mystery                   1468\n",
       "historical                1454\n",
       "Fantasy                   1248\n",
       "Children's literature     1152\n",
       "Thriller                  1136\n",
       "Spy fiction               1008\n",
       "Science Fiction            999\n",
       "Horror                     968\n",
       "Novel                      925\n",
       "Romance novel              748\n",
       "Adventure novel            660\n",
       "Young adult literature     642\n",
       "Picture book               539\n",
       "Memoir                     473\n",
       "Biography                  429\n",
       "Techno-thriller            407\n",
       "Short story                396\n",
       "Literary fiction           297\n",
       "Philosophy                 253\n",
       "Urban fantasy              242\n",
       "Sword and sorcery          220\n",
       "Name: Genres, dtype: int64"
      ]
     },
     "execution_count": 104,
     "metadata": {},
     "output_type": "execute_result"
    }
   ],
   "source": [
    "df.Genres.value_counts()"
   ]
  },
  {
   "cell_type": "code",
   "execution_count": 105,
   "metadata": {},
   "outputs": [],
   "source": [
    "\n",
    "def remove_stopwords(data):\n",
    "    stop_words = set(stopwords.words('english'))\n",
    "\n",
    "    word_tokens = word_tokenize(str(data))\n",
    "    \n",
    "    filtered_data = \"\"\n",
    "    \n",
    "    for w in word_tokens:\n",
    "        if w not in stop_words and len(w)>1:\n",
    "            filtered_data=filtered_data+\" \"+w\n",
    "    return filtered_data\n",
    "    \n",
    "def remove_punctuation(data):\n",
    "    marks=\"~!@#$%^&*()_+=-`[]\\;'./{}|:<>?\"\"'\\n\"\n",
    "    \n",
    "    for i in marks:\n",
    "        data=np.char.replace(data,i,' ')\n",
    "        data=np.char.replace(data,\"  \",\" \")\n",
    "    \n",
    "    data=np.char.replace(data,\",\",'')\n",
    "    return data\n",
    "\n",
    "def remove_apostrophe(data):\n",
    "    return np.char.replace(data, \"'\", \"\")\n",
    "\n",
    "\n",
    "def stemming(data):\n",
    "    stemmer= PorterStemmer()\n",
    "    \n",
    "    tokens = word_tokenize(str(data))\n",
    "    \n",
    "    new_text = \"\"\n",
    "    \n",
    "    for w in tokens:\n",
    "        new_text = new_text + \" \" + stemmer.stem(w)\n",
    "    \n",
    "    return new_text\n",
    "\n",
    "def lemmatize(data):\n",
    "    wnl=WordNetLemmatizer()\n",
    "    tokens = word_tokenize(str(data))\n",
    "    \n",
    "    new_text = \"\"\n",
    "    \n",
    "    for w in tokens:\n",
    "        new_text = new_text + \" \" + wnl.lemmatize(w)\n",
    "    \n",
    "    return new_text\n",
    "\n",
    "\n",
    "def convert_numbers(data):\n",
    "    tokens = word_tokenize(str(data))\n",
    "    new_text = \"\"\n",
    "    for w in tokens:\n",
    "        \n",
    "        try:\n",
    "            w = num2words(int(w))\n",
    "        except:\n",
    "            a = 0\n",
    "        new_text = new_text + \" \" + w\n",
    "    new_text = np.char.replace(new_text, \"-\", \" \")\n",
    "    return new_text\n",
    "\n",
    "def preprocess(data):\n",
    "    data=np.char.lower(data)\n",
    "    \n",
    "    data = remove_punctuation(data) #remove comma seperately\n",
    "    \n",
    "    data = remove_apostrophe(data)\n",
    "    \n",
    "    data = remove_stopwords(data)\n",
    "    \n",
    "    data = convert_numbers(data)\n",
    "    \n",
    "    data = stemming(data)\n",
    "    \n",
    "    data = remove_punctuation(data)\n",
    "    data = convert_numbers(data)\n",
    "    data = stemming(data) #needed again as we need to stem the words\n",
    "    data = remove_punctuation(data) #needed again as num2word is giving few hypens and commas fourty-one\n",
    "    data = remove_stopwords(data) #needed again as num2word is giving stop words 101 - one hundred and one\n",
    "    return data\n",
    "\n",
    "\n",
    "def preprocesswithoutstem(data):\n",
    "    data=np.char.lower(data)\n",
    "    \n",
    "    data = remove_punctuation(data) #remove comma seperately\n",
    "    \n",
    "    data = remove_apostrophe(data)\n",
    "    \n",
    "    data = remove_stopwords(data)\n",
    "    \n",
    "    data = convert_numbers(data)\n",
    "    \n",
    "#     data = stemming(data)\n",
    "    \n",
    "    data = remove_punctuation(data)\n",
    "#     data = stemming(data) #needed again as we need to stem the words\n",
    "#     data = remove_punctuation(data)\n",
    "    data = convert_numbers(data)\n",
    "    data = remove_stopwords(data) #needed again as num2word is giving stop words 101 - one hundred and one\n",
    "    return data\n"
   ]
  },
  {
   "cell_type": "code",
   "execution_count": 107,
   "metadata": {
    "scrolled": true
   },
   "outputs": [
    {
     "data": {
      "text/html": [
       "<div>\n",
       "<style scoped>\n",
       "    .dataframe tbody tr th:only-of-type {\n",
       "        vertical-align: middle;\n",
       "    }\n",
       "\n",
       "    .dataframe tbody tr th {\n",
       "        vertical-align: top;\n",
       "    }\n",
       "\n",
       "    .dataframe thead th {\n",
       "        text-align: right;\n",
       "    }\n",
       "</style>\n",
       "<table border=\"1\" class=\"dataframe\">\n",
       "  <thead>\n",
       "    <tr style=\"text-align: right;\">\n",
       "      <th></th>\n",
       "      <th>Unnamed: 0</th>\n",
       "      <th>Name</th>\n",
       "      <th>Genres</th>\n",
       "      <th>Summary</th>\n",
       "    </tr>\n",
       "  </thead>\n",
       "  <tbody>\n",
       "    <tr>\n",
       "      <th>0</th>\n",
       "      <td>1</td>\n",
       "      <td>A Clockwork Orange</td>\n",
       "      <td>Science Fiction</td>\n",
       "      <td>alex teenager living near future england lead...</td>\n",
       "    </tr>\n",
       "    <tr>\n",
       "      <th>1</th>\n",
       "      <td>6</td>\n",
       "      <td>A Wizard of Earthsea</td>\n",
       "      <td>Children's literature</td>\n",
       "      <td>ged young boy gont one larger islands north a...</td>\n",
       "    </tr>\n",
       "    <tr>\n",
       "      <th>2</th>\n",
       "      <td>8</td>\n",
       "      <td>Blade Runner 3: Replicant Night</td>\n",
       "      <td>Science Fiction</td>\n",
       "      <td>living mars deckard acting consultant movie c...</td>\n",
       "    </tr>\n",
       "    <tr>\n",
       "      <th>3</th>\n",
       "      <td>9</td>\n",
       "      <td>Blade Runner 2: The Edge of Human</td>\n",
       "      <td>Science Fiction</td>\n",
       "      <td>beginning several months events blade runner ...</td>\n",
       "    </tr>\n",
       "    <tr>\n",
       "      <th>4</th>\n",
       "      <td>21</td>\n",
       "      <td>Children of Dune</td>\n",
       "      <td>Science Fiction</td>\n",
       "      <td>nine years emperor paul muad dib walked deser...</td>\n",
       "    </tr>\n",
       "    <tr>\n",
       "      <th>...</th>\n",
       "      <td>...</td>\n",
       "      <td>...</td>\n",
       "      <td>...</td>\n",
       "      <td>...</td>\n",
       "    </tr>\n",
       "    <tr>\n",
       "      <th>21864</th>\n",
       "      <td>16414</td>\n",
       "      <td>Carver</td>\n",
       "      <td>Thriller</td>\n",
       "      <td>exchange character samuel carver ex assassin ...</td>\n",
       "    </tr>\n",
       "    <tr>\n",
       "      <th>21865</th>\n",
       "      <td>16442</td>\n",
       "      <td>Rabies</td>\n",
       "      <td>Thriller</td>\n",
       "      <td>determined early 1980s height cold warfare no...</td>\n",
       "    </tr>\n",
       "    <tr>\n",
       "      <th>21866</th>\n",
       "      <td>16542</td>\n",
       "      <td>The Bourne Imperative</td>\n",
       "      <td>Thriller</td>\n",
       "      <td>detailed background main character see jason ...</td>\n",
       "    </tr>\n",
       "    <tr>\n",
       "      <th>21867</th>\n",
       "      <td>16551</td>\n",
       "      <td>Remote Control</td>\n",
       "      <td>Thriller</td>\n",
       "      <td>series follows character dent stone ex milita...</td>\n",
       "    </tr>\n",
       "    <tr>\n",
       "      <th>21868</th>\n",
       "      <td>16555</td>\n",
       "      <td>Transfer of Power</td>\n",
       "      <td>Thriller</td>\n",
       "      <td>lector offset meets rapp covert operation ira...</td>\n",
       "    </tr>\n",
       "  </tbody>\n",
       "</table>\n",
       "<p>21869 rows × 4 columns</p>\n",
       "</div>"
      ],
      "text/plain": [
       "       Unnamed: 0                               Name                 Genres  \\\n",
       "0               1                 A Clockwork Orange        Science Fiction   \n",
       "1               6               A Wizard of Earthsea  Children's literature   \n",
       "2               8    Blade Runner 3: Replicant Night        Science Fiction   \n",
       "3               9  Blade Runner 2: The Edge of Human        Science Fiction   \n",
       "4              21                   Children of Dune        Science Fiction   \n",
       "...           ...                                ...                    ...   \n",
       "21864       16414                             Carver               Thriller   \n",
       "21865       16442                             Rabies               Thriller   \n",
       "21866       16542              The Bourne Imperative               Thriller   \n",
       "21867       16551                     Remote Control               Thriller   \n",
       "21868       16555                  Transfer of Power               Thriller   \n",
       "\n",
       "                                                 Summary  \n",
       "0       alex teenager living near future england lead...  \n",
       "1       ged young boy gont one larger islands north a...  \n",
       "2       living mars deckard acting consultant movie c...  \n",
       "3       beginning several months events blade runner ...  \n",
       "4       nine years emperor paul muad dib walked deser...  \n",
       "...                                                  ...  \n",
       "21864   exchange character samuel carver ex assassin ...  \n",
       "21865   determined early 1980s height cold warfare no...  \n",
       "21866   detailed background main character see jason ...  \n",
       "21867   series follows character dent stone ex milita...  \n",
       "21868   lector offset meets rapp covert operation ira...  \n",
       "\n",
       "[21869 rows x 4 columns]"
      ]
     },
     "execution_count": 107,
     "metadata": {},
     "output_type": "execute_result"
    }
   ],
   "source": [
    "df.Summary=df.Summary.apply(preprocesswithoutstem)\n",
    "df"
   ]
  },
  {
   "cell_type": "markdown",
   "metadata": {},
   "source": [
    "# Classifying on augemented data"
   ]
  },
  {
   "cell_type": "code",
   "execution_count": 178,
   "metadata": {},
   "outputs": [],
   "source": [
    "df=pd.read_csv('augmented_data.csv')"
   ]
  },
  {
   "cell_type": "code",
   "execution_count": 179,
   "metadata": {},
   "outputs": [],
   "source": [
    "X=df.Summary\n",
    "Y=list(df.Genres)\n"
   ]
  },
  {
   "cell_type": "code",
   "execution_count": 5,
   "metadata": {},
   "outputs": [],
   "source": [
    "from sklearn.model_selection import train_test_split\n",
    "from sklearn.metrics import accuracy_score, confusion_matrix\n"
   ]
  },
  {
   "cell_type": "code",
   "execution_count": 181,
   "metadata": {},
   "outputs": [],
   "source": [
    "X_train, X_test, Y_train, Y_test = train_test_split(X, Y, test_size=0.3, random_state = 42)"
   ]
  },
  {
   "cell_type": "code",
   "execution_count": 6,
   "metadata": {},
   "outputs": [],
   "source": [
    "from sklearn.naive_bayes import MultinomialNB\n",
    "from sklearn.pipeline import Pipeline\n",
    "from sklearn.feature_extraction.text import CountVectorizer, TfidfVectorizer\n",
    "from sklearn.feature_extraction.text import TfidfTransformer\n",
    "from sklearn.decomposition import PCA,TruncatedSVD\n",
    "from sklearn.preprocessing import normalize,StandardScaler,MinMaxScaler"
   ]
  },
  {
   "cell_type": "code",
   "execution_count": 185,
   "metadata": {
    "scrolled": true
   },
   "outputs": [
    {
     "ename": "MemoryError",
     "evalue": "Unable to allocate 1.03 GiB for an array with shape (5555505, 25) and data type float64",
     "output_type": "error",
     "traceback": [
      "\u001b[1;31m---------------------------------------------------------------------------\u001b[0m",
      "\u001b[1;31mMemoryError\u001b[0m                               Traceback (most recent call last)",
      "\u001b[1;32m<ipython-input-185-994988fd6dbe>\u001b[0m in \u001b[0;36m<module>\u001b[1;34m\u001b[0m\n\u001b[0;32m     13\u001b[0m                \u001b[1;33m(\u001b[0m\u001b[1;34m'clf'\u001b[0m\u001b[1;33m,\u001b[0m \u001b[0mMultinomialNB\u001b[0m\u001b[1;33m(\u001b[0m\u001b[1;33m)\u001b[0m\u001b[1;33m)\u001b[0m\u001b[1;33m,\u001b[0m\u001b[1;33m\u001b[0m\u001b[1;33m\u001b[0m\u001b[0m\n\u001b[0;32m     14\u001b[0m               ])\n\u001b[1;32m---> 15\u001b[1;33m \u001b[0mnb\u001b[0m\u001b[1;33m.\u001b[0m\u001b[0mfit\u001b[0m\u001b[1;33m(\u001b[0m\u001b[0mX_train\u001b[0m\u001b[1;33m,\u001b[0m \u001b[0mY_train\u001b[0m\u001b[1;33m)\u001b[0m\u001b[1;33m\u001b[0m\u001b[1;33m\u001b[0m\u001b[0m\n\u001b[0m",
      "\u001b[1;32mc:\\users\\ghata\\appdata\\local\\programs\\python\\python37\\lib\\site-packages\\sklearn\\pipeline.py\u001b[0m in \u001b[0;36mfit\u001b[1;34m(self, X, y, **fit_params)\u001b[0m\n\u001b[0;32m    352\u001b[0m                                  self._log_message(len(self.steps) - 1)):\n\u001b[0;32m    353\u001b[0m             \u001b[1;32mif\u001b[0m \u001b[0mself\u001b[0m\u001b[1;33m.\u001b[0m\u001b[0m_final_estimator\u001b[0m \u001b[1;33m!=\u001b[0m \u001b[1;34m'passthrough'\u001b[0m\u001b[1;33m:\u001b[0m\u001b[1;33m\u001b[0m\u001b[1;33m\u001b[0m\u001b[0m\n\u001b[1;32m--> 354\u001b[1;33m                 \u001b[0mself\u001b[0m\u001b[1;33m.\u001b[0m\u001b[0m_final_estimator\u001b[0m\u001b[1;33m.\u001b[0m\u001b[0mfit\u001b[0m\u001b[1;33m(\u001b[0m\u001b[0mXt\u001b[0m\u001b[1;33m,\u001b[0m \u001b[0my\u001b[0m\u001b[1;33m,\u001b[0m \u001b[1;33m**\u001b[0m\u001b[0mfit_params\u001b[0m\u001b[1;33m)\u001b[0m\u001b[1;33m\u001b[0m\u001b[1;33m\u001b[0m\u001b[0m\n\u001b[0m\u001b[0;32m    355\u001b[0m         \u001b[1;32mreturn\u001b[0m \u001b[0mself\u001b[0m\u001b[1;33m\u001b[0m\u001b[1;33m\u001b[0m\u001b[0m\n\u001b[0;32m    356\u001b[0m \u001b[1;33m\u001b[0m\u001b[0m\n",
      "\u001b[1;32mc:\\users\\ghata\\appdata\\local\\programs\\python\\python37\\lib\\site-packages\\sklearn\\naive_bayes.py\u001b[0m in \u001b[0;36mfit\u001b[1;34m(self, X, y, sample_weight)\u001b[0m\n\u001b[0;32m    633\u001b[0m \u001b[1;33m\u001b[0m\u001b[0m\n\u001b[0;32m    634\u001b[0m         \u001b[0mself\u001b[0m\u001b[1;33m.\u001b[0m\u001b[0m_init_counters\u001b[0m\u001b[1;33m(\u001b[0m\u001b[0mn_effective_classes\u001b[0m\u001b[1;33m,\u001b[0m \u001b[0mn_features\u001b[0m\u001b[1;33m)\u001b[0m\u001b[1;33m\u001b[0m\u001b[1;33m\u001b[0m\u001b[0m\n\u001b[1;32m--> 635\u001b[1;33m         \u001b[0mself\u001b[0m\u001b[1;33m.\u001b[0m\u001b[0m_count\u001b[0m\u001b[1;33m(\u001b[0m\u001b[0mX\u001b[0m\u001b[1;33m,\u001b[0m \u001b[0mY\u001b[0m\u001b[1;33m)\u001b[0m\u001b[1;33m\u001b[0m\u001b[1;33m\u001b[0m\u001b[0m\n\u001b[0m\u001b[0;32m    636\u001b[0m         \u001b[0malpha\u001b[0m \u001b[1;33m=\u001b[0m \u001b[0mself\u001b[0m\u001b[1;33m.\u001b[0m\u001b[0m_check_alpha\u001b[0m\u001b[1;33m(\u001b[0m\u001b[1;33m)\u001b[0m\u001b[1;33m\u001b[0m\u001b[1;33m\u001b[0m\u001b[0m\n\u001b[0;32m    637\u001b[0m         \u001b[0mself\u001b[0m\u001b[1;33m.\u001b[0m\u001b[0m_update_feature_log_prob\u001b[0m\u001b[1;33m(\u001b[0m\u001b[0malpha\u001b[0m\u001b[1;33m)\u001b[0m\u001b[1;33m\u001b[0m\u001b[1;33m\u001b[0m\u001b[0m\n",
      "\u001b[1;32mc:\\users\\ghata\\appdata\\local\\programs\\python\\python37\\lib\\site-packages\\sklearn\\naive_bayes.py\u001b[0m in \u001b[0;36m_count\u001b[1;34m(self, X, Y)\u001b[0m\n\u001b[0;32m    755\u001b[0m         \u001b[1;34m\"\"\"Count and smooth feature occurrences.\"\"\"\u001b[0m\u001b[1;33m\u001b[0m\u001b[1;33m\u001b[0m\u001b[0m\n\u001b[0;32m    756\u001b[0m         \u001b[0mcheck_non_negative\u001b[0m\u001b[1;33m(\u001b[0m\u001b[0mX\u001b[0m\u001b[1;33m,\u001b[0m \u001b[1;34m\"MultinomialNB (input X)\"\u001b[0m\u001b[1;33m)\u001b[0m\u001b[1;33m\u001b[0m\u001b[1;33m\u001b[0m\u001b[0m\n\u001b[1;32m--> 757\u001b[1;33m         \u001b[0mself\u001b[0m\u001b[1;33m.\u001b[0m\u001b[0mfeature_count_\u001b[0m \u001b[1;33m+=\u001b[0m \u001b[0msafe_sparse_dot\u001b[0m\u001b[1;33m(\u001b[0m\u001b[0mY\u001b[0m\u001b[1;33m.\u001b[0m\u001b[0mT\u001b[0m\u001b[1;33m,\u001b[0m \u001b[0mX\u001b[0m\u001b[1;33m)\u001b[0m\u001b[1;33m\u001b[0m\u001b[1;33m\u001b[0m\u001b[0m\n\u001b[0m\u001b[0;32m    758\u001b[0m         \u001b[0mself\u001b[0m\u001b[1;33m.\u001b[0m\u001b[0mclass_count_\u001b[0m \u001b[1;33m+=\u001b[0m \u001b[0mY\u001b[0m\u001b[1;33m.\u001b[0m\u001b[0msum\u001b[0m\u001b[1;33m(\u001b[0m\u001b[0maxis\u001b[0m\u001b[1;33m=\u001b[0m\u001b[1;36m0\u001b[0m\u001b[1;33m)\u001b[0m\u001b[1;33m\u001b[0m\u001b[1;33m\u001b[0m\u001b[0m\n\u001b[0;32m    759\u001b[0m \u001b[1;33m\u001b[0m\u001b[0m\n",
      "\u001b[1;32mc:\\users\\ghata\\appdata\\local\\programs\\python\\python37\\lib\\site-packages\\sklearn\\utils\\extmath.py\u001b[0m in \u001b[0;36msafe_sparse_dot\u001b[1;34m(a, b, dense_output)\u001b[0m\n\u001b[0;32m    149\u001b[0m             \u001b[0mret\u001b[0m \u001b[1;33m=\u001b[0m \u001b[0mnp\u001b[0m\u001b[1;33m.\u001b[0m\u001b[0mdot\u001b[0m\u001b[1;33m(\u001b[0m\u001b[0ma\u001b[0m\u001b[1;33m,\u001b[0m \u001b[0mb\u001b[0m\u001b[1;33m)\u001b[0m\u001b[1;33m\u001b[0m\u001b[1;33m\u001b[0m\u001b[0m\n\u001b[0;32m    150\u001b[0m     \u001b[1;32melse\u001b[0m\u001b[1;33m:\u001b[0m\u001b[1;33m\u001b[0m\u001b[1;33m\u001b[0m\u001b[0m\n\u001b[1;32m--> 151\u001b[1;33m         \u001b[0mret\u001b[0m \u001b[1;33m=\u001b[0m \u001b[0ma\u001b[0m \u001b[1;33m@\u001b[0m \u001b[0mb\u001b[0m\u001b[1;33m\u001b[0m\u001b[1;33m\u001b[0m\u001b[0m\n\u001b[0m\u001b[0;32m    152\u001b[0m \u001b[1;33m\u001b[0m\u001b[0m\n\u001b[0;32m    153\u001b[0m     if (sparse.issparse(a) and sparse.issparse(b)\n",
      "\u001b[1;32mc:\\users\\ghata\\appdata\\local\\programs\\python\\python37\\lib\\site-packages\\scipy\\sparse\\base.py\u001b[0m in \u001b[0;36m__rmatmul__\u001b[1;34m(self, other)\u001b[0m\n\u001b[0;32m    568\u001b[0m             raise ValueError(\"Scalar operands are not allowed, \"\n\u001b[0;32m    569\u001b[0m                              \"use '*' instead\")\n\u001b[1;32m--> 570\u001b[1;33m         \u001b[1;32mreturn\u001b[0m \u001b[0mself\u001b[0m\u001b[1;33m.\u001b[0m\u001b[0m__rmul__\u001b[0m\u001b[1;33m(\u001b[0m\u001b[0mother\u001b[0m\u001b[1;33m)\u001b[0m\u001b[1;33m\u001b[0m\u001b[1;33m\u001b[0m\u001b[0m\n\u001b[0m\u001b[0;32m    571\u001b[0m \u001b[1;33m\u001b[0m\u001b[0m\n\u001b[0;32m    572\u001b[0m     \u001b[1;31m####################\u001b[0m\u001b[1;33m\u001b[0m\u001b[1;33m\u001b[0m\u001b[1;33m\u001b[0m\u001b[0m\n",
      "\u001b[1;32mc:\\users\\ghata\\appdata\\local\\programs\\python\\python37\\lib\\site-packages\\scipy\\sparse\\base.py\u001b[0m in \u001b[0;36m__rmul__\u001b[1;34m(self, other)\u001b[0m\n\u001b[0;32m    552\u001b[0m             \u001b[1;32mexcept\u001b[0m \u001b[0mAttributeError\u001b[0m\u001b[1;33m:\u001b[0m\u001b[1;33m\u001b[0m\u001b[1;33m\u001b[0m\u001b[0m\n\u001b[0;32m    553\u001b[0m                 \u001b[0mtr\u001b[0m \u001b[1;33m=\u001b[0m \u001b[0mnp\u001b[0m\u001b[1;33m.\u001b[0m\u001b[0masarray\u001b[0m\u001b[1;33m(\u001b[0m\u001b[0mother\u001b[0m\u001b[1;33m)\u001b[0m\u001b[1;33m.\u001b[0m\u001b[0mtranspose\u001b[0m\u001b[1;33m(\u001b[0m\u001b[1;33m)\u001b[0m\u001b[1;33m\u001b[0m\u001b[1;33m\u001b[0m\u001b[0m\n\u001b[1;32m--> 554\u001b[1;33m             \u001b[1;32mreturn\u001b[0m \u001b[1;33m(\u001b[0m\u001b[0mself\u001b[0m\u001b[1;33m.\u001b[0m\u001b[0mtranspose\u001b[0m\u001b[1;33m(\u001b[0m\u001b[1;33m)\u001b[0m \u001b[1;33m*\u001b[0m \u001b[0mtr\u001b[0m\u001b[1;33m)\u001b[0m\u001b[1;33m.\u001b[0m\u001b[0mtranspose\u001b[0m\u001b[1;33m(\u001b[0m\u001b[1;33m)\u001b[0m\u001b[1;33m\u001b[0m\u001b[1;33m\u001b[0m\u001b[0m\n\u001b[0m\u001b[0;32m    555\u001b[0m \u001b[1;33m\u001b[0m\u001b[0m\n\u001b[0;32m    556\u001b[0m     \u001b[1;31m#####################################\u001b[0m\u001b[1;33m\u001b[0m\u001b[1;33m\u001b[0m\u001b[1;33m\u001b[0m\u001b[0m\n",
      "\u001b[1;32mc:\\users\\ghata\\appdata\\local\\programs\\python\\python37\\lib\\site-packages\\scipy\\sparse\\base.py\u001b[0m in \u001b[0;36m__mul__\u001b[1;34m(self, other)\u001b[0m\n\u001b[0;32m    473\u001b[0m                 \u001b[1;32mreturn\u001b[0m \u001b[0mself\u001b[0m\u001b[1;33m.\u001b[0m\u001b[0m_mul_vector\u001b[0m\u001b[1;33m(\u001b[0m\u001b[0mother\u001b[0m\u001b[1;33m.\u001b[0m\u001b[0mravel\u001b[0m\u001b[1;33m(\u001b[0m\u001b[1;33m)\u001b[0m\u001b[1;33m)\u001b[0m\u001b[1;33m.\u001b[0m\u001b[0mreshape\u001b[0m\u001b[1;33m(\u001b[0m\u001b[0mM\u001b[0m\u001b[1;33m,\u001b[0m \u001b[1;36m1\u001b[0m\u001b[1;33m)\u001b[0m\u001b[1;33m\u001b[0m\u001b[1;33m\u001b[0m\u001b[0m\n\u001b[0;32m    474\u001b[0m             \u001b[1;32melif\u001b[0m \u001b[0mother\u001b[0m\u001b[1;33m.\u001b[0m\u001b[0mndim\u001b[0m \u001b[1;33m==\u001b[0m \u001b[1;36m2\u001b[0m \u001b[1;32mand\u001b[0m \u001b[0mother\u001b[0m\u001b[1;33m.\u001b[0m\u001b[0mshape\u001b[0m\u001b[1;33m[\u001b[0m\u001b[1;36m0\u001b[0m\u001b[1;33m]\u001b[0m \u001b[1;33m==\u001b[0m \u001b[0mN\u001b[0m\u001b[1;33m:\u001b[0m\u001b[1;33m\u001b[0m\u001b[1;33m\u001b[0m\u001b[0m\n\u001b[1;32m--> 475\u001b[1;33m                 \u001b[1;32mreturn\u001b[0m \u001b[0mself\u001b[0m\u001b[1;33m.\u001b[0m\u001b[0m_mul_multivector\u001b[0m\u001b[1;33m(\u001b[0m\u001b[0mother\u001b[0m\u001b[1;33m)\u001b[0m\u001b[1;33m\u001b[0m\u001b[1;33m\u001b[0m\u001b[0m\n\u001b[0m\u001b[0;32m    476\u001b[0m \u001b[1;33m\u001b[0m\u001b[0m\n\u001b[0;32m    477\u001b[0m         \u001b[1;32mif\u001b[0m \u001b[0misscalarlike\u001b[0m\u001b[1;33m(\u001b[0m\u001b[0mother\u001b[0m\u001b[1;33m)\u001b[0m\u001b[1;33m:\u001b[0m\u001b[1;33m\u001b[0m\u001b[1;33m\u001b[0m\u001b[0m\n",
      "\u001b[1;32mc:\\users\\ghata\\appdata\\local\\programs\\python\\python37\\lib\\site-packages\\scipy\\sparse\\compressed.py\u001b[0m in \u001b[0;36m_mul_multivector\u001b[1;34m(self, other)\u001b[0m\n\u001b[0;32m    480\u001b[0m \u001b[1;33m\u001b[0m\u001b[0m\n\u001b[0;32m    481\u001b[0m         result = np.zeros((M, n_vecs),\n\u001b[1;32m--> 482\u001b[1;33m                           dtype=upcast_char(self.dtype.char, other.dtype.char))\n\u001b[0m\u001b[0;32m    483\u001b[0m \u001b[1;33m\u001b[0m\u001b[0m\n\u001b[0;32m    484\u001b[0m         \u001b[1;31m# csr_matvecs or csc_matvecs\u001b[0m\u001b[1;33m\u001b[0m\u001b[1;33m\u001b[0m\u001b[1;33m\u001b[0m\u001b[0m\n",
      "\u001b[1;31mMemoryError\u001b[0m: Unable to allocate 1.03 GiB for an array with shape (5555505, 25) and data type float64"
     ]
    }
   ],
   "source": [
    "\n",
    "nb = Pipeline([('vect', CountVectorizer(ngram_range=(1,3))),\n",
    "               ('tfidf', TfidfTransformer()),\n",
    "         \n",
    "#                ('svd',TruncatedSVD(n_components=250)),\n",
    "# #                ('pca',PCA(n_components=500, copy=True, whiten=False, svd_solver='full', tol=0.0, iterated_power='auto', random_state=None)),      \n",
    "#                 ('ss',MinMaxScaler()),\n",
    "               ('clf', MultinomialNB()),\n",
    "              ])\n",
    "nb.fit(X_train, Y_train)"
   ]
  },
  {
   "cell_type": "code",
   "execution_count": 184,
   "metadata": {},
   "outputs": [
    {
     "name": "stdout",
     "output_type": "stream",
     "text": [
      "accuracy 0.6119493979576284\n",
      "                        precision    recall  f1-score   support\n",
      "\n",
      "       Adventure novel       1.00      0.54      0.70       211\n",
      "             Biography       1.00      0.07      0.13       112\n",
      " Children's literature       0.83      0.15      0.26       330\n",
      "               Fantasy       0.81      0.72      0.76       361\n",
      "                Horror       0.98      0.83      0.90       299\n",
      "      Literary fiction       1.00      0.13      0.23        85\n",
      "                Memoir       1.00      0.17      0.28       145\n",
      "               Mystery       0.90      0.78      0.84       452\n",
      "           Non-fiction       0.80      1.00      0.89       466\n",
      "                 Novel       0.00      0.00      0.00       296\n",
      "            Philosophy       1.00      0.08      0.15        74\n",
      "          Picture book       1.00      0.29      0.45       162\n",
      "         Romance novel       1.00      0.59      0.74       213\n",
      "       Science Fiction       0.99      0.35      0.52       283\n",
      "           Short story       1.00      0.11      0.20       107\n",
      "           Spy fiction       1.00      0.92      0.96       312\n",
      "     Sword and sorcery       1.00      0.35      0.52        63\n",
      "       Techno-thriller       1.00      0.15      0.25       131\n",
      "              Thriller       0.99      0.37      0.54       343\n",
      "         Urban fantasy       1.00      0.14      0.25        76\n",
      "Young adult literature       1.00      0.02      0.04       191\n",
      "         autobiography       0.42      0.99      0.59       443\n",
      "                comedy       0.56      1.00      0.72       473\n",
      "               fiction       0.32      0.84      0.47       512\n",
      "            historical       0.47      0.91      0.62       421\n",
      "\n",
      "              accuracy                           0.61      6561\n",
      "             macro avg       0.84      0.46      0.48      6561\n",
      "          weighted avg       0.76      0.61      0.57      6561\n",
      "\n"
     ]
    },
    {
     "name": "stderr",
     "output_type": "stream",
     "text": [
      "c:\\users\\ghata\\appdata\\local\\programs\\python\\python37\\lib\\site-packages\\sklearn\\metrics\\_classification.py:1272: UndefinedMetricWarning: Precision and F-score are ill-defined and being set to 0.0 in labels with no predicted samples. Use `zero_division` parameter to control this behavior.\n",
      "  _warn_prf(average, modifier, msg_start, len(result))\n"
     ]
    }
   ],
   "source": [
    "from sklearn.metrics import classification_report\n",
    "Y_pred = nb.predict(X_test)\n",
    "\n",
    "print('accuracy %s' % accuracy_score(Y_pred, Y_test))\n",
    "print(classification_report(Y_test, Y_pred))"
   ]
  },
  {
   "cell_type": "code",
   "execution_count": null,
   "metadata": {},
   "outputs": [],
   "source": []
  },
  {
   "cell_type": "code",
   "execution_count": null,
   "metadata": {},
   "outputs": [],
   "source": []
  },
  {
   "cell_type": "code",
   "execution_count": 119,
   "metadata": {},
   "outputs": [
    {
     "data": {
      "text/plain": [
       "Pipeline(memory=None,\n",
       "         steps=[('vect',\n",
       "                 CountVectorizer(analyzer='word', binary=False,\n",
       "                                 decode_error='strict',\n",
       "                                 dtype=<class 'numpy.int64'>, encoding='utf-8',\n",
       "                                 input='content', lowercase=True, max_df=1.0,\n",
       "                                 max_features=None, min_df=1,\n",
       "                                 ngram_range=(1, 1), preprocessor=None,\n",
       "                                 stop_words=None, strip_accents=None,\n",
       "                                 token_pattern='(?u)\\\\b\\\\w\\\\w+\\\\b',\n",
       "                                 tokenizer=None, vocabulary=Non...\n",
       "                ('clf',\n",
       "                 SGDClassifier(alpha=0.001, average=False, class_weight=None,\n",
       "                               early_stopping=False, epsilon=0.1, eta0=0.0,\n",
       "                               fit_intercept=True, l1_ratio=0.15,\n",
       "                               learning_rate='optimal', loss='hinge',\n",
       "                               max_iter=5, n_iter_no_change=5, n_jobs=None,\n",
       "                               penalty='l2', power_t=0.5, random_state=42,\n",
       "                               shuffle=True, tol=None, validation_fraction=0.1,\n",
       "                               verbose=0, warm_start=False))],\n",
       "         verbose=False)"
      ]
     },
     "execution_count": 119,
     "metadata": {},
     "output_type": "execute_result"
    }
   ],
   "source": [
    "from sklearn.linear_model import SGDClassifier\n",
    "\n",
    "sgd = Pipeline([('vect', CountVectorizer()),\n",
    "                ('tfidf', TfidfTransformer()),\n",
    "                ('clf', SGDClassifier(loss='hinge', penalty='l2',alpha=1e-3, random_state=42, max_iter=5, tol=None)),\n",
    "               ])\n",
    "sgd.fit(X_train, Y_train)"
   ]
  },
  {
   "cell_type": "code",
   "execution_count": 120,
   "metadata": {
    "scrolled": true
   },
   "outputs": [
    {
     "name": "stdout",
     "output_type": "stream",
     "text": [
      "accuracy 0.8123761621704009\n",
      "                        precision    recall  f1-score   support\n",
      "\n",
      "       Adventure novel       0.93      1.00      0.96       211\n",
      "             Biography       0.86      0.99      0.92       112\n",
      " Children's literature       0.69      0.48      0.56       330\n",
      "               Fantasy       0.80      0.80      0.80       361\n",
      "                Horror       0.86      1.00      0.93       299\n",
      "      Literary fiction       0.88      0.99      0.93        85\n",
      "                Memoir       0.92      1.00      0.96       145\n",
      "               Mystery       0.72      0.83      0.77       452\n",
      "           Non-fiction       0.87      0.99      0.93       466\n",
      "                 Novel       0.35      0.09      0.15       296\n",
      "            Philosophy       0.91      0.97      0.94        74\n",
      "          Picture book       0.92      0.99      0.96       162\n",
      "         Romance novel       0.84      1.00      0.91       213\n",
      "       Science Fiction       0.77      0.73      0.75       283\n",
      "           Short story       0.91      0.98      0.94       107\n",
      "           Spy fiction       0.88      0.99      0.93       312\n",
      "     Sword and sorcery       0.91      1.00      0.95        63\n",
      "       Techno-thriller       0.93      1.00      0.96       131\n",
      "              Thriller       0.79      0.73      0.76       343\n",
      "         Urban fantasy       0.86      1.00      0.93        76\n",
      "Young adult literature       0.75      0.66      0.70       191\n",
      "         autobiography       0.83      0.99      0.91       443\n",
      "                comedy       0.88      1.00      0.94       473\n",
      "               fiction       0.63      0.43      0.51       512\n",
      "            historical       0.74      0.78      0.76       421\n",
      "\n",
      "              accuracy                           0.81      6561\n",
      "             macro avg       0.82      0.86      0.83      6561\n",
      "          weighted avg       0.79      0.81      0.79      6561\n",
      "\n"
     ]
    }
   ],
   "source": [
    "y_pred = sgd.predict(X_test)\n",
    "\n",
    "print('accuracy %s' % accuracy_score(y_pred, Y_test))\n",
    "print(classification_report(Y_test, y_pred))"
   ]
  },
  {
   "cell_type": "code",
   "execution_count": null,
   "metadata": {},
   "outputs": [],
   "source": []
  },
  {
   "cell_type": "code",
   "execution_count": null,
   "metadata": {},
   "outputs": [],
   "source": []
  },
  {
   "cell_type": "code",
   "execution_count": 148,
   "metadata": {},
   "outputs": [
    {
     "ename": "MemoryError",
     "evalue": "Unable to allocate 9.66 GiB for an array with shape (164, 7902023) and data type float64",
     "output_type": "error",
     "traceback": [
      "\u001b[1;31m---------------------------------------------------------------------------\u001b[0m",
      "\u001b[1;31mMemoryError\u001b[0m                               Traceback (most recent call last)",
      "\u001b[1;32m<ipython-input-148-757b41e0db8d>\u001b[0m in \u001b[0;36m<module>\u001b[1;34m\u001b[0m\n\u001b[0;32m      8\u001b[0m                \u001b[1;33m(\u001b[0m\u001b[1;34m'clf'\u001b[0m\u001b[1;33m,\u001b[0m \u001b[0mLinearSVC\u001b[0m\u001b[1;33m(\u001b[0m\u001b[0mrandom_state\u001b[0m\u001b[1;33m=\u001b[0m\u001b[1;36m0\u001b[0m\u001b[1;33m,\u001b[0m \u001b[0mtol\u001b[0m\u001b[1;33m=\u001b[0m\u001b[1;36m1e-5\u001b[0m\u001b[1;33m)\u001b[0m\u001b[1;33m)\u001b[0m\u001b[1;33m,\u001b[0m\u001b[1;33m\u001b[0m\u001b[1;33m\u001b[0m\u001b[0m\n\u001b[0;32m      9\u001b[0m               ])\n\u001b[1;32m---> 10\u001b[1;33m \u001b[0msgd\u001b[0m\u001b[1;33m.\u001b[0m\u001b[0mfit\u001b[0m\u001b[1;33m(\u001b[0m\u001b[0mX_train\u001b[0m\u001b[1;33m,\u001b[0m \u001b[0mY_train\u001b[0m\u001b[1;33m)\u001b[0m\u001b[1;33m\u001b[0m\u001b[1;33m\u001b[0m\u001b[0m\n\u001b[0m",
      "\u001b[1;32mc:\\users\\ghata\\appdata\\local\\programs\\python\\python37\\lib\\site-packages\\sklearn\\pipeline.py\u001b[0m in \u001b[0;36mfit\u001b[1;34m(self, X, y, **fit_params)\u001b[0m\n\u001b[0;32m    352\u001b[0m                                  self._log_message(len(self.steps) - 1)):\n\u001b[0;32m    353\u001b[0m             \u001b[1;32mif\u001b[0m \u001b[0mself\u001b[0m\u001b[1;33m.\u001b[0m\u001b[0m_final_estimator\u001b[0m \u001b[1;33m!=\u001b[0m \u001b[1;34m'passthrough'\u001b[0m\u001b[1;33m:\u001b[0m\u001b[1;33m\u001b[0m\u001b[1;33m\u001b[0m\u001b[0m\n\u001b[1;32m--> 354\u001b[1;33m                 \u001b[0mself\u001b[0m\u001b[1;33m.\u001b[0m\u001b[0m_final_estimator\u001b[0m\u001b[1;33m.\u001b[0m\u001b[0mfit\u001b[0m\u001b[1;33m(\u001b[0m\u001b[0mXt\u001b[0m\u001b[1;33m,\u001b[0m \u001b[0my\u001b[0m\u001b[1;33m,\u001b[0m \u001b[1;33m**\u001b[0m\u001b[0mfit_params\u001b[0m\u001b[1;33m)\u001b[0m\u001b[1;33m\u001b[0m\u001b[1;33m\u001b[0m\u001b[0m\n\u001b[0m\u001b[0;32m    355\u001b[0m         \u001b[1;32mreturn\u001b[0m \u001b[0mself\u001b[0m\u001b[1;33m\u001b[0m\u001b[1;33m\u001b[0m\u001b[0m\n\u001b[0;32m    356\u001b[0m \u001b[1;33m\u001b[0m\u001b[0m\n",
      "\u001b[1;32mc:\\users\\ghata\\appdata\\local\\programs\\python\\python37\\lib\\site-packages\\sklearn\\svm\\_classes.py\u001b[0m in \u001b[0;36mfit\u001b[1;34m(self, X, y, sample_weight)\u001b[0m\n\u001b[0;32m    241\u001b[0m             \u001b[0mself\u001b[0m\u001b[1;33m.\u001b[0m\u001b[0mclass_weight\u001b[0m\u001b[1;33m,\u001b[0m \u001b[0mself\u001b[0m\u001b[1;33m.\u001b[0m\u001b[0mpenalty\u001b[0m\u001b[1;33m,\u001b[0m \u001b[0mself\u001b[0m\u001b[1;33m.\u001b[0m\u001b[0mdual\u001b[0m\u001b[1;33m,\u001b[0m \u001b[0mself\u001b[0m\u001b[1;33m.\u001b[0m\u001b[0mverbose\u001b[0m\u001b[1;33m,\u001b[0m\u001b[1;33m\u001b[0m\u001b[1;33m\u001b[0m\u001b[0m\n\u001b[0;32m    242\u001b[0m             \u001b[0mself\u001b[0m\u001b[1;33m.\u001b[0m\u001b[0mmax_iter\u001b[0m\u001b[1;33m,\u001b[0m \u001b[0mself\u001b[0m\u001b[1;33m.\u001b[0m\u001b[0mtol\u001b[0m\u001b[1;33m,\u001b[0m \u001b[0mself\u001b[0m\u001b[1;33m.\u001b[0m\u001b[0mrandom_state\u001b[0m\u001b[1;33m,\u001b[0m \u001b[0mself\u001b[0m\u001b[1;33m.\u001b[0m\u001b[0mmulti_class\u001b[0m\u001b[1;33m,\u001b[0m\u001b[1;33m\u001b[0m\u001b[1;33m\u001b[0m\u001b[0m\n\u001b[1;32m--> 243\u001b[1;33m             self.loss, sample_weight=sample_weight)\n\u001b[0m\u001b[0;32m    244\u001b[0m \u001b[1;33m\u001b[0m\u001b[0m\n\u001b[0;32m    245\u001b[0m         \u001b[1;32mif\u001b[0m \u001b[0mself\u001b[0m\u001b[1;33m.\u001b[0m\u001b[0mmulti_class\u001b[0m \u001b[1;33m==\u001b[0m \u001b[1;34m\"crammer_singer\"\u001b[0m \u001b[1;32mand\u001b[0m \u001b[0mlen\u001b[0m\u001b[1;33m(\u001b[0m\u001b[0mself\u001b[0m\u001b[1;33m.\u001b[0m\u001b[0mclasses_\u001b[0m\u001b[1;33m)\u001b[0m \u001b[1;33m==\u001b[0m \u001b[1;36m2\u001b[0m\u001b[1;33m:\u001b[0m\u001b[1;33m\u001b[0m\u001b[1;33m\u001b[0m\u001b[0m\n",
      "\u001b[1;32mc:\\users\\ghata\\appdata\\local\\programs\\python\\python37\\lib\\site-packages\\sklearn\\svm\\_base.py\u001b[0m in \u001b[0;36m_fit_liblinear\u001b[1;34m(X, y, C, fit_intercept, intercept_scaling, class_weight, penalty, dual, verbose, max_iter, tol, random_state, multi_class, loss, epsilon, sample_weight)\u001b[0m\n\u001b[0;32m    937\u001b[0m         \u001b[0mX\u001b[0m\u001b[1;33m,\u001b[0m \u001b[0my_ind\u001b[0m\u001b[1;33m,\u001b[0m \u001b[0msp\u001b[0m\u001b[1;33m.\u001b[0m\u001b[0misspmatrix\u001b[0m\u001b[1;33m(\u001b[0m\u001b[0mX\u001b[0m\u001b[1;33m)\u001b[0m\u001b[1;33m,\u001b[0m \u001b[0msolver_type\u001b[0m\u001b[1;33m,\u001b[0m \u001b[0mtol\u001b[0m\u001b[1;33m,\u001b[0m \u001b[0mbias\u001b[0m\u001b[1;33m,\u001b[0m \u001b[0mC\u001b[0m\u001b[1;33m,\u001b[0m\u001b[1;33m\u001b[0m\u001b[1;33m\u001b[0m\u001b[0m\n\u001b[0;32m    938\u001b[0m         \u001b[0mclass_weight_\u001b[0m\u001b[1;33m,\u001b[0m \u001b[0mmax_iter\u001b[0m\u001b[1;33m,\u001b[0m \u001b[0mrnd\u001b[0m\u001b[1;33m.\u001b[0m\u001b[0mrandint\u001b[0m\u001b[1;33m(\u001b[0m\u001b[0mnp\u001b[0m\u001b[1;33m.\u001b[0m\u001b[0miinfo\u001b[0m\u001b[1;33m(\u001b[0m\u001b[1;34m'i'\u001b[0m\u001b[1;33m)\u001b[0m\u001b[1;33m.\u001b[0m\u001b[0mmax\u001b[0m\u001b[1;33m)\u001b[0m\u001b[1;33m,\u001b[0m\u001b[1;33m\u001b[0m\u001b[1;33m\u001b[0m\u001b[0m\n\u001b[1;32m--> 939\u001b[1;33m         epsilon, sample_weight)\n\u001b[0m\u001b[0;32m    940\u001b[0m     \u001b[1;31m# Regarding rnd.randint(..) in the above signature:\u001b[0m\u001b[1;33m\u001b[0m\u001b[1;33m\u001b[0m\u001b[1;33m\u001b[0m\u001b[0m\n\u001b[0;32m    941\u001b[0m     \u001b[1;31m# seed for srand in range [0..INT_MAX); due to limitations in Numpy\u001b[0m\u001b[1;33m\u001b[0m\u001b[1;33m\u001b[0m\u001b[1;33m\u001b[0m\u001b[0m\n",
      "\u001b[1;32msklearn\\svm\\_liblinear.pyx\u001b[0m in \u001b[0;36msklearn.svm._liblinear.train_wrap\u001b[1;34m()\u001b[0m\n",
      "\u001b[1;31mMemoryError\u001b[0m: Unable to allocate 9.66 GiB for an array with shape (164, 7902023) and data type float64"
     ]
    }
   ],
   "source": [
    " from sklearn.svm import LinearSVC\n",
    "\n",
    "sgd = Pipeline([('vect', CountVectorizer(ngram_range=(1,5))),\n",
    "                ('tfidf', TfidfTransformer()),\n",
    "#                 ('svd',TruncatedSVD(n_components=1000)),\n",
    "# #                ('pca',PCA(n_components=500, copy=True, whiten=False, svd_solver='full', tol=0.0, iterated_power='auto', random_state=None)),      \n",
    "#                 ('ss',MinMaxScaler()),\n",
    "                ('clf', LinearSVC(random_state=0, tol=1e-5)),\n",
    "               ])\n",
    "sgd.fit(X_train, Y_train)"
   ]
  },
  {
   "cell_type": "code",
   "execution_count": null,
   "metadata": {},
   "outputs": [],
   "source": [
    "y_pred = sgd.predict(X_test)\n",
    "\n",
    "print('accuracy %s' % accuracy_score(y_pred, Y_test))\n",
    "print(classification_report(Y_test, y_pred))"
   ]
  },
  {
   "cell_type": "markdown",
   "metadata": {},
   "source": [
    "  # Multilabel"
   ]
  },
  {
   "cell_type": "code",
   "execution_count": 2,
   "metadata": {},
   "outputs": [
    {
     "data": {
      "text/html": [
       "<div>\n",
       "<style scoped>\n",
       "    .dataframe tbody tr th:only-of-type {\n",
       "        vertical-align: middle;\n",
       "    }\n",
       "\n",
       "    .dataframe tbody tr th {\n",
       "        vertical-align: top;\n",
       "    }\n",
       "\n",
       "    .dataframe thead th {\n",
       "        text-align: right;\n",
       "    }\n",
       "</style>\n",
       "<table border=\"1\" class=\"dataframe\">\n",
       "  <thead>\n",
       "    <tr style=\"text-align: right;\">\n",
       "      <th></th>\n",
       "      <th>Unnamed: 0</th>\n",
       "      <th>Name</th>\n",
       "      <th>Genres</th>\n",
       "      <th>Summary</th>\n",
       "    </tr>\n",
       "  </thead>\n",
       "  <tbody>\n",
       "    <tr>\n",
       "      <th>0</th>\n",
       "      <td>0</td>\n",
       "      <td>Animal Farm</td>\n",
       "      <td>['Roman à clef', 'Satire', \"Children's literat...</td>\n",
       "      <td>Old Major, the old boar on the Manor Farm, ca...</td>\n",
       "    </tr>\n",
       "    <tr>\n",
       "      <th>1</th>\n",
       "      <td>1</td>\n",
       "      <td>A Clockwork Orange</td>\n",
       "      <td>['Science Fiction', 'Novella', 'Speculative fi...</td>\n",
       "      <td>Alex, a teenager living in near-future Englan...</td>\n",
       "    </tr>\n",
       "    <tr>\n",
       "      <th>2</th>\n",
       "      <td>2</td>\n",
       "      <td>The Plague</td>\n",
       "      <td>['Existentialism', 'Fiction', 'Absurdist ficti...</td>\n",
       "      <td>The text of The Plague is divided into five p...</td>\n",
       "    </tr>\n",
       "    <tr>\n",
       "      <th>3</th>\n",
       "      <td>4</td>\n",
       "      <td>A Fire Upon the Deep</td>\n",
       "      <td>['Hard science fiction', 'Science Fiction', 'S...</td>\n",
       "      <td>The novel posits that space around the Milky ...</td>\n",
       "    </tr>\n",
       "    <tr>\n",
       "      <th>4</th>\n",
       "      <td>5</td>\n",
       "      <td>All Quiet on the Western Front</td>\n",
       "      <td>['War novel', 'Roman à clef']</td>\n",
       "      <td>The book tells the story of Paul Bäumer, a Ge...</td>\n",
       "    </tr>\n",
       "    <tr>\n",
       "      <th>...</th>\n",
       "      <td>...</td>\n",
       "      <td>...</td>\n",
       "      <td>...</td>\n",
       "      <td>...</td>\n",
       "    </tr>\n",
       "    <tr>\n",
       "      <th>12836</th>\n",
       "      <td>16549</td>\n",
       "      <td>The Third Lynx</td>\n",
       "      <td>['Science Fiction']</td>\n",
       "      <td>The story starts with former government agent...</td>\n",
       "    </tr>\n",
       "    <tr>\n",
       "      <th>12837</th>\n",
       "      <td>16551</td>\n",
       "      <td>Remote Control</td>\n",
       "      <td>['Thriller', 'Fiction', 'Suspense']</td>\n",
       "      <td>The series follows the character of Nick Ston...</td>\n",
       "    </tr>\n",
       "    <tr>\n",
       "      <th>12838</th>\n",
       "      <td>16555</td>\n",
       "      <td>Transfer of Power</td>\n",
       "      <td>['Thriller', 'Fiction']</td>\n",
       "      <td>The reader first meets Rapp while he is doing...</td>\n",
       "    </tr>\n",
       "    <tr>\n",
       "      <th>12839</th>\n",
       "      <td>16556</td>\n",
       "      <td>Decoded</td>\n",
       "      <td>['Autobiography']</td>\n",
       "      <td>The book follows very rough chronological ord...</td>\n",
       "    </tr>\n",
       "    <tr>\n",
       "      <th>12840</th>\n",
       "      <td>16558</td>\n",
       "      <td>Poor Folk</td>\n",
       "      <td>['Epistolary novel', 'Speculative fiction']</td>\n",
       "      <td>Makar Devushkin and Varvara Dobroselova are s...</td>\n",
       "    </tr>\n",
       "  </tbody>\n",
       "</table>\n",
       "<p>12841 rows × 4 columns</p>\n",
       "</div>"
      ],
      "text/plain": [
       "       Unnamed: 0                            Name  \\\n",
       "0               0                     Animal Farm   \n",
       "1               1              A Clockwork Orange   \n",
       "2               2                      The Plague   \n",
       "3               4            A Fire Upon the Deep   \n",
       "4               5  All Quiet on the Western Front   \n",
       "...           ...                             ...   \n",
       "12836       16549                  The Third Lynx   \n",
       "12837       16551                  Remote Control   \n",
       "12838       16555               Transfer of Power   \n",
       "12839       16556                         Decoded   \n",
       "12840       16558                       Poor Folk   \n",
       "\n",
       "                                                  Genres  \\\n",
       "0      ['Roman à clef', 'Satire', \"Children's literat...   \n",
       "1      ['Science Fiction', 'Novella', 'Speculative fi...   \n",
       "2      ['Existentialism', 'Fiction', 'Absurdist ficti...   \n",
       "3      ['Hard science fiction', 'Science Fiction', 'S...   \n",
       "4                          ['War novel', 'Roman à clef']   \n",
       "...                                                  ...   \n",
       "12836                                ['Science Fiction']   \n",
       "12837                ['Thriller', 'Fiction', 'Suspense']   \n",
       "12838                            ['Thriller', 'Fiction']   \n",
       "12839                                  ['Autobiography']   \n",
       "12840        ['Epistolary novel', 'Speculative fiction']   \n",
       "\n",
       "                                                 Summary  \n",
       "0       Old Major, the old boar on the Manor Farm, ca...  \n",
       "1       Alex, a teenager living in near-future Englan...  \n",
       "2       The text of The Plague is divided into five p...  \n",
       "3       The novel posits that space around the Milky ...  \n",
       "4       The book tells the story of Paul Bäumer, a Ge...  \n",
       "...                                                  ...  \n",
       "12836   The story starts with former government agent...  \n",
       "12837   The series follows the character of Nick Ston...  \n",
       "12838   The reader first meets Rapp while he is doing...  \n",
       "12839   The book follows very rough chronological ord...  \n",
       "12840   Makar Devushkin and Varvara Dobroselova are s...  \n",
       "\n",
       "[12841 rows x 4 columns]"
      ]
     },
     "execution_count": 2,
     "metadata": {},
     "output_type": "execute_result"
    }
   ],
   "source": [
    "df=pd.read_csv('booksumm_org.csv')\n",
    "df"
   ]
  },
  {
   "cell_type": "code",
   "execution_count": null,
   "metadata": {},
   "outputs": [],
   "source": []
  },
  {
   "cell_type": "code",
   "execution_count": 46,
   "metadata": {},
   "outputs": [],
   "source": [
    "dataset=[]\n",
    "with open('D:\\\\SDP/repo/book_summarization/booksummaries.txt', 'r', encoding=\"utf8\", errors='ignore') as f:\n",
    "    reader=csv.reader(f,dialect='excel-tab')\n",
    "    for row in reader:\n",
    "        dataset.append([row[2],row[5],row[6]])\n",
    "        \n",
    "df=pd.DataFrame(dataset,columns=['Name','Genres','Summary'])\n",
    "df=df.drop(df[df['Genres']==''].index)"
   ]
  },
  {
   "cell_type": "code",
   "execution_count": 47,
   "metadata": {},
   "outputs": [
    {
     "data": {
      "text/html": [
       "<div>\n",
       "<style scoped>\n",
       "    .dataframe tbody tr th:only-of-type {\n",
       "        vertical-align: middle;\n",
       "    }\n",
       "\n",
       "    .dataframe tbody tr th {\n",
       "        vertical-align: top;\n",
       "    }\n",
       "\n",
       "    .dataframe thead th {\n",
       "        text-align: right;\n",
       "    }\n",
       "</style>\n",
       "<table border=\"1\" class=\"dataframe\">\n",
       "  <thead>\n",
       "    <tr style=\"text-align: right;\">\n",
       "      <th></th>\n",
       "      <th>Name</th>\n",
       "      <th>Genres</th>\n",
       "      <th>Summary</th>\n",
       "    </tr>\n",
       "  </thead>\n",
       "  <tbody>\n",
       "    <tr>\n",
       "      <th>0</th>\n",
       "      <td>Animal Farm</td>\n",
       "      <td>{\"/m/016lj8\": \"Roman \\u00e0 clef\", \"/m/06nbt\":...</td>\n",
       "      <td>Old Major, the old boar on the Manor Farm, ca...</td>\n",
       "    </tr>\n",
       "    <tr>\n",
       "      <th>1</th>\n",
       "      <td>A Clockwork Orange</td>\n",
       "      <td>{\"/m/06n90\": \"Science Fiction\", \"/m/0l67h\": \"N...</td>\n",
       "      <td>Alex, a teenager living in near-future Englan...</td>\n",
       "    </tr>\n",
       "    <tr>\n",
       "      <th>2</th>\n",
       "      <td>The Plague</td>\n",
       "      <td>{\"/m/02m4t\": \"Existentialism\", \"/m/02xlf\": \"Fi...</td>\n",
       "      <td>The text of The Plague is divided into five p...</td>\n",
       "    </tr>\n",
       "    <tr>\n",
       "      <th>4</th>\n",
       "      <td>A Fire Upon the Deep</td>\n",
       "      <td>{\"/m/03lrw\": \"Hard science fiction\", \"/m/06n90...</td>\n",
       "      <td>The novel posits that space around the Milky ...</td>\n",
       "    </tr>\n",
       "    <tr>\n",
       "      <th>5</th>\n",
       "      <td>All Quiet on the Western Front</td>\n",
       "      <td>{\"/m/098tmk\": \"War novel\", \"/m/016lj8\": \"Roman...</td>\n",
       "      <td>The book tells the story of Paul Bäumer, a Ge...</td>\n",
       "    </tr>\n",
       "    <tr>\n",
       "      <th>...</th>\n",
       "      <td>...</td>\n",
       "      <td>...</td>\n",
       "      <td>...</td>\n",
       "    </tr>\n",
       "    <tr>\n",
       "      <th>16549</th>\n",
       "      <td>The Third Lynx</td>\n",
       "      <td>{\"/m/06n90\": \"Science Fiction\"}</td>\n",
       "      <td>The story starts with former government agent...</td>\n",
       "    </tr>\n",
       "    <tr>\n",
       "      <th>16551</th>\n",
       "      <td>Remote Control</td>\n",
       "      <td>{\"/m/01jfsb\": \"Thriller\", \"/m/02xlf\": \"Fiction...</td>\n",
       "      <td>The series follows the character of Nick Ston...</td>\n",
       "    </tr>\n",
       "    <tr>\n",
       "      <th>16555</th>\n",
       "      <td>Transfer of Power</td>\n",
       "      <td>{\"/m/01jfsb\": \"Thriller\", \"/m/02xlf\": \"Fiction\"}</td>\n",
       "      <td>The reader first meets Rapp while he is doing...</td>\n",
       "    </tr>\n",
       "    <tr>\n",
       "      <th>16556</th>\n",
       "      <td>Decoded</td>\n",
       "      <td>{\"/m/0xdf\": \"Autobiography\"}</td>\n",
       "      <td>The book follows very rough chronological ord...</td>\n",
       "    </tr>\n",
       "    <tr>\n",
       "      <th>16558</th>\n",
       "      <td>Poor Folk</td>\n",
       "      <td>{\"/m/02ql9\": \"Epistolary novel\", \"/m/014dfn\": ...</td>\n",
       "      <td>Makar Devushkin and Varvara Dobroselova are s...</td>\n",
       "    </tr>\n",
       "  </tbody>\n",
       "</table>\n",
       "<p>12841 rows × 3 columns</p>\n",
       "</div>"
      ],
      "text/plain": [
       "                                 Name  \\\n",
       "0                         Animal Farm   \n",
       "1                  A Clockwork Orange   \n",
       "2                          The Plague   \n",
       "4                A Fire Upon the Deep   \n",
       "5      All Quiet on the Western Front   \n",
       "...                               ...   \n",
       "16549                  The Third Lynx   \n",
       "16551                  Remote Control   \n",
       "16555               Transfer of Power   \n",
       "16556                         Decoded   \n",
       "16558                       Poor Folk   \n",
       "\n",
       "                                                  Genres  \\\n",
       "0      {\"/m/016lj8\": \"Roman \\u00e0 clef\", \"/m/06nbt\":...   \n",
       "1      {\"/m/06n90\": \"Science Fiction\", \"/m/0l67h\": \"N...   \n",
       "2      {\"/m/02m4t\": \"Existentialism\", \"/m/02xlf\": \"Fi...   \n",
       "4      {\"/m/03lrw\": \"Hard science fiction\", \"/m/06n90...   \n",
       "5      {\"/m/098tmk\": \"War novel\", \"/m/016lj8\": \"Roman...   \n",
       "...                                                  ...   \n",
       "16549                    {\"/m/06n90\": \"Science Fiction\"}   \n",
       "16551  {\"/m/01jfsb\": \"Thriller\", \"/m/02xlf\": \"Fiction...   \n",
       "16555   {\"/m/01jfsb\": \"Thriller\", \"/m/02xlf\": \"Fiction\"}   \n",
       "16556                       {\"/m/0xdf\": \"Autobiography\"}   \n",
       "16558  {\"/m/02ql9\": \"Epistolary novel\", \"/m/014dfn\": ...   \n",
       "\n",
       "                                                 Summary  \n",
       "0       Old Major, the old boar on the Manor Farm, ca...  \n",
       "1       Alex, a teenager living in near-future Englan...  \n",
       "2       The text of The Plague is divided into five p...  \n",
       "4       The novel posits that space around the Milky ...  \n",
       "5       The book tells the story of Paul Bäumer, a Ge...  \n",
       "...                                                  ...  \n",
       "16549   The story starts with former government agent...  \n",
       "16551   The series follows the character of Nick Ston...  \n",
       "16555   The reader first meets Rapp while he is doing...  \n",
       "16556   The book follows very rough chronological ord...  \n",
       "16558   Makar Devushkin and Varvara Dobroselova are s...  \n",
       "\n",
       "[12841 rows x 3 columns]"
      ]
     },
     "execution_count": 47,
     "metadata": {},
     "output_type": "execute_result"
    }
   ],
   "source": [
    "df"
   ]
  },
  {
   "cell_type": "code",
   "execution_count": 48,
   "metadata": {},
   "outputs": [],
   "source": [
    "df.Genres=df.Genres.apply(lambda x:list(json.loads(x).values()))"
   ]
  },
  {
   "cell_type": "code",
   "execution_count": 49,
   "metadata": {},
   "outputs": [
    {
     "data": {
      "text/plain": [
       "0        [Roman à clef, Satire, Children's literature, ...\n",
       "1        [Science Fiction, Novella, Speculative fiction...\n",
       "2        [Existentialism, Fiction, Absurdist fiction, N...\n",
       "4        [Hard science fiction, Science Fiction, Specul...\n",
       "5                                [War novel, Roman à clef]\n",
       "                               ...                        \n",
       "16549                                    [Science Fiction]\n",
       "16551                        [Thriller, Fiction, Suspense]\n",
       "16555                                  [Thriller, Fiction]\n",
       "16556                                      [Autobiography]\n",
       "16558              [Epistolary novel, Speculative fiction]\n",
       "Name: Genres, Length: 12841, dtype: object"
      ]
     },
     "execution_count": 49,
     "metadata": {},
     "output_type": "execute_result"
    }
   ],
   "source": [
    "df.Genres"
   ]
  },
  {
   "cell_type": "code",
   "execution_count": null,
   "metadata": {},
   "outputs": [],
   "source": []
  },
  {
   "cell_type": "code",
   "execution_count": null,
   "metadata": {},
   "outputs": [],
   "source": []
  },
  {
   "cell_type": "code",
   "execution_count": 50,
   "metadata": {
    "colab": {},
    "colab_type": "code",
    "id": "E3gLnIHOXAdi"
   },
   "outputs": [
    {
     "name": "stdout",
     "output_type": "stream",
     "text": [
      "Total unique genres: 227\n"
     ]
    }
   ],
   "source": [
    "all_genres = sum(df[\"Genres\"],[])\n",
    "print(\"Total unique genres:\", len(set(all_genres)))"
   ]
  },
  {
   "cell_type": "code",
   "execution_count": null,
   "metadata": {},
   "outputs": [],
   "source": []
  },
  {
   "cell_type": "code",
   "execution_count": 54,
   "metadata": {
    "colab": {},
    "colab_type": "code",
    "id": "wgo16bhvYJ2S"
   },
   "outputs": [
    {
     "data": {
      "image/png": "[encoded data removed]",
      "text/plain": [
       "<Figure size 864x1080 with 1 Axes>"
      ]
     },
     "metadata": {
      "needs_background": "light"
     },
     "output_type": "display_data"
    }
   ],
   "source": [
    "all_genres = nltk.FreqDist(all_genres) \n",
    "all_genres_df = pd.DataFrame({'Genre': list(all_genres.keys()), \n",
    "                              'Count': list(all_genres.values())})\n",
    "g = all_genres_df.nlargest(columns=\"Count\", n = 50) \n",
    "plt.figure(figsize=(12,15)) \n",
    "ax = sns.barplot(data=g, x= \"Count\", y = \"Genre\") \n",
    "ax.set(ylabel = 'Count') \n",
    "plt.show()"
   ]
  },
  {
   "cell_type": "code",
   "execution_count": 43,
   "metadata": {},
   "outputs": [
    {
     "data": {
      "text/plain": [
       "(History)                                                             1\n",
       "(Science Fiction, Speculative fiction, Fiction)                       1\n",
       "(Speculative fiction, Fantasy)                                        1\n",
       "(Science Fiction)                                                     1\n",
       "(Fiction, Novel)                                                      1\n",
       "                                                                     ..\n",
       "(Novel)                                                               1\n",
       "(Speculative fiction, Fantasy, Fiction)                               1\n",
       "(Science Fiction)                                                     1\n",
       "(Speculative fiction, Fantasy, Fiction, Novel)                        1\n",
       "(Mystery, Science Fiction, Speculative fiction, Fiction, Suspense)    1\n",
       "Name: Genres, Length: 12841, dtype: int64"
      ]
     },
     "execution_count": 43,
     "metadata": {},
     "output_type": "execute_result"
    }
   ],
   "source": []
  },
  {
   "cell_type": "code",
   "execution_count": null,
   "metadata": {},
   "outputs": [],
   "source": []
  },
  {
   "cell_type": "code",
   "execution_count": 28,
   "metadata": {},
   "outputs": [
    {
     "data": {
      "text/plain": [
       "dict_values(['Roman à clef', 'Satire', \"Children's literature\", 'Speculative fiction', 'Fiction'])"
      ]
     },
     "execution_count": 28,
     "metadata": {},
     "output_type": "execute_result"
    }
   ],
   "source": [
    "df.Genres.iloc[0]"
   ]
  },
  {
   "cell_type": "code",
   "execution_count": 29,
   "metadata": {},
   "outputs": [],
   "source": [
    "X=df.Summary\n",
    "Y=df.Genres\n"
   ]
  },
  {
   "cell_type": "code",
   "execution_count": 30,
   "metadata": {},
   "outputs": [],
   "source": [
    "X_train, X_test, Y_train, Y_test = train_test_split(X, Y, test_size=0.3, random_state = 42)"
   ]
  },
  {
   "cell_type": "code",
   "execution_count": 31,
   "metadata": {},
   "outputs": [],
   "source": [
    "from sklearn.preprocessing import MultiLabelBinarizer\n",
    "multilabel_binarizer=MultiLabelBinarizer()\n",
    "\n",
    "y=multilabel_binarizer.fit(df['Genres'])\n",
    "y = multilabel_binarizer.transform(df['Genres'])"
   ]
  },
  {
   "cell_type": "code",
   "execution_count": 63,
   "metadata": {},
   "outputs": [
    {
     "data": {
      "text/plain": [
       "array(['Absurdist fiction', 'Adventure', 'Adventure novel', 'Albino bias',\n",
       "       'Alien invasion', 'Alternate history', 'American Gothic Fiction',\n",
       "       'Anthology', 'Anthropology', 'Anti-nuclear', 'Anti-war',\n",
       "       'Apocalyptic and post-apocalyptic fiction',\n",
       "       'Autobiographical comics', 'Autobiographical novel',\n",
       "       'Autobiography', 'Bangsian fantasy', 'Bildungsroman',\n",
       "       'Biographical novel', 'Biography', 'Biopunk', 'Bit Lit',\n",
       "       'Black comedy', \"Boys' school stories\", 'Business', 'Cabal',\n",
       "       'Campus novel', 'Catastrophic literature', 'Chick lit',\n",
       "       \"Children's literature\", 'Chivalric romance', 'Collage',\n",
       "       'Colonial United States romance', 'Comedy', 'Comedy of manners',\n",
       "       'Comic book', 'Comic fantasy', 'Comic novel',\n",
       "       'Comic science fiction', 'Comics', 'Coming of age',\n",
       "       'Computer Science', 'Conspiracy', 'Conspiracy fiction',\n",
       "       'Contemporary fantasy', 'Cookbook', 'Cozy', 'Creative nonfiction',\n",
       "       'Crime Fiction', 'Cyberpunk', 'Dark fantasy', 'Detective fiction',\n",
       "       'Drama', 'Dying Earth subgenre', 'Dystopia', 'Economics',\n",
       "       'Edisonade', 'Education', 'Elizabethan romance', 'Encyclopedia',\n",
       "       'English public-school stories',\n",
       "       'Epic Science Fiction and Fantasy', 'Epistolary novel',\n",
       "       'Ergodic literature', 'Erotica', 'Essay', 'Existentialism',\n",
       "       'Experimental literature', 'Fable', 'Fairy tale',\n",
       "       'Fairytale fantasy', 'Fantastique', 'Fantasy',\n",
       "       'Fantasy of manners', 'Farce', 'Feminist science fiction',\n",
       "       'Fiction', 'Fictional crossover', 'Field guide',\n",
       "       'First-person narrative', 'Foreign legion', 'Future history',\n",
       "       'Gamebook', 'Gay Themed', 'Gay novel', 'Georgian romance',\n",
       "       'Ghost story', 'Gothic fiction', 'Graphic novel',\n",
       "       'Hard science fiction', 'Hardboiled', 'Heroic fantasy',\n",
       "       'High fantasy', 'Historical fantasy', 'Historical fiction',\n",
       "       'Historical novel', 'Historical romance', 'Historical whodunnit',\n",
       "       'History', 'Horror', 'Human extinction', 'Humour',\n",
       "       'Indian chick lit', 'Industrial novel', 'Inspirational',\n",
       "       'Invasion literature', 'Juvenile fantasy', 'Künstlerroman',\n",
       "       'LGBT literature', 'Light novel', 'Literary criticism',\n",
       "       'Literary fiction', 'Literary realism', 'Literary theory',\n",
       "       'Locked room mystery', 'Lost World', 'Low fantasy',\n",
       "       'Magic realism', 'Marketing', 'Mashup', 'Mathematics',\n",
       "       'Medieval romance', 'Memoir', 'Metaphysics', 'Military history',\n",
       "       'Military science fiction', 'Modernism', 'Morality play', 'Music',\n",
       "       'Mystery', 'Nature', 'Naval adventure', 'Neuroscience',\n",
       "       'New Weird', 'New York Times Best Seller list', 'Non-fiction',\n",
       "       'Non-fiction novel', 'Novel', 'Novella', 'Parallel novel',\n",
       "       'Paranormal romance', 'Parody', 'Pastiche', 'Personal journal',\n",
       "       'Philosophy', 'Photography', 'Picaresque novel', 'Picture book',\n",
       "       'Planetary romance', 'Play', 'Poetry', 'Polemic',\n",
       "       'Police procedural', 'Political philosophy', 'Politics',\n",
       "       'Popular culture', 'Popular science', 'Pornography',\n",
       "       'Post-holocaust', 'Postcyberpunk', 'Postmodernism', 'Prose',\n",
       "       'Prose poetry', 'Psychological novel', 'Psychology', 'Reference',\n",
       "       'Regency romance', 'Religion', 'Religious text', 'Robinsonade',\n",
       "       'Role-playing game', 'Roman à clef', 'Romance novel',\n",
       "       'Romantic comedy', 'Satire', 'School story', 'Science',\n",
       "       'Science Fiction', 'Science fantasy', 'Scientific romance',\n",
       "       'Sea story', 'Self-help', 'Serial', 'Short story',\n",
       "       'Social commentary', 'Social criticism', 'Social novel',\n",
       "       'Social science fiction', 'Social sciences', 'Sociology',\n",
       "       'Soft science fiction', 'Space opera', 'Space western',\n",
       "       'Speculative fiction', 'Spirituality', 'Sports', 'Spy fiction',\n",
       "       'Steampunk', 'Subterranean fiction', 'Superhero fiction',\n",
       "       'Supernatural', 'Suspense', 'Sword and planet',\n",
       "       'Sword and sorcery', 'Techno-thriller', 'Thriller', 'Time travel',\n",
       "       'Tragicomedy', 'Transgender and transsexual fiction',\n",
       "       'Transhumanism', 'Travel', 'Travel literature', 'Treatise',\n",
       "       'True crime', 'Urban fantasy', 'Urban fiction',\n",
       "       'Utopian and dystopian fiction', 'Utopian fiction',\n",
       "       'Vampire fiction', 'War novel', 'Western', 'Western fiction',\n",
       "       'Whodunit', 'Wuxia', 'Young adult literature', 'Youth', 'Zombie',\n",
       "       'Zombies in popular culture'], dtype=object)"
      ]
     },
     "execution_count": 63,
     "metadata": {},
     "output_type": "execute_result"
    }
   ],
   "source": [
    "multilabel_binarizer.classes_"
   ]
  },
  {
   "cell_type": "code",
   "execution_count": 32,
   "metadata": {},
   "outputs": [],
   "source": [
    "tfidf_vectorizer = TfidfVectorizer(max_df=0.8, max_features=10000)\n",
    "xtrain, xval, ytrain, yval = train_test_split(df['Summary'], y, test_size=0.2, random_state=9)\n",
    "xtrain_tfidf = tfidf_vectorizer.fit_transform(xtrain)\n",
    "xval_tfidf = tfidf_vectorizer.transform(xval)"
   ]
  },
  {
   "cell_type": "code",
   "execution_count": 10,
   "metadata": {},
   "outputs": [],
   "source": [
    "from sklearn.linear_model import LogisticRegression\n",
    "\n",
    "# Binary Relevance\n",
    "from sklearn.multiclass import OneVsRestClassifier\n",
    "\n",
    "# Performance metric\n",
    "from sklearn.metrics import f1_score\n"
   ]
  },
  {
   "cell_type": "code",
   "execution_count": 33,
   "metadata": {},
   "outputs": [],
   "source": [
    "import math\n",
    "lr = LogisticRegression(max_iter=math.inf)\n",
    "clf = OneVsRestClassifier(lr)"
   ]
  },
  {
   "cell_type": "code",
   "execution_count": 34,
   "metadata": {},
   "outputs": [
    {
     "name": "stderr",
     "output_type": "stream",
     "text": [
      "c:\\users\\ghata\\appdata\\local\\programs\\python\\python37\\lib\\site-packages\\sklearn\\multiclass.py:75: UserWarning: Label not 12 is present in all training examples.\n",
      "  str(classes[c]))\n",
      "c:\\users\\ghata\\appdata\\local\\programs\\python\\python37\\lib\\site-packages\\sklearn\\multiclass.py:75: UserWarning: Label not 20 is present in all training examples.\n",
      "  str(classes[c]))\n",
      "c:\\users\\ghata\\appdata\\local\\programs\\python\\python37\\lib\\site-packages\\sklearn\\multiclass.py:75: UserWarning: Label not 78 is present in all training examples.\n",
      "  str(classes[c]))\n",
      "c:\\users\\ghata\\appdata\\local\\programs\\python\\python37\\lib\\site-packages\\sklearn\\multiclass.py:75: UserWarning: Label not 117 is present in all training examples.\n",
      "  str(classes[c]))\n",
      "c:\\users\\ghata\\appdata\\local\\programs\\python\\python37\\lib\\site-packages\\sklearn\\multiclass.py:75: UserWarning: Label not 120 is present in all training examples.\n",
      "  str(classes[c]))\n",
      "c:\\users\\ghata\\appdata\\local\\programs\\python\\python37\\lib\\site-packages\\sklearn\\multiclass.py:75: UserWarning: Label not 151 is present in all training examples.\n",
      "  str(classes[c]))\n",
      "c:\\users\\ghata\\appdata\\local\\programs\\python\\python37\\lib\\site-packages\\sklearn\\multiclass.py:75: UserWarning: Label not 184 is present in all training examples.\n",
      "  str(classes[c]))\n"
     ]
    },
    {
     "data": {
      "text/plain": [
       "OneVsRestClassifier(estimator=LogisticRegression(C=1.0, class_weight=None,\n",
       "                                                 dual=False, fit_intercept=True,\n",
       "                                                 intercept_scaling=1,\n",
       "                                                 l1_ratio=None, max_iter=inf,\n",
       "                                                 multi_class='auto',\n",
       "                                                 n_jobs=None, penalty='l2',\n",
       "                                                 random_state=None,\n",
       "                                                 solver='lbfgs', tol=0.0001,\n",
       "                                                 verbose=0, warm_start=False),\n",
       "                    n_jobs=None)"
      ]
     },
     "execution_count": 34,
     "metadata": {},
     "output_type": "execute_result"
    }
   ],
   "source": [
    "clf.fit(xtrain_tfidf, ytrain)"
   ]
  },
  {
   "cell_type": "code",
   "execution_count": 35,
   "metadata": {},
   "outputs": [],
   "source": [
    "y_pred = clf.predict(xval_tfidf)"
   ]
  },
  {
   "cell_type": "code",
   "execution_count": 36,
   "metadata": {},
   "outputs": [
    {
     "data": {
      "text/plain": [
       "0.3667475418209679"
      ]
     },
     "execution_count": 36,
     "metadata": {},
     "output_type": "execute_result"
    }
   ],
   "source": [
    "f1_score(yval, y_pred, average=\"micro\")\n"
   ]
  },
  {
   "cell_type": "code",
   "execution_count": 37,
   "metadata": {},
   "outputs": [],
   "source": [
    "y_pred_prob = clf.predict_proba(xval_tfidf)\n",
    "t = 0.2505 # threshold value 0.2505 -> 0.7110468896756014\n",
    "y_pred_new = (y_pred_prob >= t).astype(int)"
   ]
  },
  {
   "cell_type": "code",
   "execution_count": 38,
   "metadata": {},
   "outputs": [
    {
     "data": {
      "text/plain": [
       "0.5454249430153044"
      ]
     },
     "execution_count": 38,
     "metadata": {},
     "output_type": "execute_result"
    }
   ],
   "source": [
    "f1_score(yval, y_pred_new, average=\"micro\")"
   ]
  },
  {
   "cell_type": "code",
   "execution_count": 39,
   "metadata": {},
   "outputs": [
    {
     "data": {
      "text/plain": [
       "array([[0, 0, 0, ..., 0, 0, 0],\n",
       "       [0, 0, 0, ..., 0, 0, 0],\n",
       "       [0, 0, 0, ..., 0, 0, 0],\n",
       "       ...,\n",
       "       [0, 0, 0, ..., 0, 0, 0],\n",
       "       [0, 0, 0, ..., 0, 0, 0],\n",
       "       [0, 0, 0, ..., 0, 0, 0]])"
      ]
     },
     "execution_count": 39,
     "metadata": {},
     "output_type": "execute_result"
    }
   ],
   "source": [
    "y_pred"
   ]
  },
  {
   "cell_type": "code",
   "execution_count": null,
   "metadata": {},
   "outputs": [],
   "source": []
  },
  {
   "cell_type": "code",
   "execution_count": 40,
   "metadata": {},
   "outputs": [],
   "source": [
    "def infer_tags(q):\n",
    "    \n",
    "    q_vec = tfidf_vectorizer.transform([q])\n",
    "    #q_pred = clf.predict(q_vec)\n",
    "\n",
    "    q_pred_prob = clf.predict_proba(q_vec)\n",
    "    t = 0.2505 # threshold value 0.2505 -> 0.7110468896756014\n",
    "    q_pred_new = (q_pred_prob >= t).astype(int)\n",
    "\n",
    "    return multilabel_binarizer.inverse_transform(q_pred_new)\n"
   ]
  },
  {
   "cell_type": "code",
   "execution_count": 41,
   "metadata": {},
   "outputs": [
    {
     "name": "stdout",
     "output_type": "stream",
     "text": [
      "Book:  Alcatraz Versus the Scrivener's Bones \n",
      "Predicted genre:  [('Fantasy', 'Fiction', 'Speculative fiction')]\n",
      "Actual genre:  dict_values(['Fantasy']) \n",
      "\n",
      "Book:  Fer-de-Lance \n",
      "Predicted genre:  [('Detective fiction', 'Fiction', 'Mystery', 'Suspense')]\n",
      "Actual genre:  dict_values(['Mystery', 'Detective fiction', 'Fiction', 'Suspense']) \n",
      "\n",
      "Book:  Predator's Gold \n",
      "Predicted genre:  [('Adventure novel', \"Children's literature\", 'Fantasy', 'Fiction', 'Science Fiction', 'Speculative fiction', 'Young adult literature')]\n",
      "Actual genre:  dict_values(['Science Fiction', 'Speculative fiction', 'Young adult literature', 'Steampunk', 'Adventure novel']) \n",
      "\n",
      "Book:  The Troika \n",
      "Predicted genre:  [('Fiction', 'Science Fiction', 'Speculative fiction')]\n",
      "Actual genre:  dict_values(['Science Fiction', 'Speculative fiction', 'Novel']) \n",
      "\n",
      "Book:  The Cossacks \n",
      "Predicted genre:  [('Fiction', 'Novel', 'Speculative fiction')]\n",
      "Actual genre:  dict_values(['Fiction', 'Novella']) \n",
      "\n"
     ]
    }
   ],
   "source": [
    "\n",
    "for i in range(5): \n",
    "    k = xval.sample(1).index[0] \n",
    "    print(\"Book: \", df['Name'][k], \"\\nPredicted genre: \", infer_tags(xval[k])), print(\"Actual genre: \",df['Genres'][k], \"\\n\")"
   ]
  },
  {
   "cell_type": "code",
   "execution_count": null,
   "metadata": {},
   "outputs": [],
   "source": []
  },
  {
   "cell_type": "code",
   "execution_count": 42,
   "metadata": {},
   "outputs": [
    {
     "name": "stdout",
     "output_type": "stream",
     "text": [
      "\n",
      "Predicted genre:  [(\"Children's literature\", 'Fantasy', 'Fiction', 'Speculative fiction')]\n",
      "\n",
      "Predicted genre:  [(\"Children's literature\", 'Fiction', 'Speculative fiction')]\n",
      "\n",
      "Predicted genre:  [('Crime Fiction', 'Fiction', 'Mystery', 'Suspense')]\n",
      "\n",
      "Predicted genre:  [('Science Fiction', 'Speculative fiction')]\n",
      "\n",
      "Predicted genre:  [('Fantasy', 'Fiction', 'Speculative fiction')]\n",
      "\n",
      "Predicted genre:  [('Fiction', 'Science Fiction', 'Speculative fiction')]\n",
      "\n",
      "Predicted genre:  [('Fiction', 'Novel')]\n",
      "\n",
      "Predicted genre:  [(\"Children's literature\", 'Fiction', 'Speculative fiction')]\n"
     ]
    }
   ],
   "source": [
    "summ=[\"Alice is sitting with her sister outdoors when she spies a White Rabbit with a pocket watch. Fascinated by the sight, she follows the rabbit down the hole. She falls for a long time, and finds herself in a long hallway full of doors. There is also a key on the table, which unlocks a tiny door; through this door, she spies a beautiful garden. She longs to get there, but the door is too small. Soon, she finds a drink with a note that asks her to drink it. There is later a cake with a note that tells her to eat; Alice uses both, but she cannot seem to get a handle on things, and is always either too large to get through the door or too small to reach the key. While she is tiny, she slips and falls into a pool of water. She realizes that this little sea is made of tears she cried while a giant. She swims to shore with a number of animals, most notably a sensitive mouse, but manages to offend everyone by talking about her cat's ability to catch birds and mice. Left alone, she goes on through the wood and runs into the White Rabbit. He mistakes her for his maid and sends her to fetch some things from his house. While in the White Rabbit's home, she drinks another potion and becomes too huge to get out through the door. She eventually finds a little cake which, when eaten, makes her small again. In the wood again, she comes across a Caterpillar sitting on a mushroom. He gives her some valuable advice, as well as a valuable tool: the two sides of the mushroom, which can make Alice grow larger and smaller as she wishes. The first time she uses them, she stretches her body out tremendously. While stretched out, she pokes her head into the branches of a tree and meets a Pigeon. The Pigeon is convinced that Alice is a serpent, and though Alice tries to reason with her the Pigeon tells her to be off. Alice gets herself down to normal proportions and continues her trek through the woods. In a clearing she comes across a little house and shrinks herself down enough to get inside. It is the house of the Duchess; the Duchess and the Cook are battling fiercely, and they seem unconcerned about the safety of the baby that the Duchess is nursing. Alice takes the baby with her, but the child turns into a pig and trots off into the woods. Alice next meets the Cheshire cat (who was sitting in the Duchess's house, but said nothing). The Cheshire cat helps her to find her way through the woods, but he warns her that everyone she meets will be mad. Alice goes to the March Hare's house, where she is treated to a Mad Tea Party. Present are the March Hare, the Hatter, and the Dormouse. Ever since Time stopped working for the Hatter, it has always been six o'clock; it is therefore always teatime. The creatures of the Mad Tea Party are some of the must argumentative in all of Wonderland. Alice leaves them and finds a tree with a door in it: when she looks through the door, she spies the door-lined hallway from the beginning of her adventures. This time, she is prepared, and she manages to get to the lovely garden that she saw earlier. She walks on through, and finds herself in the garden of the Queen of Hearts. There, three gardeners (with bodies shaped like playing cards) are painting the roses red. If the Queen finds out that they planted white roses, she'll have them beheaded. The Queen herself soon arrives, and she does order their execution; Alice helps to hide them in a large flowerpot. The Queen invites Alice to play croquet, which is a very difficult game in Wonderland, as the balls and mallets are live animals. The game is interrupted by the appearance of the Cheshire cat, whom the King of Hearts immediately dislikes. The Queen takes Alice to the Gryphon, who in turn takes Alice to the Mock Turtle. The Gryphon and the Mock Turtle tell Alice bizarre stories about their school under the sea. The Mock Turtles sings a melancholy song about turtle soup, and soon afterward the Gryphon drags Alice off to see the trial of the Knave of Hearts. The Knave of Hearts has been accused of stealing the tarts of the Queen of Hearts, but the evidence against him is very bad. Alice is appalled by the ridiculous proceedings. She also begins to grow larger. She is soon called to the witness stand; by this time she has grown to giant size. She refuses to be intimidated by the bad logic of the court and the bluster of the King and Queen of Hearts. Suddenly, the cards all rise up and attack her, at which point she wakes up. Her adventures in Wonderland have all been a fantastic dream.\",\n",
    "     \"Shere Khan, the tiger, pursues a small Indian boy who strays from his native village, but Shere Khan is lame and misses his leap upon the child. When Father Wolf takes the boy home with him to show to Mother Wolf, Shere Khan follows and demands the child as his quarry. Mother Wolf refuses. The tiger retires in anger. Mowgli, the frog, for such he is named, is reared by Mother Wolf along with her own cubs. Father Wolf takes Mowgli to the Council Rock to be recognized by the wolves. Bagheera, the panther, and Baloo, the bear, speak for Mowgli’s acceptance into the Seeonee wolf pack. Therefore, Mowgli becomes a wolf. Baloo becomes Mowgli’s teacher and instructs him in the lore of the jungle. Mowgli learns to speak the languages of all the jungle people. Throughout his early life, the threat of Shere Khan hangs over him, but Mowgli is certain of his place in the pack and of his friends’ protection; someday when Akela, the leader of the wolves, misses his kill, the pack will turn on him and Mowgli. Bagheera tells Mowgli to get the Red Flower, or fire, from the village to protect himself. When Akela misses his quarry one night and is about to be deposed and killed, Mowgli attacks all of the mutual enemies with his fire sticks and threatens to destroy anyone who molests Akela. That night, Mowgli realizes that the jungle is no place for him, and that someday he will go to live with men. That time, however, is still far off. One day, Mowgli climbs a tree and makes friends with the Bandar-Log, the monkey tribe, who because of their stupidity and vanity are despised by the other jungle people. When the Bandar-Log carries off Mowgli, Bagheera and Baloo go in pursuit, taking along Kaa, the rock python, who loves to eat monkeys. Mowgli is rescued at the old ruined city of the Cold Lairs by the three pursuers, and Kaa feasts royally upon monkey meat. One year during a severe drought in the jungle, Hathi the elephant proclaims the water truce; all animals are allowed to drink at the water hole unmolested. Shere Khan announces to the animals gathered there one day that he killed a man, not for food but from choice. The other animals are shocked. Hathi allows the tiger to drink and then tells him to be off. Then Hathi tells the story of how fear came to the jungle and why the tiger is striped. It is the tiger who first kills man and earns the human tribe’s unrelenting enmity; for his deed, the tiger is condemned to wear stripes. For one day a year, the tiger is not afraid of man and can kill him. This day is called, among jungle people, the Night of the Tiger. One day, Mowgli wanders close to a native village, where he is adopted by Messua, a woman who lost her son some years before. Mowgli becomes a watcher of the village herds; from time to time, he meets Gray Wolf, his brother, and hears the news of the jungle. Learning that Shere Khan intends to kill him, he plans with Akela and Gray Brother to kill the tiger.\",\n",
    "      \"Agatha Christie’s detective novel featuring Hercule Poirot is set primarily in Egypt on a boat going down the Nile. Several murders are committed and Poirot, the well-known Belgian detective, is called upon to solve them. The novel begins in England, however, with an apparent love triangle between two young women who are old friends and a young man who is engaged to one of them. Jacqueline de Bellefort, who is engaged to Simon Doyle, goes to visit Linnet Ridgeway to ask her to give Simon a job. Linnet has just inherited a lot of money, Jackie has very little, and Simon has none. Linnet agrees after her friend persuades her of his many virtues. However, Simon soon breaks off his engagement to Jackie and instead marries Linnet. This turn of events sets in motion the rest of the plot. Once they get on the boat in Egypt, the first murder victim is Linnet, who is shot in the head. Of course Simon is the prime suspect. Sadly, Jackie had followed them on their romantic Nile cruise, which Linnet thought was creepy. Therefore, Jackie is also a viable suspect. In a secondary plot, it is revealed that Linnet’s valuable pearls were stolen from her room. Poirot must determine if the two acts are related. Because of her easy access, Linnet’s maid Louise Bourget could have the pearls, and all the other passengers initially seem to have equally good motives and opportunities. Soon Louise is also murdered, and Jackie accidentally shoots Simon in the leg. The atmosphere on board is decidedly tense, but Tim Allerton develops a romantic interest in Rosalie Otterbourne. Her mother, a novelist, approaches Poirot about putting him in a novel. She has figured out the murderer’s identity, but she becomes the next murder victim. With the help of his friend Colonel Race, Poirot figures out that and the pearls were stolen by a wealthy American Marie Van Schuyler, who is a kleptomaniac. Following a clue provided by red nail polish, Poirot realizes Simon was not injured; Jackie and Simon had been scheming to defraud Linnet. As the boat prepares to dock, Jackie (who had a second pistol) kills first herself and then Simon so that they will not be prosecuted.\",\n",
    "      \"Bryson describes graphically and in layperson's terms the size of the universe and that of atoms and subatomic particles. He then explores the history of geology and biology and traces life from its first appearance to today's modern humans, placing emphasis on the development of the modern Homo sapiens. Furthermore, he discusses the possibility of the Earth being struck by a meteorite and reflects on human capabilities of spotting a meteor before it impacts the Earth, and the extensive damage that such an event would cause. He also describes some of the most recent destructive disasters of volcanic origin in the history of our planet, including Krakatoa and Yellowstone National Park. A large part of the book is devoted to relating humorous stories about the scientists behind the research and discoveries and their sometimes eccentric behaviours. Bryson also speaks about modern scientific views on human effects on the Earth's climate and livelihood of other species, and the magnitude of natural disasters such as earthquakes, volcanoes, tsunamis, hurricanes, and the mass extinctions caused by some of these events. An illustrated edition of the book was released in November 2005.A few editions in audiobook form are also available, including an abridged version read by the author, and at least three unabridged versions.\",\n",
    "     \"Following Dumbledore's death, Harry is moved to a safe location and during this event Mad-Eye is killed. Ron and Hermione decide to join Harry in his quest to destroy the Horcruxes. Some of the clues that Dumbledore left them included: a Golden Snitch for Harry, a Deluminator for Ron, and a book of fairy tales for Hermione. During Bill Weasley's wedding, the Ministry of Magic falls. Harry, Ron and Hermione flee to 12 Grimmauld Place in London. They identify R.A.B. as Sirius' brother Regulus Black and Kreacher reveals that he stole the locket and it now belongs to Dolores Umbridge. They manage to retrieve the locket but cannot destroy it. Ron becomes increasingly angry especially due to the locket's influence and leaves the trio. Harry and Hermione travel to Godric's Hollow, Harry's birthplace where they meet historian Bathilda Bagshot, but she turns out to be Nagini in disguise. They escape to Forest of Dean. A Patronus appears to Harry and guides him to an icy pond containing the Sword of Gryffindor. However, the locket around his neck tries to kill him through the Horcrux and Ron saves Harry. Ron uses the sword to destroy the Horcrux. They visit Xenophilius Lovegood and he explains to them about the Deathly Hallows. Harry realises that Voldemort is seeking the Elder Wand. However, they are all captured and taken to Malfoy Manor. They escape and Griphook tells them of Helga Hufflepuff's cup, which is another Horcrux. They break into the vault, retrieve the cup, and escape on a dragon. They enter Hogwarts through a passageway. Harry realises that Rowena Ravenclaw's diadem is a Horcrux. Ron and Hermione destroy it with a basilisk fang. Voldemort kills Snape after assuming that the Elder Wand is not working because it's loyalty lies with Snape, who disarmed Dumbledore. Snape passes Harry his memories to view in a Pensieve. It is revealed that Snape was a double agent working for Dumbledore because he loved Lily Potter. It was Snape's doe Patronus that lead Harry to the sword. Neville Longbottom manages to kill Voldemort's snake Nagini, the last Horcrux. Voldemort uses the killing curse against Harry. Harry enters Limbo where he meets Dumbledore who explains to him that Voldemort has killed the link between himself and Harry. Harry returns to the living world. Voldemort and Harry battle. Harry reveals to Voldemort that the Elder Wand cannot harm him because its loyalty lies with Harry, as he was the one to disarm Draco Malfoy, who disarmed Dumbledore. Voldemort cast the killing curse on Harry but it refutes and he ends up killing himself. Harry destroys the Elder Wand after the war and the wizarding world returns to peace once more. In the epilogue, 19 years later, Harry, Ron, Hermione see off their children who are off to Hogwarts.\",\n",
    "     \" Luke and Leia are traveling to Circarpous IV to persuade the Circarpousians to join the Rebel Alliance. A strange energy storm forces them to crash land on the swampy planet Mimban. Luke, after finding Leia, begins looking for a station that would allow them to get off the planet but instead find a town near which agents of the Empire have a secret energy mine. Forced to keep their identities secret, Luke admonishes Leia to follow his lead, and in a nearby bar where they take refuge, claims she is his servant girl. An old woman named Halla approaches them; while revealing little of her own background, she identifies Luke as one who is strong with the Force and shows him a splinter of what she claims to be the Kaiburr crystal, a glowing crystal that magnifies and focuses the Force. Halla strikes a deal with Luke and Leia that if they help her find it, she will help them get off the planet. They leave together. Upon emerging, Leia retorts that Luke ought not to have struck her; the two squabble as some miners emerge from the bar. The miners claim that fighting in public is against Imperial law here, and they all get into a brawl. Imperial stormtroopers intervene and take Luke, Leia and the miners to the local jail. They are questioned by Captain-Supervisor Grammel. The miners are taken away while Grammel continues questioning Luke and Leia. Grammel discovers and confiscates the crystal shard, along with Luke's weapons. Luke and Leia are placed in the maximum security cell with two drunken but friendly Yuzzem--hairy aboriginal creatures resembling squat Sasquatch--called Hin and Kee, while Grammel reports the incident and the crystal shard to Governor Bin Essada, in charge of the group of star systems including Circarpous. Halla, with Luke's help, uses the Force to help rescue Luke, Leia and the two Yuzzem; the two Yuzzem rampage through the jail barracks, while Luke and Leia escape, and the four meet Halla to find the Temple of Pomojema, which Halla believes to be the location of the Kaiburr crystal. They travel through the swampy wilds of Mimban, during which travel they encounter a wandrella, a huge worm-like creature. The wandrella pursues them, forcing them to leave the transport and splitting Luke and Leia apart from Halla, the droids and the Yuzzem. Luke and Leia hide in a deep well, down which the wandrella falls, leaving the two trapped in the well as it destroys their escape path; Halla mentions from the lip of the well that there must be an escape route, and Luke and Leia go in search of it, though their travels involve floating across a lake on lily pads, and fending off creatures of the deep with Luke's light saber. On the other side of the lake, they encounter the secretive residents of the caves, Coway guards/patrols. They kill all but one of the Coway; the survivor escapes and tells his Coway tribe about the visitors. Luke and Leia follow the single Coway to the tribe, where they find Halla's group being held as prisoners. To save his friends, Luke defeats the Coway's champion fighter. The Coway become his friends, but Luke senses Darth Vader. Coway patrols confirm Luke's feeling: Imperials, led by Darth Vader and Captain-Supervisor Grammel, are attacking the underground cave. When the Imperials arrive, they are surprised by the Coway tribe's powerful response and face a debacle. Vader and Grammel retreat with the handful of surviving stormtroopers, though Vader loses patience with Grammel for the defeat and kills him. Luke and company steal an Imperial transport left behind, and begin travelling to the Temple themselves. They beat Vader to the temple and find the Kaiburr crystal. They encounter a monster, and unsuccessfully try to fight it off with blasters. Luke tells Hin and Kee to get some rifles. Luke cuts down one of the pillars holding up the temple, crushing the monsters. Luke's leg is pinned under a fallen boulder. Darth Vader then enters the Temple of Pomojema, announcing that he killed Hin and Kee. Leia takes up Luke's lightsaber and begins fighting Darth Vader, but he toys with her, giving her multiple superficial burns with his own saber. Hin, mortally wounded, shows up and in his dying act, lifts the big rock off of Luke's leg. Luke fights Vader, showing more skill than expected, deflecting some Force-based attacks and eventually slicing off Vader's arm. Despite this, the Sith Lord seems about to win, but then falls into a pit. Luke senses that Vader is still alive. As the story ends, Leia and Luke, healed by the crystal, drive off with Halla into the mists of Mimban.\",\n",
    "     \" The novelâ€™s protagonist, the â€œcrap artistâ€ of the title, is Jack Isidore, a socially awkward tire regroover obsessed with amateur scientific inquiry since his teens. He catalogs old science magazines, collects worthless objects, and believes disproved theories, such as the notions that the Earth is hollow or that sunlight has weight. Broke, Jack eventually moves in with his sisterâ€™s family in a luxurious farm house in suburban California. On the farm, Jack happily does housework and cares for livestock. He also joins a small apocalyptic religious group, which shares his belief in extra-sensory perception, telepathy and UFOs and believes the world will end on April 23, 1959. However, most of his time is dedicated to a meticulous â€œscientific journalâ€ of life on the farm, including his sisterâ€™s marital difficulties. Jackâ€™s sister, Fay Hume, is a difficult and subtly controlling woman who makes miserable everyone close to her, especially her misogynist husband Charley. Fay has an extramarital affair with a young grad student named Nat Anteil while Charley is in a hospital recovering from a heart attack. After Jack reports this to Charley, the latter plots to kill Fay. Charley kills Fay's animals and then commits suicide, realising that Fay has led him to do this. However, his will stipulates that Jack will inherit half the house, and Fay must buy her brother out, although Jack has used his half of the money to replace the slaughtered animals. Nat and his wife Gwen divorce, and Nat decides to stay with Fay. When the end of the world doesn't occur on the predicted date, Jack decides to seek psychiatric assistance.\",\n",
    "      \" The plot focuses on Adam Salton, originally from Australia, who is contacted by his great-uncle, Richard Salton, in 1860 Derbyshire for the purpose of establishing a relationship between these last two members of the family. His great-uncle wants to make Adam his heir. Adam travels to Richard Salton's house in Mercia, Lesser Hill, and quickly finds himself at the centre of mysterious and inexplicable occurrences. The new heir to the Caswall estate, known as Castra Regis, the Royal Camp, Edgar Caswall, appears to be making some sort of a mesmeric assault on a local girl, Lilla Watford, while a local lady, Arabella March, seems to be running a game of her own, perhaps angling to become Mrs. Caswall. Adam Salton discovers black snakes on the property and buys a mongoose to hunt them down. He then discovers a child who has been bitten on the neck. The child barely survives. He learns that another child was killed earlier while animals were also killed in the region. The mongoose attacks Arabella who shoots it to death. Arabella tears another mongoose apart with her hands. Arabella then murders Oolanga, the African servant, by dragging him down into a pit or hole. Adam witnesses the murder which he cannot prove. Adam then suspects Arabella of the other crimes. Adam and Sir Nathaniel de Salis, who is a friend of Richard Salton's, then plot to stop Arabella by whatever means necessary. They suspect that she wants to murder Mimi Watford, whom Adam later marries. Nathaniel is an Abraham Van Helsing type of character who wants to hunt down Arabella. The White Worm is a large snake-like creature that dwells in the hole or pit in Arabella's house located in Diana's Grove. The White Worm has green glowing eyes and feeds on whatever is thrown to it in the pit. The White Worm ascends from the pit and seeks to attack Adam and Mimi Watford in a forest. Adam plans to pour sand into the pit and to use dynamite to kill the giant White Worm while it is inside the pit. Edgar Caswall is a slightly pathological eccentric who has Mesmer's chest which he keeps at the Castra Regis Tower. Caswall wants to recreate mesmerism, associated with Anton Mesmer, which was a precursor to hypnotism. He has a giant kite in the shape of a hawk to scare away pigeons which have gone berserk and have attacked his fields. In the final scene, Adam Salton, Mimi Watford, and Nathaniel de Salis confront Arabella and Edgar Caswall. A thunderstorm and lightning destroy Diana's Grove by igniting the dynamite.\"\n",
    "     \n",
    "     ]\n",
    "s1=str(\"Hazel Grace Lancaster, a 16-year-old with thyroid cancer that has spread to her lungs, attends a cancer patient support group at her mother's behest. At one meeting, Hazel meets a 17-year-old boy currently in remission named Augustus Waters, whose osteosarcoma caused him to lose his right leg. Augustus is at the meeting to support Isaac, his friend who has eye cancer. They meet after the support group and begin to talk. When everything seems to be going well, Augustus pulls out a cigarette and puts it between his lips. Hazel is disgusted by this and yells at him saying that he's already got cancer and he wants to pay money for more cancer. Augustus explains that he does not actually light the cigarette. He says, 'You put an object of death right between your lips, but you don't give it the power to kill you.' Hazel, impressed by this, goes to his house to watch a movie. Hazel and Augustus strike a bond immediately and agree to read each other's favorite novels. Augustus gives Hazel The Price of Dawn, and Hazel recommends An Imperial Affliction, a novel written by Peter Van Houten, who lives in Amsterdam, about a cancer-stricken girl named Anna that parallels Hazel's own experience. After Augustus finishes reading her book, he is frustrated upon learning that the novel ends abruptly without a conclusion. The novel ends in the middle of a sentence, which means she either died or became too sick to continue telling the story. Hazel explains the novel's author retreated following the novel's publication and has not been heard from since.A week later, Augustus reveals to Hazel that he has tracked down Van Houten's assistant, Lidewij, and, through her, has managed to start an e-mail correspondence with Van Houten. The two write to Van Houten with questions regarding the novel's ending and the fate of the mother of Anna. Van Houten eventually replies, explaining that he can only answer Hazel's questions in person. At a picnic, Augustus surprises Hazel with tickets to Amsterdam to meet Van Houten, acquired through the Make-A-Wish Foundation. While on the plane to Amsterdam, Augustus confesses his love for Hazel. Hazel and Augustus finally meet Van Houten but are shocked to find that he is a mean-spirited drunk. Horrified by Van Houten's behavior, Lidewij confesses to having arranged the meeting on his behalf, angering Van Houten, who proceeds to insult Hazel's cancer, starting an argument and causing Hazel and Augustus to flee from his home. Lidewij resigns as Van Houten's assistant and takes Hazel and Augustus to the Anne Frank House, where Augustus and Hazel share their first kiss. Hazel and Augustus go out for a fancy dinner while in Amsterdam where they drink champagne and 'taste the stars'. Later that night Hazel and Augustus have sex in Augustus's hotel room, the first time for both of them. While having sex, Hazel tells Augustus she loves him. Augustus confesses to Hazel that his cancer has returned. The two affirm their love and support for one another. Upon their return to Indianapolis, Augustus's health worsens and he ends up in the ICU for a few days. Fearing his death, Augustus invites Isaac and Hazel to his pre-funeral, where they give eulogies. Augustus dies soon after, leaving Hazel heartbroken. Van Houten shows up at Augustus's funeral to apologize to Hazel, but Hazel does not forgive him. Hazel learns that Augustus was not writing a sequel to An Imperial Affliction like he told her, but an obituary for her, and reads it after Lidewij discovers it amidst Van Houten's letters. It states that getting hurt in this world is unavoidable, but we do get to choose whom we allow to hurt us, and that he is happy with his choice, and hopes she likes hers too. The book closes with Hazel stating that she is happy with her choice.\")\n",
    "# for i in range(8):\n",
    "#     summ[i]=preprocesswithoutstem(summ[i])\n",
    "# # s1=preprocesswithoutstem(s1)\n",
    "# y_pred=nb.predict(summ)\n",
    "# print(y_pred)\n",
    "# y_pred=sgd.predict(summ)\n",
    "# y_pred\n",
    "for i in range(8): \n",
    "    k = summ[i]\n",
    "    print(  \"\\nPredicted genre: \", infer_tags(k))"
   ]
  },
  {
   "cell_type": "code",
   "execution_count": null,
   "metadata": {},
   "outputs": [],
   "source": []
  },
  {
   "cell_type": "code",
   "execution_count": null,
   "metadata": {},
   "outputs": [],
   "source": []
  },
  {
   "cell_type": "code",
   "execution_count": 56,
   "metadata": {},
   "outputs": [
    {
     "data": {
      "text/plain": [
       "Pipeline(memory=None,\n",
       "         steps=[('vect',\n",
       "                 CountVectorizer(analyzer='word', binary=False,\n",
       "                                 decode_error='strict',\n",
       "                                 dtype=<class 'numpy.int64'>, encoding='utf-8',\n",
       "                                 input='content', lowercase=True, max_df=1.0,\n",
       "                                 max_features=None, min_df=1,\n",
       "                                 ngram_range=(1, 1), preprocessor=None,\n",
       "                                 stop_words=None, strip_accents=None,\n",
       "                                 token_pattern='(?u)\\\\b\\\\w\\\\w+\\\\b',\n",
       "                                 tokenizer=None, vocabulary=Non...\n",
       "                                  sublinear_tf=False, use_idf=True)),\n",
       "                ('clf',\n",
       "                 DecisionTreeClassifier(ccp_alpha=0.0, class_weight=None,\n",
       "                                        criterion='gini', max_depth=None,\n",
       "                                        max_features=None, max_leaf_nodes=None,\n",
       "                                        min_impurity_decrease=0.0,\n",
       "                                        min_impurity_split=None,\n",
       "                                        min_samples_leaf=1, min_samples_split=2,\n",
       "                                        min_weight_fraction_leaf=0.0,\n",
       "                                        presort='deprecated', random_state=None,\n",
       "                                        splitter='best'))],\n",
       "         verbose=False)"
      ]
     },
     "execution_count": 56,
     "metadata": {},
     "output_type": "execute_result"
    }
   ],
   "source": [
    "from sklearn import tree\n",
    "sgd = Pipeline([('vect', CountVectorizer()),\n",
    "                ('tfidf', TfidfTransformer()),\n",
    "                ('clf', tree.DecisionTreeClassifier()),\n",
    "               ])\n",
    "sgd.fit(X_train, Y_train)"
   ]
  },
  {
   "cell_type": "code",
   "execution_count": 57,
   "metadata": {},
   "outputs": [
    {
     "name": "stdout",
     "output_type": "stream",
     "text": [
      "accuracy 0.7847889041304679\n",
      "                        precision    recall  f1-score   support\n",
      "\n",
      "       Adventure novel       0.93      1.00      0.97       211\n",
      "             Biography       0.96      1.00      0.98       112\n",
      " Children's literature       0.29      0.24      0.26       330\n",
      "               Fantasy       0.71      0.79      0.75       361\n",
      "                Horror       0.91      1.00      0.95       299\n",
      "      Literary fiction       0.99      1.00      0.99        85\n",
      "                Memoir       0.97      1.00      0.98       145\n",
      "               Mystery       0.79      0.82      0.81       452\n",
      "           Non-fiction       0.94      1.00      0.97       466\n",
      "                 Novel       0.23      0.16      0.19       296\n",
      "            Philosophy       1.00      1.00      1.00        74\n",
      "          Picture book       0.93      1.00      0.96       162\n",
      "         Romance novel       0.91      1.00      0.95       213\n",
      "       Science Fiction       0.57      0.43      0.49       283\n",
      "           Short story       0.88      1.00      0.93       107\n",
      "           Spy fiction       0.97      1.00      0.98       312\n",
      "     Sword and sorcery       0.98      1.00      0.99        63\n",
      "       Techno-thriller       0.96      1.00      0.98       131\n",
      "              Thriller       0.71      0.74      0.72       343\n",
      "         Urban fantasy       0.96      1.00      0.98        76\n",
      "Young adult literature       0.74      0.73      0.73       191\n",
      "         autobiography       0.89      1.00      0.94       443\n",
      "                comedy       0.92      1.00      0.96       473\n",
      "               fiction       0.41      0.30      0.35       512\n",
      "            historical       0.70      0.78      0.74       421\n",
      "\n",
      "              accuracy                           0.78      6561\n",
      "             macro avg       0.81      0.84      0.82      6561\n",
      "          weighted avg       0.76      0.78      0.77      6561\n",
      "\n"
     ]
    }
   ],
   "source": [
    "y_pred = sgd.predict(X_test)\n",
    "\n",
    "print('accuracy %s' % accuracy_score(y_pred, Y_test))\n",
    "print(classification_report(Y_test, y_pred))"
   ]
  },
  {
   "cell_type": "code",
   "execution_count": 135,
   "metadata": {},
   "outputs": [
    {
     "name": "stdout",
     "output_type": "stream",
     "text": [
      "612\n"
     ]
    }
   ],
   "source": [
    "n=0\n",
    "for i in range(4370):\n",
    "    prediction = sgd.predict([preprocesswithoutstem(X_test.iloc[i])])\n",
    "    \n",
    "    a=Y_test[i]\n",
    "    p=prediction[0]\n",
    "    if a!=p:\n",
    "      # print('Actual label:' + a)\n",
    "      # print(\"Predicted label: \" + p)\n",
    "        n+=1\n",
    "\n",
    "print(n)"
   ]
  },
  {
   "cell_type": "code",
   "execution_count": null,
   "metadata": {},
   "outputs": [],
   "source": []
  }
 ],
 "metadata": {
  "kernelspec": {
   "display_name": "Python 3",
   "language": "python",
   "name": "python3"
  },
  "language_info": {
   "codemirror_mode": {
    "name": "ipython",
    "version": 3
   },
   "file_extension": ".py",
   "mimetype": "text/x-python",
   "name": "python",
   "nbconvert_exporter": "python",
   "pygments_lexer": "ipython3",
   "version": "3.7.5"
  }
 },
 "nbformat": 4,
 "nbformat_minor": 2
}
