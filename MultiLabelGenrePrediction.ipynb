{
 "cells": [
  {
   "cell_type": "code",
   "execution_count": 1,
   "metadata": {
    "colab": {
     "base_uri": "https://localhost:8080/",
     "height": 50
    },
    "colab_type": "code",
    "id": "7FEeYpGC6ll2",
    "outputId": "7a0e0d5a-8bbb-4315-ce9f-12be7eeaeead"
   },
   "outputs": [
    {
     "name": "stderr",
     "output_type": "stream",
     "text": [
      "[nltk_data] Downloading package stopwords to\n",
      "[nltk_data]     C:\\Users\\ghata\\AppData\\Roaming\\nltk_data...\n",
      "[nltk_data]   Package stopwords is already up-to-date!\n"
     ]
    }
   ],
   "source": [
    "import pandas as pd\n",
    "import numpy as np\n",
    "import json\n",
    "import nltk\n",
    "import re\n",
    "import csv\n",
    "import matplotlib.pyplot as plt \n",
    "import seaborn as sns\n",
    "from tqdm import tqdm\n",
    "from sklearn.feature_extraction.text import TfidfVectorizer\n",
    "from sklearn.model_selection import train_test_split\n",
    "from xml.etree import ElementTree\n",
    "from nltk.stem import WordNetLemmatizer\n",
    "nltk.download('stopwords')\n",
    "\n",
    "%matplotlib inline\n",
    "pd.set_option('display.max_colwidth', 300)"
   ]
  },
  {
   "cell_type": "code",
   "execution_count": 3,
   "metadata": {
    "colab": {
     "base_uri": "https://localhost:8080/",
     "height": 54
    },
    "colab_type": "code",
    "id": "2C8L3aYRPqaL",
    "outputId": "4939ad85-2f22-472b-afdc-05ef61033ac0"
   },
   "outputs": [
    {
     "data": {
      "text/plain": [
       "'\\nimport csv\\nwith open(\\'book_data.csv\\', \\'r\\', encoding=\\'utf8\\') as f:\\n  reader = csv.reader(f)\\n  for row in reader:\\n    genres = row[10].split(\\'|\\')\\n    if len(genres) != 0:\\n      dataset.append([row[9], genres, row[1]])\\n\\nimport csv\\ndataset = []\\nwith open(\\'booksummaries.txt\\', \\'r\\', encoding=\"utf8\", errors=\\'ignore\\') as f:\\n    reader=csv.reader(f,dialect=\\'excel-tab\\')\\n    for row in reader:\\n      if row[5] != \\'\\':\\n        genres = list(json.loads(row[5]).values())\\n        dataset.append([row[2], genres, row[6]])\\n'"
      ]
     },
     "execution_count": 3,
     "metadata": {},
     "output_type": "execute_result"
    }
   ],
   "source": [
    "def getDataFrame(filename):\n",
    "  dataset=[]\n",
    "  tree = ElementTree.parse(filename)\n",
    "  root = tree.getroot()\n",
    "\n",
    "  for book in root.findall('book'):\n",
    "      for metadata in book.find('metadata'):\n",
    "          x=metadata\n",
    "          break\n",
    "      a=[]\n",
    "      if(x.find('d3')!=None):\n",
    "          a.append(x.find('d3').text)\n",
    "      if(x.find('d2')!=None):\n",
    "          a.append(x.find('d2').text)\n",
    "      if(x.find('d1')!=None):\n",
    "          a.append(x.find('d1').text)\n",
    "      if(x.find('d0')!=None):\n",
    "          a.append(x.find('d0').text)\n",
    "\n",
    "      if len(a) != 0:        \n",
    "        dataset.append([book.find('title').text,a,book.find('body').text])\n",
    "  return dataset  \n",
    "  \n",
    "  \n",
    "dataset = getDataFrame('./train.xml')\n",
    "dataset2 = getDataFrame('./test.xml')\n",
    "dataset = dataset + dataset2\n",
    "'''\n",
    "import csv\n",
    "with open('book_data.csv', 'r', encoding='utf8') as f:\n",
    "  reader = csv.reader(f)\n",
    "  for row in reader:\n",
    "    genres = row[10].split('|')\n",
    "    if len(genres) != 0:\n",
    "      dataset.append([row[9], genres, row[1]])\n",
    "\n",
    "import csv\n",
    "dataset = []\n",
    "with open('booksummaries.txt', 'r', encoding=\"utf8\", errors='ignore') as f:\n",
    "    reader=csv.reader(f,dialect='excel-tab')\n",
    "    for row in reader:\n",
    "      if row[5] != '':\n",
    "        genres = list(json.loads(row[5]).values())\n",
    "        dataset.append([row[2], genres, row[6]])\n",
    "'''"
   ]
  },
  {
   "cell_type": "code",
   "execution_count": 4,
   "metadata": {
    "colab": {},
    "colab_type": "code",
    "id": "mQYrTJ3wPyP-"
   },
   "outputs": [],
   "source": [
    "df=pd.DataFrame(dataset,columns=['Name','Genres','Summary'])"
   ]
  },
  {
   "cell_type": "code",
   "execution_count": 5,
   "metadata": {
    "colab": {
     "base_uri": "https://localhost:8080/",
     "height": 771
    },
    "colab_type": "code",
    "id": "hfOPDsiJWx0a",
    "outputId": "6aa9f168-42de-4fca-e174-8f2c9192a929"
   },
   "outputs": [
    {
     "data": {
      "text/html": [
       "<div>\n",
       "<style scoped>\n",
       "    .dataframe tbody tr th:only-of-type {\n",
       "        vertical-align: middle;\n",
       "    }\n",
       "\n",
       "    .dataframe tbody tr th {\n",
       "        vertical-align: top;\n",
       "    }\n",
       "\n",
       "    .dataframe thead th {\n",
       "        text-align: right;\n",
       "    }\n",
       "</style>\n",
       "<table border=\"1\" class=\"dataframe\">\n",
       "  <thead>\n",
       "    <tr style=\"text-align: right;\">\n",
       "      <th></th>\n",
       "      <th>Name</th>\n",
       "      <th>Genres</th>\n",
       "      <th>Summary</th>\n",
       "    </tr>\n",
       "  </thead>\n",
       "  <tbody>\n",
       "    <tr>\n",
       "      <th>0</th>\n",
       "      <td>The New York Times Daily Crossword Puzzles: Thursday, Volume 1</td>\n",
       "      <td>[Games, Nonfiction]</td>\n",
       "      <td>Monday’s Crosswords Do with EaseTuesday’s Crosswords Not a BreezeWednesday’s Crosswords Harder StillThursday’s Crosswords Take Real SkillFriday’s Crosswords — You’ve Come This Far…Saturday’s Crosswords — You’re a Star!For millions of people, the New York Times crossword puzzles are as essential ...</td>\n",
       "    </tr>\n",
       "    <tr>\n",
       "      <th>1</th>\n",
       "      <td>Creatures of the Night (Second Edition)</td>\n",
       "      <td>[Graphic Novels and Manga, Fiction]</td>\n",
       "      <td>Two of literary comics modern masters present a pair of magical and disturbing stories of strange creatures who are not quite what they seem! In The Price, a mysterious feline engages in a nightly conflict with an unseen, vicious foe. The Daughter of Owls recounts an eerie tale of a beautiful or...</td>\n",
       "    </tr>\n",
       "    <tr>\n",
       "      <th>2</th>\n",
       "      <td>Cornelia and the Audacious Escapades of the Somerset Sisters</td>\n",
       "      <td>[Children’s Middle Grade Books, Children’s Books]</td>\n",
       "      <td>Eleven-year-old Cornelia is the daughter of two world-famous pianists—a legacy that should feel fabulous, but instead feels just plain lonely. She surrounds herself with dictionaries and other books to isolate herself from the outside world. But when a glamorous neighbor named Virginia Somerset ...</td>\n",
       "    </tr>\n",
       "    <tr>\n",
       "      <th>3</th>\n",
       "      <td>The Alchemist's Daughter</td>\n",
       "      <td>[Historical Fiction, Fiction]</td>\n",
       "      <td>During the English Age of Reason, a woman cloistered since birth learns that knowledge is no substitute for experience.Raised by her father in near isolation in the English countryside, Emilie Selden is trained as a brilliant natural philosopher and alchemist. In the spring of 1725, father and d...</td>\n",
       "    </tr>\n",
       "    <tr>\n",
       "      <th>4</th>\n",
       "      <td>Dangerous Boy</td>\n",
       "      <td>[Teen and Young Adult Mystery and Suspense, Teen and Young Adult]</td>\n",
       "      <td>A modern-day retelling of The Strange Case of Dr. Jekyll and Mr. Hyde with a chilling twist Harper has never been worried about falling in love, something she is skeptical even exists. But everything changes when Logan moves to town, and to Harper’s shock, the two tumble into an intense romance....</td>\n",
       "    </tr>\n",
       "    <tr>\n",
       "      <th>...</th>\n",
       "      <td>...</td>\n",
       "      <td>...</td>\n",
       "      <td>...</td>\n",
       "    </tr>\n",
       "    <tr>\n",
       "      <th>77104</th>\n",
       "      <td>Cathedral of the Sea</td>\n",
       "      <td>[Romance, Fiction]</td>\n",
       "      <td>An unforgettable fresco of a golden age in fourteenth-century Barcelona, Cathedral of the Sea is a thrilling historical novel of friendship and revenge, plague and hope, love and war.   Arnau Estanyol arrives in Barcelona to find a city dominated by the construction of the city’s great pride—the...</td>\n",
       "    </tr>\n",
       "    <tr>\n",
       "      <th>77105</th>\n",
       "      <td>Understanding the Messages of Your Body</td>\n",
       "      <td>[Alternative Therapies, Health and Fitness, Nonfiction]</td>\n",
       "      <td>Fears, anxieties, traumas, and physical and emotional shocks imprint on the body and remain dormant in its vast memory store until they are roused by an event or encounter. They may manifest in a different form or place—a fearful incident may transform itself into a stomachache or a headache, or...</td>\n",
       "    </tr>\n",
       "    <tr>\n",
       "      <th>77106</th>\n",
       "      <td>Knockout</td>\n",
       "      <td>[Alternative Therapies, Health and Fitness, Nonfiction]</td>\n",
       "      <td>In Knockout, Suzanne Somers interviews doctors who are successfully using the most innovative cancer treatments—treatments that build up the body rather than tear it down. Somers herself has stared cancer in the face, and a decade later she has conquered her fear and has emerged confident with t...</td>\n",
       "    </tr>\n",
       "    <tr>\n",
       "      <th>77107</th>\n",
       "      <td>The End of the Suburbs</td>\n",
       "      <td>[Domestic Politics, Politics, Nonfiction]</td>\n",
       "      <td>“The government in the past created one American Dream at the expense of almost all others: the dream of a house, a lawn, a picket fence, two children, and a car. But there is no single American Dream anymore.”For nearly 70 years, the suburbs were as American as apple pie. As the middle class ba...</td>\n",
       "    </tr>\n",
       "    <tr>\n",
       "      <th>77108</th>\n",
       "      <td>First Aid Fast for Babies and Children</td>\n",
       "      <td>[Parenting, Nonfiction]</td>\n",
       "      <td>An indispensable guide for all parents and caretakers that covers a wide range of childhood emergencies.From anaphylaxis to burns to severe bleeding and bruising, First Aid Fast for Babies and Children offers clear advice, and step-by-step photographs show you what to do.This revised and updated...</td>\n",
       "    </tr>\n",
       "  </tbody>\n",
       "</table>\n",
       "<p>77109 rows × 3 columns</p>\n",
       "</div>"
      ],
      "text/plain": [
       "                                                                 Name  \\\n",
       "0      The New York Times Daily Crossword Puzzles: Thursday, Volume 1   \n",
       "1                             Creatures of the Night (Second Edition)   \n",
       "2        Cornelia and the Audacious Escapades of the Somerset Sisters   \n",
       "3                                            The Alchemist's Daughter   \n",
       "4                                                       Dangerous Boy   \n",
       "...                                                               ...   \n",
       "77104                                            Cathedral of the Sea   \n",
       "77105                         Understanding the Messages of Your Body   \n",
       "77106                                                        Knockout   \n",
       "77107                                          The End of the Suburbs   \n",
       "77108                          First Aid Fast for Babies and Children   \n",
       "\n",
       "                                                                  Genres  \\\n",
       "0                                                    [Games, Nonfiction]   \n",
       "1                                    [Graphic Novels and Manga, Fiction]   \n",
       "2                      [Children’s Middle Grade Books, Children’s Books]   \n",
       "3                                          [Historical Fiction, Fiction]   \n",
       "4      [Teen and Young Adult Mystery and Suspense, Teen and Young Adult]   \n",
       "...                                                                  ...   \n",
       "77104                                                 [Romance, Fiction]   \n",
       "77105            [Alternative Therapies, Health and Fitness, Nonfiction]   \n",
       "77106            [Alternative Therapies, Health and Fitness, Nonfiction]   \n",
       "77107                          [Domestic Politics, Politics, Nonfiction]   \n",
       "77108                                            [Parenting, Nonfiction]   \n",
       "\n",
       "                                                                                                                                                                                                                                                                                                           Summary  \n",
       "0      Monday’s Crosswords Do with EaseTuesday’s Crosswords Not a BreezeWednesday’s Crosswords Harder StillThursday’s Crosswords Take Real SkillFriday’s Crosswords — You’ve Come This Far…Saturday’s Crosswords — You’re a Star!For millions of people, the New York Times crossword puzzles are as essential ...  \n",
       "1      Two of literary comics modern masters present a pair of magical and disturbing stories of strange creatures who are not quite what they seem! In The Price, a mysterious feline engages in a nightly conflict with an unseen, vicious foe. The Daughter of Owls recounts an eerie tale of a beautiful or...  \n",
       "2      Eleven-year-old Cornelia is the daughter of two world-famous pianists—a legacy that should feel fabulous, but instead feels just plain lonely. She surrounds herself with dictionaries and other books to isolate herself from the outside world. But when a glamorous neighbor named Virginia Somerset ...  \n",
       "3      During the English Age of Reason, a woman cloistered since birth learns that knowledge is no substitute for experience.Raised by her father in near isolation in the English countryside, Emilie Selden is trained as a brilliant natural philosopher and alchemist. In the spring of 1725, father and d...  \n",
       "4      A modern-day retelling of The Strange Case of Dr. Jekyll and Mr. Hyde with a chilling twist Harper has never been worried about falling in love, something she is skeptical even exists. But everything changes when Logan moves to town, and to Harper’s shock, the two tumble into an intense romance....  \n",
       "...                                                                                                                                                                                                                                                                                                            ...  \n",
       "77104  An unforgettable fresco of a golden age in fourteenth-century Barcelona, Cathedral of the Sea is a thrilling historical novel of friendship and revenge, plague and hope, love and war.   Arnau Estanyol arrives in Barcelona to find a city dominated by the construction of the city’s great pride—the...  \n",
       "77105  Fears, anxieties, traumas, and physical and emotional shocks imprint on the body and remain dormant in its vast memory store until they are roused by an event or encounter. They may manifest in a different form or place—a fearful incident may transform itself into a stomachache or a headache, or...  \n",
       "77106  In Knockout, Suzanne Somers interviews doctors who are successfully using the most innovative cancer treatments—treatments that build up the body rather than tear it down. Somers herself has stared cancer in the face, and a decade later she has conquered her fear and has emerged confident with t...  \n",
       "77107  “The government in the past created one American Dream at the expense of almost all others: the dream of a house, a lawn, a picket fence, two children, and a car. But there is no single American Dream anymore.”For nearly 70 years, the suburbs were as American as apple pie. As the middle class ba...  \n",
       "77108  An indispensable guide for all parents and caretakers that covers a wide range of childhood emergencies.From anaphylaxis to burns to severe bleeding and bruising, First Aid Fast for Babies and Children offers clear advice, and step-by-step photographs show you what to do.This revised and updated...  \n",
       "\n",
       "[77109 rows x 3 columns]"
      ]
     },
     "execution_count": 5,
     "metadata": {},
     "output_type": "execute_result"
    }
   ],
   "source": [
    "#df = df.drop_duplicates('Name', keep='first')\n",
    "df"
   ]
  },
  {
   "cell_type": "code",
   "execution_count": 0,
   "metadata": {
    "colab": {},
    "colab_type": "code",
    "id": "4FxeauebJRgu"
   },
   "outputs": [],
   "source": [
    "import random\n",
    "from random import shuffle\n",
    "\n",
    "def synonym_replacement(words, n):\n",
    "\tnew_words = words.copy()\n",
    "\trandom_word_list = list(set([word for word in words if word not in stop_words]))\n",
    "\trandom.shuffle(random_word_list)\n",
    "\tnum_replaced = 0\n",
    "\tfor random_word in random_word_list:\n",
    "\t\tsynonyms = get_synonyms(random_word)\n",
    "\t\tif len(synonyms) >= 1:\n",
    "\t\t\tsynonym = random.choice(list(synonyms))\n",
    "\t\t\tnew_words = [synonym if word == random_word else word for word in new_words]\n",
    "\t\t\t#print(\"replaced\", random_word, \"with\", synonym)\n",
    "\t\t\tnum_replaced += 1\n",
    "\t\tif num_replaced >= n: #only replace up to n words\n",
    "\t\t\tbreak\n",
    "\n",
    "\t#this is stupid but we need it, trust me\n",
    "\tsentence = ' '.join(new_words)\n",
    "\tnew_words = sentence.split(' ')\n",
    "\n",
    "\treturn new_words\n",
    "\n",
    "def get_synonyms(word):\n",
    "\tsynonyms = set()\n",
    "\tfor syn in wordnet.synsets(word): \n",
    "\t\tfor l in syn.lemmas(): \n",
    "\t\t\tsynonym = l.name().replace(\"_\", \" \").replace(\"-\", \" \").lower()\n",
    "\t\t\tsynonym = \"\".join([char for char in synonym if char in ' qwertyuiopasdfghjklzxcvbnm'])\n",
    "\t\t\tsynonyms.add(synonym) \n",
    "\tif word in synonyms:\n",
    "\t\tsynonyms.remove(word)\n",
    "\treturn list(synonyms)"
   ]
  },
  {
   "cell_type": "code",
   "execution_count": 0,
   "metadata": {
    "colab": {
     "base_uri": "https://localhost:8080/",
     "height": 370
    },
    "colab_type": "code",
    "id": "oy3H27MMESl4",
    "outputId": "6d2ab641-4df1-4ecb-ee0b-145a67972c25"
   },
   "outputs": [
    {
     "ename": "NameError",
     "evalue": "ignored",
     "output_type": "error",
     "traceback": [
      "\u001b[0;31m---------------------------------------------------------------------------\u001b[0m",
      "\u001b[0;31mNameError\u001b[0m                                 Traceback (most recent call last)",
      "\u001b[0;32m<ipython-input-27-4c78cbb3afb2>\u001b[0m in \u001b[0;36m<module>\u001b[0;34m()\u001b[0m\n\u001b[1;32m     18\u001b[0m     \u001b[0;32mreturn\u001b[0m\u001b[0;34m\u001b[0m\u001b[0;34m\u001b[0m\u001b[0m\n\u001b[1;32m     19\u001b[0m \u001b[0;34m\u001b[0m\u001b[0m\n\u001b[0;32m---> 20\u001b[0;31m \u001b[0maugmentdata\u001b[0m\u001b[0;34m(\u001b[0m\u001b[0;36m10\u001b[0m\u001b[0;34m)\u001b[0m\u001b[0;34m\u001b[0m\u001b[0;34m\u001b[0m\u001b[0m\n\u001b[0m",
      "\u001b[0;32m<ipython-input-27-4c78cbb3afb2>\u001b[0m in \u001b[0;36maugmentdata\u001b[0;34m(n)\u001b[0m\n\u001b[1;32m     14\u001b[0m     \u001b[0mt1\u001b[0m \u001b[0;34m=\u001b[0m \u001b[0mtemp\u001b[0m\u001b[0;34m\u001b[0m\u001b[0;34m\u001b[0m\u001b[0m\n\u001b[1;32m     15\u001b[0m     \u001b[0;32mfor\u001b[0m \u001b[0mi\u001b[0m \u001b[0;32min\u001b[0m \u001b[0mrange\u001b[0m\u001b[0;34m(\u001b[0m\u001b[0mn\u001b[0m\u001b[0;34m)\u001b[0m\u001b[0;34m:\u001b[0m\u001b[0;34m\u001b[0m\u001b[0;34m\u001b[0m\u001b[0m\n\u001b[0;32m---> 16\u001b[0;31m       \u001b[0mt1\u001b[0m\u001b[0;34m.\u001b[0m\u001b[0mSummary\u001b[0m \u001b[0;34m=\u001b[0m \u001b[0mtemp\u001b[0m\u001b[0;34m.\u001b[0m\u001b[0mSummary\u001b[0m\u001b[0;34m.\u001b[0m\u001b[0mapply\u001b[0m\u001b[0;34m(\u001b[0m\u001b[0mapplysynonym\u001b[0m\u001b[0;34m)\u001b[0m\u001b[0;34m\u001b[0m\u001b[0;34m\u001b[0m\u001b[0m\n\u001b[0m\u001b[1;32m     17\u001b[0m       \u001b[0mdf\u001b[0m \u001b[0;34m=\u001b[0m \u001b[0mdf\u001b[0m\u001b[0;34m.\u001b[0m\u001b[0mappend\u001b[0m\u001b[0;34m(\u001b[0m\u001b[0mt1\u001b[0m\u001b[0;34m,\u001b[0m\u001b[0mignore_index\u001b[0m\u001b[0;34m=\u001b[0m\u001b[0;32mTrue\u001b[0m\u001b[0;34m)\u001b[0m\u001b[0;34m\u001b[0m\u001b[0;34m\u001b[0m\u001b[0m\n\u001b[1;32m     18\u001b[0m     \u001b[0;32mreturn\u001b[0m\u001b[0;34m\u001b[0m\u001b[0;34m\u001b[0m\u001b[0m\n",
      "\u001b[0;32m/usr/local/lib/python3.6/dist-packages/pandas/core/series.py\u001b[0m in \u001b[0;36mapply\u001b[0;34m(self, func, convert_dtype, args, **kwds)\u001b[0m\n\u001b[1;32m   4043\u001b[0m             \u001b[0;32melse\u001b[0m\u001b[0;34m:\u001b[0m\u001b[0;34m\u001b[0m\u001b[0;34m\u001b[0m\u001b[0m\n\u001b[1;32m   4044\u001b[0m                 \u001b[0mvalues\u001b[0m \u001b[0;34m=\u001b[0m \u001b[0mself\u001b[0m\u001b[0;34m.\u001b[0m\u001b[0mastype\u001b[0m\u001b[0;34m(\u001b[0m\u001b[0mobject\u001b[0m\u001b[0;34m)\u001b[0m\u001b[0;34m.\u001b[0m\u001b[0mvalues\u001b[0m\u001b[0;34m\u001b[0m\u001b[0;34m\u001b[0m\u001b[0m\n\u001b[0;32m-> 4045\u001b[0;31m                 \u001b[0mmapped\u001b[0m \u001b[0;34m=\u001b[0m \u001b[0mlib\u001b[0m\u001b[0;34m.\u001b[0m\u001b[0mmap_infer\u001b[0m\u001b[0;34m(\u001b[0m\u001b[0mvalues\u001b[0m\u001b[0;34m,\u001b[0m \u001b[0mf\u001b[0m\u001b[0;34m,\u001b[0m \u001b[0mconvert\u001b[0m\u001b[0;34m=\u001b[0m\u001b[0mconvert_dtype\u001b[0m\u001b[0;34m)\u001b[0m\u001b[0;34m\u001b[0m\u001b[0;34m\u001b[0m\u001b[0m\n\u001b[0m\u001b[1;32m   4046\u001b[0m \u001b[0;34m\u001b[0m\u001b[0m\n\u001b[1;32m   4047\u001b[0m         \u001b[0;32mif\u001b[0m \u001b[0mlen\u001b[0m\u001b[0;34m(\u001b[0m\u001b[0mmapped\u001b[0m\u001b[0;34m)\u001b[0m \u001b[0;32mand\u001b[0m \u001b[0misinstance\u001b[0m\u001b[0;34m(\u001b[0m\u001b[0mmapped\u001b[0m\u001b[0;34m[\u001b[0m\u001b[0;36m0\u001b[0m\u001b[0;34m]\u001b[0m\u001b[0;34m,\u001b[0m \u001b[0mSeries\u001b[0m\u001b[0;34m)\u001b[0m\u001b[0;34m:\u001b[0m\u001b[0;34m\u001b[0m\u001b[0;34m\u001b[0m\u001b[0m\n",
      "\u001b[0;32mpandas/_libs/lib.pyx\u001b[0m in \u001b[0;36mpandas._libs.lib.map_infer\u001b[0;34m()\u001b[0m\n",
      "\u001b[0;32m<ipython-input-27-4c78cbb3afb2>\u001b[0m in \u001b[0;36mapplysynonym\u001b[0;34m(row)\u001b[0m\n\u001b[1;32m      2\u001b[0m     \u001b[0mwords\u001b[0m \u001b[0;34m=\u001b[0m \u001b[0mnltk\u001b[0m\u001b[0;34m.\u001b[0m\u001b[0mword_tokenize\u001b[0m\u001b[0;34m(\u001b[0m\u001b[0mrow\u001b[0m\u001b[0;34m)\u001b[0m\u001b[0;34m\u001b[0m\u001b[0;34m\u001b[0m\u001b[0m\n\u001b[1;32m      3\u001b[0m     \u001b[0mn\u001b[0m \u001b[0;34m=\u001b[0m \u001b[0mlen\u001b[0m\u001b[0;34m(\u001b[0m\u001b[0mwords\u001b[0m\u001b[0;34m)\u001b[0m\u001b[0;34m\u001b[0m\u001b[0;34m\u001b[0m\u001b[0m\n\u001b[0;32m----> 4\u001b[0;31m     \u001b[0mres\u001b[0m \u001b[0;34m=\u001b[0m \u001b[0msynonym_replacement\u001b[0m\u001b[0;34m(\u001b[0m\u001b[0mwords\u001b[0m\u001b[0;34m,\u001b[0m\u001b[0mn\u001b[0m\u001b[0;34m//\u001b[0m\u001b[0;36m10\u001b[0m\u001b[0;34m)\u001b[0m\u001b[0;34m\u001b[0m\u001b[0;34m\u001b[0m\u001b[0m\n\u001b[0m\u001b[1;32m      5\u001b[0m     \u001b[0;32mreturn\u001b[0m \u001b[0;34m' '\u001b[0m\u001b[0;34m.\u001b[0m\u001b[0mjoin\u001b[0m\u001b[0;34m(\u001b[0m\u001b[0mres\u001b[0m\u001b[0;34m)\u001b[0m\u001b[0;34m\u001b[0m\u001b[0;34m\u001b[0m\u001b[0m\n\u001b[1;32m      6\u001b[0m \u001b[0;34m\u001b[0m\u001b[0m\n",
      "\u001b[0;32m<ipython-input-26-ed720dd299b6>\u001b[0m in \u001b[0;36msynonym_replacement\u001b[0;34m(words, n)\u001b[0m\n\u001b[1;32m      4\u001b[0m \u001b[0;32mdef\u001b[0m \u001b[0msynonym_replacement\u001b[0m\u001b[0;34m(\u001b[0m\u001b[0mwords\u001b[0m\u001b[0;34m,\u001b[0m \u001b[0mn\u001b[0m\u001b[0;34m)\u001b[0m\u001b[0;34m:\u001b[0m\u001b[0;34m\u001b[0m\u001b[0;34m\u001b[0m\u001b[0m\n\u001b[1;32m      5\u001b[0m         \u001b[0mnew_words\u001b[0m \u001b[0;34m=\u001b[0m \u001b[0mwords\u001b[0m\u001b[0;34m.\u001b[0m\u001b[0mcopy\u001b[0m\u001b[0;34m(\u001b[0m\u001b[0;34m)\u001b[0m\u001b[0;34m\u001b[0m\u001b[0;34m\u001b[0m\u001b[0m\n\u001b[0;32m----> 6\u001b[0;31m         \u001b[0mrandom_word_list\u001b[0m \u001b[0;34m=\u001b[0m \u001b[0mlist\u001b[0m\u001b[0;34m(\u001b[0m\u001b[0mset\u001b[0m\u001b[0;34m(\u001b[0m\u001b[0;34m[\u001b[0m\u001b[0mword\u001b[0m \u001b[0;32mfor\u001b[0m \u001b[0mword\u001b[0m \u001b[0;32min\u001b[0m \u001b[0mwords\u001b[0m \u001b[0;32mif\u001b[0m \u001b[0mword\u001b[0m \u001b[0;32mnot\u001b[0m \u001b[0;32min\u001b[0m \u001b[0mstop_words\u001b[0m\u001b[0;34m]\u001b[0m\u001b[0;34m)\u001b[0m\u001b[0;34m)\u001b[0m\u001b[0;34m\u001b[0m\u001b[0;34m\u001b[0m\u001b[0m\n\u001b[0m\u001b[1;32m      7\u001b[0m         \u001b[0mrandom\u001b[0m\u001b[0;34m.\u001b[0m\u001b[0mshuffle\u001b[0m\u001b[0;34m(\u001b[0m\u001b[0mrandom_word_list\u001b[0m\u001b[0;34m)\u001b[0m\u001b[0;34m\u001b[0m\u001b[0;34m\u001b[0m\u001b[0m\n\u001b[1;32m      8\u001b[0m         \u001b[0mnum_replaced\u001b[0m \u001b[0;34m=\u001b[0m \u001b[0;36m0\u001b[0m\u001b[0;34m\u001b[0m\u001b[0;34m\u001b[0m\u001b[0m\n",
      "\u001b[0;32m<ipython-input-26-ed720dd299b6>\u001b[0m in \u001b[0;36m<listcomp>\u001b[0;34m(.0)\u001b[0m\n\u001b[1;32m      4\u001b[0m \u001b[0;32mdef\u001b[0m \u001b[0msynonym_replacement\u001b[0m\u001b[0;34m(\u001b[0m\u001b[0mwords\u001b[0m\u001b[0;34m,\u001b[0m \u001b[0mn\u001b[0m\u001b[0;34m)\u001b[0m\u001b[0;34m:\u001b[0m\u001b[0;34m\u001b[0m\u001b[0;34m\u001b[0m\u001b[0m\n\u001b[1;32m      5\u001b[0m         \u001b[0mnew_words\u001b[0m \u001b[0;34m=\u001b[0m \u001b[0mwords\u001b[0m\u001b[0;34m.\u001b[0m\u001b[0mcopy\u001b[0m\u001b[0;34m(\u001b[0m\u001b[0;34m)\u001b[0m\u001b[0;34m\u001b[0m\u001b[0;34m\u001b[0m\u001b[0m\n\u001b[0;32m----> 6\u001b[0;31m         \u001b[0mrandom_word_list\u001b[0m \u001b[0;34m=\u001b[0m \u001b[0mlist\u001b[0m\u001b[0;34m(\u001b[0m\u001b[0mset\u001b[0m\u001b[0;34m(\u001b[0m\u001b[0;34m[\u001b[0m\u001b[0mword\u001b[0m \u001b[0;32mfor\u001b[0m \u001b[0mword\u001b[0m \u001b[0;32min\u001b[0m \u001b[0mwords\u001b[0m \u001b[0;32mif\u001b[0m \u001b[0mword\u001b[0m \u001b[0;32mnot\u001b[0m \u001b[0;32min\u001b[0m \u001b[0mstop_words\u001b[0m\u001b[0;34m]\u001b[0m\u001b[0;34m)\u001b[0m\u001b[0;34m)\u001b[0m\u001b[0;34m\u001b[0m\u001b[0;34m\u001b[0m\u001b[0m\n\u001b[0m\u001b[1;32m      7\u001b[0m         \u001b[0mrandom\u001b[0m\u001b[0;34m.\u001b[0m\u001b[0mshuffle\u001b[0m\u001b[0;34m(\u001b[0m\u001b[0mrandom_word_list\u001b[0m\u001b[0;34m)\u001b[0m\u001b[0;34m\u001b[0m\u001b[0;34m\u001b[0m\u001b[0m\n\u001b[1;32m      8\u001b[0m         \u001b[0mnum_replaced\u001b[0m \u001b[0;34m=\u001b[0m \u001b[0;36m0\u001b[0m\u001b[0;34m\u001b[0m\u001b[0;34m\u001b[0m\u001b[0m\n",
      "\u001b[0;31mNameError\u001b[0m: name 'stop_words' is not defined"
     ]
    }
   ],
   "source": [
    "def applysynonym(row):\n",
    "    words = nltk.word_tokenize(row)\n",
    "    n = len(words)\n",
    "    res = synonym_replacement(words,n//10)\n",
    "    return ' '.join(res)\n",
    "\n",
    "def augmentdata(n):\n",
    "    global df\n",
    "    temp = []\n",
    "    for index,row in df.iterrows():\n",
    "      if 'Fiction' not in row['Genres'] and 'Speculative Fiction' not in row['Genres']:\n",
    "        temp.append(row)\n",
    "    temp = pd.DataFrame(temp,columns=['Name','Genres','Summary'])\n",
    "    t1 = temp\n",
    "    for i in range(n):\n",
    "      t1.Summary = temp.Summary.apply(applysynonym)\n",
    "      df = df.append(t1,ignore_index=True)\n",
    "    return\n",
    "\n",
    "augmentdata(10)"
   ]
  },
  {
   "cell_type": "code",
   "execution_count": 6,
   "metadata": {
    "colab": {},
    "colab_type": "code",
    "id": "E3gLnIHOXAdi"
   },
   "outputs": [
    {
     "name": "stdout",
     "output_type": "stream",
     "text": [
      "Total unique genres: 139\n"
     ]
    }
   ],
   "source": [
    "all_genres = sum(df[\"Genres\"],[])\n",
    "print(\"Total unique genres:\", len(set(all_genres)))"
   ]
  },
  {
   "cell_type": "code",
   "execution_count": 7,
   "metadata": {
    "colab": {},
    "colab_type": "code",
    "id": "wgo16bhvYJ2S"
   },
   "outputs": [
    {
     "data": {
      "image/png": "[encoded data removed]",
      "text/plain": [
       "<Figure size 864x1080 with 1 Axes>"
      ]
     },
     "metadata": {
      "needs_background": "light"
     },
     "output_type": "display_data"
    }
   ],
   "source": [
    "all_genres = nltk.FreqDist(all_genres) \n",
    "all_genres_df = pd.DataFrame({'Genre': list(all_genres.keys()), \n",
    "                              'Count': list(all_genres.values())})\n",
    "g = all_genres_df.nlargest(columns=\"Count\", n = 50) \n",
    "plt.figure(figsize=(12,15)) \n",
    "ax = sns.barplot(data=g, x= \"Count\", y = \"Genre\") \n",
    "ax.set(ylabel = 'Count') \n",
    "plt.show()"
   ]
  },
  {
   "cell_type": "code",
   "execution_count": 8,
   "metadata": {
    "colab": {},
    "colab_type": "code",
    "id": "KZMkgsTaY6bP"
   },
   "outputs": [],
   "source": [
    "def clean_text(text):\n",
    "    text = re.sub(\"\\'\", \"\", text) \n",
    "    text = re.sub(\"[^a-zA-Z]\",\" \",text) \n",
    "    text = ' '.join(text.split()) \n",
    "    text = text.lower() \n",
    "    return text"
   ]
  },
  {
   "cell_type": "code",
   "execution_count": 9,
   "metadata": {
    "colab": {},
    "colab_type": "code",
    "id": "7ibs2XTAZOJq"
   },
   "outputs": [],
   "source": [
    "df['Summary'] = df['Summary'].apply(lambda x: clean_text(x))"
   ]
  },
  {
   "cell_type": "code",
   "execution_count": 11,
   "metadata": {
    "colab": {},
    "colab_type": "code",
    "id": "dc1oqyxdZUmt"
   },
   "outputs": [],
   "source": [
    "from nltk.corpus import stopwords\n",
    "stop_words = set(stopwords.words('english'))\n",
    "\n",
    "def remove_stopwords(text):\n",
    "    no_stopword_text = [w for w in text.split() if not w in stop_words]\n",
    "    return ' '.join(no_stopword_text)\n",
    "\n",
    "df['Summary'] = df['Summary'].apply(lambda x: remove_stopwords(x))"
   ]
  },
  {
   "cell_type": "code",
   "execution_count": 10,
   "metadata": {
    "colab": {},
    "colab_type": "code",
    "id": "RGyK6vlEZckM"
   },
   "outputs": [
    {
     "data": {
      "text/html": [
       "<div>\n",
       "<style scoped>\n",
       "    .dataframe tbody tr th:only-of-type {\n",
       "        vertical-align: middle;\n",
       "    }\n",
       "\n",
       "    .dataframe tbody tr th {\n",
       "        vertical-align: top;\n",
       "    }\n",
       "\n",
       "    .dataframe thead th {\n",
       "        text-align: right;\n",
       "    }\n",
       "</style>\n",
       "<table border=\"1\" class=\"dataframe\">\n",
       "  <thead>\n",
       "    <tr style=\"text-align: right;\">\n",
       "      <th></th>\n",
       "      <th>Name</th>\n",
       "      <th>Genres</th>\n",
       "      <th>Summary</th>\n",
       "    </tr>\n",
       "  </thead>\n",
       "  <tbody>\n",
       "    <tr>\n",
       "      <th>0</th>\n",
       "      <td>The New York Times Daily Crossword Puzzles: Thursday, Volume 1</td>\n",
       "      <td>[Games, Nonfiction]</td>\n",
       "      <td>monday s crosswords do with easetuesday s crosswords not a breezewednesday s crosswords harder stillthursday s crosswords take real skillfriday s crosswords you ve come this far saturday s crosswords you re a star for millions of people the new york times crossword puzzles are as essential to ea...</td>\n",
       "    </tr>\n",
       "    <tr>\n",
       "      <th>1</th>\n",
       "      <td>Creatures of the Night (Second Edition)</td>\n",
       "      <td>[Graphic Novels and Manga, Fiction]</td>\n",
       "      <td>two of literary comics modern masters present a pair of magical and disturbing stories of strange creatures who are not quite what they seem in the price a mysterious feline engages in a nightly conflict with an unseen vicious foe the daughter of owls recounts an eerie tale of a beautiful orphan...</td>\n",
       "    </tr>\n",
       "    <tr>\n",
       "      <th>2</th>\n",
       "      <td>Cornelia and the Audacious Escapades of the Somerset Sisters</td>\n",
       "      <td>[Children’s Middle Grade Books, Children’s Books]</td>\n",
       "      <td>eleven year old cornelia is the daughter of two world famous pianists a legacy that should feel fabulous but instead feels just plain lonely she surrounds herself with dictionaries and other books to isolate herself from the outside world but when a glamorous neighbor named virginia somerset mov...</td>\n",
       "    </tr>\n",
       "    <tr>\n",
       "      <th>3</th>\n",
       "      <td>The Alchemist's Daughter</td>\n",
       "      <td>[Historical Fiction, Fiction]</td>\n",
       "      <td>during the english age of reason a woman cloistered since birth learns that knowledge is no substitute for experience raised by her father in near isolation in the english countryside emilie selden is trained as a brilliant natural philosopher and alchemist in the spring of father and daughter e...</td>\n",
       "    </tr>\n",
       "    <tr>\n",
       "      <th>4</th>\n",
       "      <td>Dangerous Boy</td>\n",
       "      <td>[Teen and Young Adult Mystery and Suspense, Teen and Young Adult]</td>\n",
       "      <td>a modern day retelling of the strange case of dr jekyll and mr hyde with a chilling twist harper has never been worried about falling in love something she is skeptical even exists but everything changes when logan moves to town and to harper s shock the two tumble into an intense romance it s e...</td>\n",
       "    </tr>\n",
       "  </tbody>\n",
       "</table>\n",
       "</div>"
      ],
      "text/plain": [
       "                                                             Name  \\\n",
       "0  The New York Times Daily Crossword Puzzles: Thursday, Volume 1   \n",
       "1                         Creatures of the Night (Second Edition)   \n",
       "2    Cornelia and the Audacious Escapades of the Somerset Sisters   \n",
       "3                                        The Alchemist's Daughter   \n",
       "4                                                   Dangerous Boy   \n",
       "\n",
       "                                                              Genres  \\\n",
       "0                                                [Games, Nonfiction]   \n",
       "1                                [Graphic Novels and Manga, Fiction]   \n",
       "2                  [Children’s Middle Grade Books, Children’s Books]   \n",
       "3                                      [Historical Fiction, Fiction]   \n",
       "4  [Teen and Young Adult Mystery and Suspense, Teen and Young Adult]   \n",
       "\n",
       "                                                                                                                                                                                                                                                                                                       Summary  \n",
       "0  monday s crosswords do with easetuesday s crosswords not a breezewednesday s crosswords harder stillthursday s crosswords take real skillfriday s crosswords you ve come this far saturday s crosswords you re a star for millions of people the new york times crossword puzzles are as essential to ea...  \n",
       "1  two of literary comics modern masters present a pair of magical and disturbing stories of strange creatures who are not quite what they seem in the price a mysterious feline engages in a nightly conflict with an unseen vicious foe the daughter of owls recounts an eerie tale of a beautiful orphan...  \n",
       "2  eleven year old cornelia is the daughter of two world famous pianists a legacy that should feel fabulous but instead feels just plain lonely she surrounds herself with dictionaries and other books to isolate herself from the outside world but when a glamorous neighbor named virginia somerset mov...  \n",
       "3  during the english age of reason a woman cloistered since birth learns that knowledge is no substitute for experience raised by her father in near isolation in the english countryside emilie selden is trained as a brilliant natural philosopher and alchemist in the spring of father and daughter e...  \n",
       "4  a modern day retelling of the strange case of dr jekyll and mr hyde with a chilling twist harper has never been worried about falling in love something she is skeptical even exists but everything changes when logan moves to town and to harper s shock the two tumble into an intense romance it s e...  "
      ]
     },
     "execution_count": 10,
     "metadata": {},
     "output_type": "execute_result"
    }
   ],
   "source": [
    "df.head()"
   ]
  },
  {
   "cell_type": "code",
   "execution_count": 12,
   "metadata": {
    "colab": {},
    "colab_type": "code",
    "id": "LNhIZfSmZl_7"
   },
   "outputs": [
    {
     "data": {
      "image/png": "[encoded data removed]",
      "text/plain": [
       "<Figure size 864x1080 with 1 Axes>"
      ]
     },
     "metadata": {
      "needs_background": "light"
     },
     "output_type": "display_data"
    }
   ],
   "source": [
    "def freq_words(x, terms = 30): \n",
    "  all_words = ' '.join([text for text in x]) \n",
    "  all_words = all_words.split() \n",
    "  fdist = nltk.FreqDist(all_words) \n",
    "  words_df = pd.DataFrame({'word':list(fdist.keys()), 'count':list(fdist.values())}) \n",
    "  d = words_df.nlargest(columns=\"count\", n = terms) \n",
    "  plt.figure(figsize=(12,15)) \n",
    "  ax = sns.barplot(data=d, x= \"count\", y = \"word\") \n",
    "  ax.set(ylabel = 'Word') \n",
    "  plt.show()\n",
    "  \n",
    "freq_words(df['Summary'], 100)"
   ]
  },
  {
   "cell_type": "code",
   "execution_count": 13,
   "metadata": {
    "colab": {},
    "colab_type": "code",
    "id": "ai26BegWZrX8"
   },
   "outputs": [],
   "source": [
    "from sklearn.preprocessing import MultiLabelBinarizer\n",
    "#from sklearn import preprocessing\n",
    "\n",
    "multilabel_binarizer = MultiLabelBinarizer()\n",
    "multilabel_binarizer.fit(df['Genres'])\n",
    "\n",
    "# transform target variable\n",
    "y = multilabel_binarizer.transform(df['Genres'])"
   ]
  },
  {
   "cell_type": "code",
   "execution_count": 14,
   "metadata": {
    "colab": {},
    "colab_type": "code",
    "id": "JZSdXkn5Z6tu"
   },
   "outputs": [],
   "source": [
    "tfidf_vectorizer = TfidfVectorizer(max_df=0.8, max_features=10000)\n",
    "xtrain, xval, ytrain, yval = train_test_split(df['Summary'], y, test_size=0.2, random_state=9)\n",
    "xtrain_tfidf = tfidf_vectorizer.fit_transform(xtrain)\n",
    "xval_tfidf = tfidf_vectorizer.transform(xval)"
   ]
  },
  {
   "cell_type": "code",
   "execution_count": 15,
   "metadata": {
    "colab": {},
    "colab_type": "code",
    "id": "x5OGzK-raCDj"
   },
   "outputs": [],
   "source": [
    "from sklearn.linear_model import LogisticRegression\n",
    "\n",
    "# Binary Relevance\n",
    "from sklearn.multiclass import OneVsRestClassifier\n",
    "\n",
    "# Performance metric\n",
    "from sklearn.metrics import f1_score"
   ]
  },
  {
   "cell_type": "code",
   "execution_count": 16,
   "metadata": {
    "colab": {},
    "colab_type": "code",
    "id": "EUV7iKnaaErd"
   },
   "outputs": [],
   "source": [
    "import math\n",
    "lr = LogisticRegression(max_iter=math.inf)\n",
    "clf = OneVsRestClassifier(lr)"
   ]
  },
  {
   "cell_type": "code",
   "execution_count": 17,
   "metadata": {
    "colab": {},
    "colab_type": "code",
    "id": "noUUOjzuaGud"
   },
   "outputs": [
    {
     "data": {
      "text/plain": [
       "OneVsRestClassifier(estimator=LogisticRegression(C=1.0, class_weight=None,\n",
       "                                                 dual=False, fit_intercept=True,\n",
       "                                                 intercept_scaling=1,\n",
       "                                                 l1_ratio=None, max_iter=inf,\n",
       "                                                 multi_class='auto',\n",
       "                                                 n_jobs=None, penalty='l2',\n",
       "                                                 random_state=None,\n",
       "                                                 solver='lbfgs', tol=0.0001,\n",
       "                                                 verbose=0, warm_start=False),\n",
       "                    n_jobs=None)"
      ]
     },
     "execution_count": 17,
     "metadata": {},
     "output_type": "execute_result"
    }
   ],
   "source": [
    "clf.fit(xtrain_tfidf, ytrain)"
   ]
  },
  {
   "cell_type": "code",
   "execution_count": 18,
   "metadata": {
    "colab": {},
    "colab_type": "code",
    "id": "EnxKGK1XaITD"
   },
   "outputs": [],
   "source": [
    "y_pred = clf.predict(xval_tfidf)"
   ]
  },
  {
   "cell_type": "code",
   "execution_count": 0,
   "metadata": {
    "colab": {
     "base_uri": "https://localhost:8080/",
     "height": 34
    },
    "colab_type": "code",
    "id": "ICK9FColaKNl",
    "outputId": "9d839ea9-783e-479a-fdd0-b976603bd57b"
   },
   "outputs": [
    {
     "data": {
      "text/plain": [
       "0.653849851004518"
      ]
     },
     "execution_count": 212,
     "metadata": {
      "tags": []
     },
     "output_type": "execute_result"
    }
   ],
   "source": [
    "f1_score(yval, y_pred, average=\"micro\")\n",
    "#clf.score(yval, y_pred)"
   ]
  },
  {
   "cell_type": "code",
   "execution_count": 19,
   "metadata": {
    "colab": {},
    "colab_type": "code",
    "id": "epi1n-S_tleY"
   },
   "outputs": [],
   "source": [
    "y_pred_prob = clf.predict_proba(xval_tfidf)\n",
    "t = 0.2505 # threshold value 0.2505 -> 0.712340852740299\n",
    "y_pred_new = (y_pred_prob >= t).astype(int)"
   ]
  },
  {
   "cell_type": "code",
   "execution_count": 0,
   "metadata": {
    "colab": {
     "base_uri": "https://localhost:8080/",
     "height": 34
    },
    "colab_type": "code",
    "id": "T_ZLHp72tqIA",
    "outputId": "424a3607-96e0-4c35-f6ae-b7de5010fbf5"
   },
   "outputs": [
    {
     "data": {
      "text/plain": [
       "0.7768644269716465"
      ]
     },
     "execution_count": 220,
     "metadata": {
      "tags": []
     },
     "output_type": "execute_result"
    }
   ],
   "source": [
    "f1_score(yval, y_pred_new, average=\"micro\")"
   ]
  },
  {
   "cell_type": "code",
   "execution_count": 28,
   "metadata": {
    "colab": {},
    "colab_type": "code",
    "id": "kAtiuLtOajYg"
   },
   "outputs": [],
   "source": [
    "def infer_tags(q):\n",
    "    q = clean_text(q)\n",
    "    q = remove_stopwords(q)\n",
    "    q_vec = tfidf_vectorizer.transform([q])\n",
    "    #q_pred = clf.predict(q_vec)\n",
    "\n",
    "    q_pred_prob = clf.predict_proba(q_vec)\n",
    "    t = 0.2505 # threshold value 0.2505 -> 0.7110468896756014\n",
    "    q_pred_new = (q_pred_prob >= t).astype(int)\n",
    "\n",
    "    return multilabel_binarizer.inverse_transform(q_pred_new)"
   ]
  },
  {
   "cell_type": "code",
   "execution_count": 29,
   "metadata": {
    "colab": {
     "base_uri": "https://localhost:8080/",
     "height": 353
    },
    "colab_type": "code",
    "id": "HhTwzoZxaRwt",
    "outputId": "c7a626dd-f551-4927-97e0-36db6affc5c1"
   },
   "outputs": [
    {
     "name": "stdout",
     "output_type": "stream",
     "text": [
      "Book:  More Letters from a Nut \n",
      "Predicted genre:  [('Biography and Memoir', 'Children’s Books', 'Nonfiction')]\n",
      "Actual genre:  ['Literary Collections', 'Classics'] \n",
      "\n",
      "Book:  Going Home \n",
      "Predicted genre:  [('Children’s Books', 'Children’s Middle Grade Books', 'Teen and Young Adult', 'Teen and Young Adult Fiction')]\n",
      "Actual genre:  ['Children’s Middle Grade Books', 'Children’s Books'] \n",
      "\n",
      "Book:  Departures \n",
      "Predicted genre:  [('Children’s Books', 'Teen and Young Adult', 'Teen and Young Adult Fiction')]\n",
      "Actual genre:  ['Teen and Young Adult Fiction', 'Teen and Young Adult'] \n",
      "\n",
      "Book:  Longarm #391 \n",
      "Predicted genre:  [('Fiction', 'Western Fiction')]\n",
      "Actual genre:  ['Western Fiction', 'Fiction'] \n",
      "\n",
      "Book:  Fool Moon \n",
      "Predicted genre:  [('Fiction',)]\n",
      "Actual genre:  ['Urban Fantasy', 'Paranormal Fiction', 'Fiction'] \n",
      "\n"
     ]
    }
   ],
   "source": [
    "for i in range(5): \n",
    "  k = xval.sample(1).index[0] \n",
    "  print(\"Book: \", df['Name'][k], \"\\nPredicted genre: \", infer_tags(xval[k])), print(\"Actual genre: \",df['Genres'][k], \"\\n\")"
   ]
  },
  {
   "cell_type": "code",
   "execution_count": 22,
   "metadata": {
    "colab": {},
    "colab_type": "code",
    "id": "WVq43Qm7an6B"
   },
   "outputs": [],
   "source": [
    "import pickle\n",
    "with open('tf.pickle', 'wb') as f:\n",
    "    pickle.dump(tfidf_vectorizer, f)"
   ]
  },
  {
   "cell_type": "code",
   "execution_count": 23,
   "metadata": {},
   "outputs": [],
   "source": [
    "import pickle\n",
    "with open('multi.pickle', 'wb') as f:\n",
    "    pickle.dump(multilabel_binarizer, f)"
   ]
  },
  {
   "cell_type": "code",
   "execution_count": 24,
   "metadata": {},
   "outputs": [],
   "source": [
    "import pickle\n",
    "with open('onevrest.pickle', 'wb') as f:\n",
    "    pickle.dump(clf, f)"
   ]
  },
  {
   "cell_type": "code",
   "execution_count": 25,
   "metadata": {},
   "outputs": [
    {
     "data": {
      "text/plain": [
       "TfidfVectorizer(analyzer='word', binary=False, decode_error='strict',\n",
       "                dtype=<class 'numpy.float64'>, encoding='utf-8',\n",
       "                input='content', lowercase=True, max_df=0.8, max_features=10000,\n",
       "                min_df=1, ngram_range=(1, 1), norm='l2', preprocessor=None,\n",
       "                smooth_idf=True, stop_words=None, strip_accents=None,\n",
       "                sublinear_tf=False, token_pattern='(?u)\\\\b\\\\w\\\\w+\\\\b',\n",
       "                tokenizer=None, use_idf=True, vocabulary=None)"
      ]
     },
     "execution_count": 25,
     "metadata": {},
     "output_type": "execute_result"
    }
   ],
   "source": [
    "with open('tf.pickle', 'rb') as f:\n",
    "     tfidf_vectorizer = pickle.load(f)\n",
    "tfidf_vectorizer"
   ]
  },
  {
   "cell_type": "code",
   "execution_count": 26,
   "metadata": {},
   "outputs": [
    {
     "data": {
      "text/plain": [
       "MultiLabelBinarizer(classes=None, sparse_output=False)"
      ]
     },
     "execution_count": 26,
     "metadata": {},
     "output_type": "execute_result"
    }
   ],
   "source": [
    "with open('multi.pickle', 'rb') as f:\n",
    "     multilabel_binarizer = pickle.load(f)\n",
    "multilabel_binarizer"
   ]
  },
  {
   "cell_type": "code",
   "execution_count": 27,
   "metadata": {},
   "outputs": [
    {
     "data": {
      "text/plain": [
       "OneVsRestClassifier(estimator=LogisticRegression(C=1.0, class_weight=None,\n",
       "                                                 dual=False, fit_intercept=True,\n",
       "                                                 intercept_scaling=1,\n",
       "                                                 l1_ratio=None, max_iter=inf,\n",
       "                                                 multi_class='auto',\n",
       "                                                 n_jobs=None, penalty='l2',\n",
       "                                                 random_state=None,\n",
       "                                                 solver='lbfgs', tol=0.0001,\n",
       "                                                 verbose=0, warm_start=False),\n",
       "                    n_jobs=None)"
      ]
     },
     "execution_count": 27,
     "metadata": {},
     "output_type": "execute_result"
    }
   ],
   "source": [
    "with open('onevrest.pickle', 'rb') as f:\n",
    "     clf = pickle.load(f)\n",
    "clf"
   ]
  },
  {
   "cell_type": "code",
   "execution_count": null,
   "metadata": {},
   "outputs": [],
   "source": []
  }
 ],
 "metadata": {
  "colab": {
   "collapsed_sections": [],
   "name": "MultiLabelGenrePrediction.ipynb",
   "provenance": []
  },
  "kernelspec": {
   "display_name": "Python 3",
   "language": "python",
   "name": "python3"
  },
  "language_info": {
   "codemirror_mode": {
    "name": "ipython",
    "version": 3
   },
   "file_extension": ".py",
   "mimetype": "text/x-python",
   "name": "python",
   "nbconvert_exporter": "python",
   "pygments_lexer": "ipython3",
   "version": "3.7.5"
  }
 },
 "nbformat": 4,
 "nbformat_minor": 1
}
