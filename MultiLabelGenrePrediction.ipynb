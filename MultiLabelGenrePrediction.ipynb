{
  "nbformat": 4,
  "nbformat_minor": 0,
  "metadata": {
    "colab": {
      "name": "MultiLabelGenrePrediction.ipynb",
      "provenance": [],
      "collapsed_sections": []
    },
    "kernelspec": {
      "name": "python3",
      "display_name": "Python 3"
    }
  },
  "cells": [
    {
      "cell_type": "code",
      "metadata": {
        "id": "7FEeYpGC6ll2",
        "colab_type": "code",
        "outputId": "7a0e0d5a-8bbb-4315-ce9f-12be7eeaeead",
        "colab": {
          "base_uri": "https://localhost:8080/",
          "height": 50
        }
      },
      "source": [
        "import pandas as pd\n",
        "import numpy as np\n",
        "import json\n",
        "import nltk\n",
        "import re\n",
        "import csv\n",
        "import matplotlib.pyplot as plt \n",
        "import seaborn as sns\n",
        "from tqdm import tqdm\n",
        "from sklearn.feature_extraction.text import TfidfVectorizer\n",
        "from sklearn.model_selection import train_test_split\n",
        "from xml.etree import ElementTree\n",
        "from nltk.stem import WordNetLemmatizer\n",
        "nltk.download('stopwords')\n",
        "\n",
        "%matplotlib inline\n",
        "pd.set_option('display.max_colwidth', 300)"
      ],
      "execution_count": 0,
      "outputs": [
        {
          "output_type": "stream",
          "text": [
            "[nltk_data] Downloading package stopwords to /root/nltk_data...\n",
            "[nltk_data]   Package stopwords is already up-to-date!\n"
          ],
          "name": "stdout"
        }
      ]
    },
    {
      "cell_type": "code",
      "metadata": {
        "id": "2C8L3aYRPqaL",
        "colab_type": "code",
        "outputId": "4939ad85-2f22-472b-afdc-05ef61033ac0",
        "colab": {
          "base_uri": "https://localhost:8080/",
          "height": 54
        }
      },
      "source": [
        "def getDataFrame(filename):\n",
        "  dataset=[]\n",
        "  tree = ElementTree.parse(filename)\n",
        "  root = tree.getroot()\n",
        "\n",
        "  for book in root.findall('book'):\n",
        "      for metadata in book.find('metadata'):\n",
        "          x=metadata\n",
        "          break\n",
        "      a=[]\n",
        "      if(x.find('d3')!=None):\n",
        "          a.append(x.find('d3').text)\n",
        "      if(x.find('d2')!=None):\n",
        "          a.append(x.find('d2').text)\n",
        "      if(x.find('d1')!=None):\n",
        "          a.append(x.find('d1').text)\n",
        "      if(x.find('d0')!=None):\n",
        "          a.append(x.find('d0').text)\n",
        "\n",
        "      if len(a) != 0:        \n",
        "        dataset.append([book.find('title').text,a,book.find('body').text])\n",
        "  return dataset  \n",
        "  \n",
        "  \n",
        "dataset = getDataFrame('./BlurbGenreCollection_EN_train.xml')\n",
        "dataset2 = getDataFrame('./BlurbGenreCollection_EN_test.xml')\n",
        "dataset = dataset + dataset2\n",
        "'''\n",
        "import csv\n",
        "with open('book_data.csv', 'r', encoding='utf8') as f:\n",
        "  reader = csv.reader(f)\n",
        "  for row in reader:\n",
        "    genres = row[10].split('|')\n",
        "    if len(genres) != 0:\n",
        "      dataset.append([row[9], genres, row[1]])\n",
        "\n",
        "import csv\n",
        "dataset = []\n",
        "with open('booksummaries.txt', 'r', encoding=\"utf8\", errors='ignore') as f:\n",
        "    reader=csv.reader(f,dialect='excel-tab')\n",
        "    for row in reader:\n",
        "      if row[5] != '':\n",
        "        genres = list(json.loads(row[5]).values())\n",
        "        dataset.append([row[2], genres, row[6]])\n",
        "'''"
      ],
      "execution_count": 0,
      "outputs": [
        {
          "output_type": "execute_result",
          "data": {
            "text/plain": [
              "'\\nimport csv\\nwith open(\\'book_data.csv\\', \\'r\\', encoding=\\'utf8\\') as f:\\n  reader = csv.reader(f)\\n  for row in reader:\\n    genres = row[10].split(\\'|\\')\\n    if len(genres) != 0:\\n      dataset.append([row[9], genres, row[1]])\\n\\nimport csv\\ndataset = []\\nwith open(\\'booksummaries.txt\\', \\'r\\', encoding=\"utf8\", errors=\\'ignore\\') as f:\\n    reader=csv.reader(f,dialect=\\'excel-tab\\')\\n    for row in reader:\\n      if row[5] != \\'\\':\\n        genres = list(json.loads(row[5]).values())\\n        dataset.append([row[2], genres, row[6]])\\n'"
            ]
          },
          "metadata": {
            "tags": []
          },
          "execution_count": 21
        }
      ]
    },
    {
      "cell_type": "code",
      "metadata": {
        "id": "mQYrTJ3wPyP-",
        "colab_type": "code",
        "colab": {}
      },
      "source": [
        "df=pd.DataFrame(dataset,columns=['Name','Genres','Summary'])"
      ],
      "execution_count": 0,
      "outputs": []
    },
    {
      "cell_type": "code",
      "metadata": {
        "id": "hfOPDsiJWx0a",
        "colab_type": "code",
        "outputId": "6aa9f168-42de-4fca-e174-8f2c9192a929",
        "colab": {
          "base_uri": "https://localhost:8080/",
          "height": 771
        }
      },
      "source": [
        "#df = df.drop_duplicates('Name', keep='first')\n",
        "df"
      ],
      "execution_count": 0,
      "outputs": [
        {
          "output_type": "execute_result",
          "data": {
            "text/html": [
              "<div>\n",
              "<style scoped>\n",
              "    .dataframe tbody tr th:only-of-type {\n",
              "        vertical-align: middle;\n",
              "    }\n",
              "\n",
              "    .dataframe tbody tr th {\n",
              "        vertical-align: top;\n",
              "    }\n",
              "\n",
              "    .dataframe thead th {\n",
              "        text-align: right;\n",
              "    }\n",
              "</style>\n",
              "<table border=\"1\" class=\"dataframe\">\n",
              "  <thead>\n",
              "    <tr style=\"text-align: right;\">\n",
              "      <th></th>\n",
              "      <th>Name</th>\n",
              "      <th>Genres</th>\n",
              "      <th>Summary</th>\n",
              "    </tr>\n",
              "  </thead>\n",
              "  <tbody>\n",
              "    <tr>\n",
              "      <th>0</th>\n",
              "      <td>The New York Times Daily Crossword Puzzles: Thursday, Volume 1</td>\n",
              "      <td>[Games, Nonfiction]</td>\n",
              "      <td>Monday’s Crosswords Do with EaseTuesday’s Crosswords Not a BreezeWednesday’s Crosswords Harder StillThursday’s Crosswords Take Real SkillFriday’s Crosswords — You’ve Come This Far…Saturday’s Crosswords — You’re a Star!For millions of people, the New York Times crossword puzzles are as essential ...</td>\n",
              "    </tr>\n",
              "    <tr>\n",
              "      <th>1</th>\n",
              "      <td>Creatures of the Night (Second Edition)</td>\n",
              "      <td>[Graphic Novels and Manga, Fiction]</td>\n",
              "      <td>Two of literary comics modern masters present a pair of magical and disturbing stories of strange creatures who are not quite what they seem! In The Price, a mysterious feline engages in a nightly conflict with an unseen, vicious foe. The Daughter of Owls recounts an eerie tale of a beautiful or...</td>\n",
              "    </tr>\n",
              "    <tr>\n",
              "      <th>2</th>\n",
              "      <td>Cornelia and the Audacious Escapades of the Somerset Sisters</td>\n",
              "      <td>[Children’s Middle Grade Books, Children’s Books]</td>\n",
              "      <td>Eleven-year-old Cornelia is the daughter of two world-famous pianists—a legacy that should feel fabulous, but instead feels just plain lonely. She surrounds herself with dictionaries and other books to isolate herself from the outside world. But when a glamorous neighbor named Virginia Somerset ...</td>\n",
              "    </tr>\n",
              "    <tr>\n",
              "      <th>3</th>\n",
              "      <td>The Alchemist's Daughter</td>\n",
              "      <td>[Historical Fiction, Fiction]</td>\n",
              "      <td>During the English Age of Reason, a woman cloistered since birth learns that knowledge is no substitute for experience.Raised by her father in near isolation in the English countryside, Emilie Selden is trained as a brilliant natural philosopher and alchemist. In the spring of 1725, father and d...</td>\n",
              "    </tr>\n",
              "    <tr>\n",
              "      <th>4</th>\n",
              "      <td>Dangerous Boy</td>\n",
              "      <td>[Teen and Young Adult Mystery and Suspense, Teen and Young Adult]</td>\n",
              "      <td>A modern-day retelling of The Strange Case of Dr. Jekyll and Mr. Hyde with a chilling twist Harper has never been worried about falling in love, something she is skeptical even exists. But everything changes when Logan moves to town, and to Harper’s shock, the two tumble into an intense romance....</td>\n",
              "    </tr>\n",
              "    <tr>\n",
              "      <th>...</th>\n",
              "      <td>...</td>\n",
              "      <td>...</td>\n",
              "      <td>...</td>\n",
              "    </tr>\n",
              "    <tr>\n",
              "      <th>77104</th>\n",
              "      <td>Cathedral of the Sea</td>\n",
              "      <td>[Romance, Fiction]</td>\n",
              "      <td>An unforgettable fresco of a golden age in fourteenth-century Barcelona, Cathedral of the Sea is a thrilling historical novel of friendship and revenge, plague and hope, love and war.   Arnau Estanyol arrives in Barcelona to find a city dominated by the construction of the city’s great pride—the...</td>\n",
              "    </tr>\n",
              "    <tr>\n",
              "      <th>77105</th>\n",
              "      <td>Understanding the Messages of Your Body</td>\n",
              "      <td>[Alternative Therapies, Health and Fitness, Nonfiction]</td>\n",
              "      <td>Fears, anxieties, traumas, and physical and emotional shocks imprint on the body and remain dormant in its vast memory store until they are roused by an event or encounter. They may manifest in a different form or place—a fearful incident may transform itself into a stomachache or a headache, or...</td>\n",
              "    </tr>\n",
              "    <tr>\n",
              "      <th>77106</th>\n",
              "      <td>Knockout</td>\n",
              "      <td>[Alternative Therapies, Health and Fitness, Nonfiction]</td>\n",
              "      <td>In Knockout, Suzanne Somers interviews doctors who are successfully using the most innovative cancer treatments—treatments that build up the body rather than tear it down. Somers herself has stared cancer in the face, and a decade later she has conquered her fear and has emerged confident with t...</td>\n",
              "    </tr>\n",
              "    <tr>\n",
              "      <th>77107</th>\n",
              "      <td>The End of the Suburbs</td>\n",
              "      <td>[Domestic Politics, Politics, Nonfiction]</td>\n",
              "      <td>“The government in the past created one American Dream at the expense of almost all others: the dream of a house, a lawn, a picket fence, two children, and a car. But there is no single American Dream anymore.”For nearly 70 years, the suburbs were as American as apple pie. As the middle class ba...</td>\n",
              "    </tr>\n",
              "    <tr>\n",
              "      <th>77108</th>\n",
              "      <td>First Aid Fast for Babies and Children</td>\n",
              "      <td>[Parenting, Nonfiction]</td>\n",
              "      <td>An indispensable guide for all parents and caretakers that covers a wide range of childhood emergencies.From anaphylaxis to burns to severe bleeding and bruising, First Aid Fast for Babies and Children offers clear advice, and step-by-step photographs show you what to do.This revised and updated...</td>\n",
              "    </tr>\n",
              "  </tbody>\n",
              "</table>\n",
              "<p>77109 rows × 3 columns</p>\n",
              "</div>"
            ],
            "text/plain": [
              "                                                                 Name  ...                                                                                                                                                                                                                                                                                                      Summary\n",
              "0      The New York Times Daily Crossword Puzzles: Thursday, Volume 1  ...  Monday’s Crosswords Do with EaseTuesday’s Crosswords Not a BreezeWednesday’s Crosswords Harder StillThursday’s Crosswords Take Real SkillFriday’s Crosswords — You’ve Come This Far…Saturday’s Crosswords — You’re a Star!For millions of people, the New York Times crossword puzzles are as essential ...\n",
              "1                             Creatures of the Night (Second Edition)  ...  Two of literary comics modern masters present a pair of magical and disturbing stories of strange creatures who are not quite what they seem! In The Price, a mysterious feline engages in a nightly conflict with an unseen, vicious foe. The Daughter of Owls recounts an eerie tale of a beautiful or...\n",
              "2        Cornelia and the Audacious Escapades of the Somerset Sisters  ...  Eleven-year-old Cornelia is the daughter of two world-famous pianists—a legacy that should feel fabulous, but instead feels just plain lonely. She surrounds herself with dictionaries and other books to isolate herself from the outside world. But when a glamorous neighbor named Virginia Somerset ...\n",
              "3                                            The Alchemist's Daughter  ...  During the English Age of Reason, a woman cloistered since birth learns that knowledge is no substitute for experience.Raised by her father in near isolation in the English countryside, Emilie Selden is trained as a brilliant natural philosopher and alchemist. In the spring of 1725, father and d...\n",
              "4                                                       Dangerous Boy  ...  A modern-day retelling of The Strange Case of Dr. Jekyll and Mr. Hyde with a chilling twist Harper has never been worried about falling in love, something she is skeptical even exists. But everything changes when Logan moves to town, and to Harper’s shock, the two tumble into an intense romance....\n",
              "...                                                               ...  ...                                                                                                                                                                                                                                                                                                          ...\n",
              "77104                                            Cathedral of the Sea  ...  An unforgettable fresco of a golden age in fourteenth-century Barcelona, Cathedral of the Sea is a thrilling historical novel of friendship and revenge, plague and hope, love and war.   Arnau Estanyol arrives in Barcelona to find a city dominated by the construction of the city’s great pride—the...\n",
              "77105                         Understanding the Messages of Your Body  ...  Fears, anxieties, traumas, and physical and emotional shocks imprint on the body and remain dormant in its vast memory store until they are roused by an event or encounter. They may manifest in a different form or place—a fearful incident may transform itself into a stomachache or a headache, or...\n",
              "77106                                                        Knockout  ...  In Knockout, Suzanne Somers interviews doctors who are successfully using the most innovative cancer treatments—treatments that build up the body rather than tear it down. Somers herself has stared cancer in the face, and a decade later she has conquered her fear and has emerged confident with t...\n",
              "77107                                          The End of the Suburbs  ...  “The government in the past created one American Dream at the expense of almost all others: the dream of a house, a lawn, a picket fence, two children, and a car. But there is no single American Dream anymore.”For nearly 70 years, the suburbs were as American as apple pie. As the middle class ba...\n",
              "77108                          First Aid Fast for Babies and Children  ...  An indispensable guide for all parents and caretakers that covers a wide range of childhood emergencies.From anaphylaxis to burns to severe bleeding and bruising, First Aid Fast for Babies and Children offers clear advice, and step-by-step photographs show you what to do.This revised and updated...\n",
              "\n",
              "[77109 rows x 3 columns]"
            ]
          },
          "metadata": {
            "tags": []
          },
          "execution_count": 23
        }
      ]
    },
    {
      "cell_type": "code",
      "metadata": {
        "id": "4FxeauebJRgu",
        "colab_type": "code",
        "colab": {}
      },
      "source": [
        "import random\n",
        "from random import shuffle\n",
        "\n",
        "def synonym_replacement(words, n):\n",
        "\tnew_words = words.copy()\n",
        "\trandom_word_list = list(set([word for word in words if word not in stop_words]))\n",
        "\trandom.shuffle(random_word_list)\n",
        "\tnum_replaced = 0\n",
        "\tfor random_word in random_word_list:\n",
        "\t\tsynonyms = get_synonyms(random_word)\n",
        "\t\tif len(synonyms) >= 1:\n",
        "\t\t\tsynonym = random.choice(list(synonyms))\n",
        "\t\t\tnew_words = [synonym if word == random_word else word for word in new_words]\n",
        "\t\t\t#print(\"replaced\", random_word, \"with\", synonym)\n",
        "\t\t\tnum_replaced += 1\n",
        "\t\tif num_replaced >= n: #only replace up to n words\n",
        "\t\t\tbreak\n",
        "\n",
        "\t#this is stupid but we need it, trust me\n",
        "\tsentence = ' '.join(new_words)\n",
        "\tnew_words = sentence.split(' ')\n",
        "\n",
        "\treturn new_words\n",
        "\n",
        "def get_synonyms(word):\n",
        "\tsynonyms = set()\n",
        "\tfor syn in wordnet.synsets(word): \n",
        "\t\tfor l in syn.lemmas(): \n",
        "\t\t\tsynonym = l.name().replace(\"_\", \" \").replace(\"-\", \" \").lower()\n",
        "\t\t\tsynonym = \"\".join([char for char in synonym if char in ' qwertyuiopasdfghjklzxcvbnm'])\n",
        "\t\t\tsynonyms.add(synonym) \n",
        "\tif word in synonyms:\n",
        "\t\tsynonyms.remove(word)\n",
        "\treturn list(synonyms)"
      ],
      "execution_count": 0,
      "outputs": []
    },
    {
      "cell_type": "code",
      "metadata": {
        "id": "oy3H27MMESl4",
        "colab_type": "code",
        "outputId": "6d2ab641-4df1-4ecb-ee0b-145a67972c25",
        "colab": {
          "base_uri": "https://localhost:8080/",
          "height": 370
        }
      },
      "source": [
        "def applysynonym(row):\n",
        "    words = nltk.word_tokenize(row)\n",
        "    n = len(words)\n",
        "    res = synonym_replacement(words,n//10)\n",
        "    return ' '.join(res)\n",
        "\n",
        "def augmentdata(n):\n",
        "    global df\n",
        "    temp = []\n",
        "    for index,row in df.iterrows():\n",
        "      if 'Fiction' not in row['Genres'] and 'Speculative Fiction' not in row['Genres']:\n",
        "        temp.append(row)\n",
        "    temp = pd.DataFrame(temp,columns=['Name','Genres','Summary'])\n",
        "    t1 = temp\n",
        "    for i in range(n):\n",
        "      t1.Summary = temp.Summary.apply(applysynonym)\n",
        "      df = df.append(t1,ignore_index=True)\n",
        "    return\n",
        "\n",
        "augmentdata(10)"
      ],
      "execution_count": 0,
      "outputs": [
        {
          "output_type": "error",
          "ename": "NameError",
          "evalue": "ignored",
          "traceback": [
            "\u001b[0;31m---------------------------------------------------------------------------\u001b[0m",
            "\u001b[0;31mNameError\u001b[0m                                 Traceback (most recent call last)",
            "\u001b[0;32m<ipython-input-27-4c78cbb3afb2>\u001b[0m in \u001b[0;36m<module>\u001b[0;34m()\u001b[0m\n\u001b[1;32m     18\u001b[0m     \u001b[0;32mreturn\u001b[0m\u001b[0;34m\u001b[0m\u001b[0;34m\u001b[0m\u001b[0m\n\u001b[1;32m     19\u001b[0m \u001b[0;34m\u001b[0m\u001b[0m\n\u001b[0;32m---> 20\u001b[0;31m \u001b[0maugmentdata\u001b[0m\u001b[0;34m(\u001b[0m\u001b[0;36m10\u001b[0m\u001b[0;34m)\u001b[0m\u001b[0;34m\u001b[0m\u001b[0;34m\u001b[0m\u001b[0m\n\u001b[0m",
            "\u001b[0;32m<ipython-input-27-4c78cbb3afb2>\u001b[0m in \u001b[0;36maugmentdata\u001b[0;34m(n)\u001b[0m\n\u001b[1;32m     14\u001b[0m     \u001b[0mt1\u001b[0m \u001b[0;34m=\u001b[0m \u001b[0mtemp\u001b[0m\u001b[0;34m\u001b[0m\u001b[0;34m\u001b[0m\u001b[0m\n\u001b[1;32m     15\u001b[0m     \u001b[0;32mfor\u001b[0m \u001b[0mi\u001b[0m \u001b[0;32min\u001b[0m \u001b[0mrange\u001b[0m\u001b[0;34m(\u001b[0m\u001b[0mn\u001b[0m\u001b[0;34m)\u001b[0m\u001b[0;34m:\u001b[0m\u001b[0;34m\u001b[0m\u001b[0;34m\u001b[0m\u001b[0m\n\u001b[0;32m---> 16\u001b[0;31m       \u001b[0mt1\u001b[0m\u001b[0;34m.\u001b[0m\u001b[0mSummary\u001b[0m \u001b[0;34m=\u001b[0m \u001b[0mtemp\u001b[0m\u001b[0;34m.\u001b[0m\u001b[0mSummary\u001b[0m\u001b[0;34m.\u001b[0m\u001b[0mapply\u001b[0m\u001b[0;34m(\u001b[0m\u001b[0mapplysynonym\u001b[0m\u001b[0;34m)\u001b[0m\u001b[0;34m\u001b[0m\u001b[0;34m\u001b[0m\u001b[0m\n\u001b[0m\u001b[1;32m     17\u001b[0m       \u001b[0mdf\u001b[0m \u001b[0;34m=\u001b[0m \u001b[0mdf\u001b[0m\u001b[0;34m.\u001b[0m\u001b[0mappend\u001b[0m\u001b[0;34m(\u001b[0m\u001b[0mt1\u001b[0m\u001b[0;34m,\u001b[0m\u001b[0mignore_index\u001b[0m\u001b[0;34m=\u001b[0m\u001b[0;32mTrue\u001b[0m\u001b[0;34m)\u001b[0m\u001b[0;34m\u001b[0m\u001b[0;34m\u001b[0m\u001b[0m\n\u001b[1;32m     18\u001b[0m     \u001b[0;32mreturn\u001b[0m\u001b[0;34m\u001b[0m\u001b[0;34m\u001b[0m\u001b[0m\n",
            "\u001b[0;32m/usr/local/lib/python3.6/dist-packages/pandas/core/series.py\u001b[0m in \u001b[0;36mapply\u001b[0;34m(self, func, convert_dtype, args, **kwds)\u001b[0m\n\u001b[1;32m   4043\u001b[0m             \u001b[0;32melse\u001b[0m\u001b[0;34m:\u001b[0m\u001b[0;34m\u001b[0m\u001b[0;34m\u001b[0m\u001b[0m\n\u001b[1;32m   4044\u001b[0m                 \u001b[0mvalues\u001b[0m \u001b[0;34m=\u001b[0m \u001b[0mself\u001b[0m\u001b[0;34m.\u001b[0m\u001b[0mastype\u001b[0m\u001b[0;34m(\u001b[0m\u001b[0mobject\u001b[0m\u001b[0;34m)\u001b[0m\u001b[0;34m.\u001b[0m\u001b[0mvalues\u001b[0m\u001b[0;34m\u001b[0m\u001b[0;34m\u001b[0m\u001b[0m\n\u001b[0;32m-> 4045\u001b[0;31m                 \u001b[0mmapped\u001b[0m \u001b[0;34m=\u001b[0m \u001b[0mlib\u001b[0m\u001b[0;34m.\u001b[0m\u001b[0mmap_infer\u001b[0m\u001b[0;34m(\u001b[0m\u001b[0mvalues\u001b[0m\u001b[0;34m,\u001b[0m \u001b[0mf\u001b[0m\u001b[0;34m,\u001b[0m \u001b[0mconvert\u001b[0m\u001b[0;34m=\u001b[0m\u001b[0mconvert_dtype\u001b[0m\u001b[0;34m)\u001b[0m\u001b[0;34m\u001b[0m\u001b[0;34m\u001b[0m\u001b[0m\n\u001b[0m\u001b[1;32m   4046\u001b[0m \u001b[0;34m\u001b[0m\u001b[0m\n\u001b[1;32m   4047\u001b[0m         \u001b[0;32mif\u001b[0m \u001b[0mlen\u001b[0m\u001b[0;34m(\u001b[0m\u001b[0mmapped\u001b[0m\u001b[0;34m)\u001b[0m \u001b[0;32mand\u001b[0m \u001b[0misinstance\u001b[0m\u001b[0;34m(\u001b[0m\u001b[0mmapped\u001b[0m\u001b[0;34m[\u001b[0m\u001b[0;36m0\u001b[0m\u001b[0;34m]\u001b[0m\u001b[0;34m,\u001b[0m \u001b[0mSeries\u001b[0m\u001b[0;34m)\u001b[0m\u001b[0;34m:\u001b[0m\u001b[0;34m\u001b[0m\u001b[0;34m\u001b[0m\u001b[0m\n",
            "\u001b[0;32mpandas/_libs/lib.pyx\u001b[0m in \u001b[0;36mpandas._libs.lib.map_infer\u001b[0;34m()\u001b[0m\n",
            "\u001b[0;32m<ipython-input-27-4c78cbb3afb2>\u001b[0m in \u001b[0;36mapplysynonym\u001b[0;34m(row)\u001b[0m\n\u001b[1;32m      2\u001b[0m     \u001b[0mwords\u001b[0m \u001b[0;34m=\u001b[0m \u001b[0mnltk\u001b[0m\u001b[0;34m.\u001b[0m\u001b[0mword_tokenize\u001b[0m\u001b[0;34m(\u001b[0m\u001b[0mrow\u001b[0m\u001b[0;34m)\u001b[0m\u001b[0;34m\u001b[0m\u001b[0;34m\u001b[0m\u001b[0m\n\u001b[1;32m      3\u001b[0m     \u001b[0mn\u001b[0m \u001b[0;34m=\u001b[0m \u001b[0mlen\u001b[0m\u001b[0;34m(\u001b[0m\u001b[0mwords\u001b[0m\u001b[0;34m)\u001b[0m\u001b[0;34m\u001b[0m\u001b[0;34m\u001b[0m\u001b[0m\n\u001b[0;32m----> 4\u001b[0;31m     \u001b[0mres\u001b[0m \u001b[0;34m=\u001b[0m \u001b[0msynonym_replacement\u001b[0m\u001b[0;34m(\u001b[0m\u001b[0mwords\u001b[0m\u001b[0;34m,\u001b[0m\u001b[0mn\u001b[0m\u001b[0;34m//\u001b[0m\u001b[0;36m10\u001b[0m\u001b[0;34m)\u001b[0m\u001b[0;34m\u001b[0m\u001b[0;34m\u001b[0m\u001b[0m\n\u001b[0m\u001b[1;32m      5\u001b[0m     \u001b[0;32mreturn\u001b[0m \u001b[0;34m' '\u001b[0m\u001b[0;34m.\u001b[0m\u001b[0mjoin\u001b[0m\u001b[0;34m(\u001b[0m\u001b[0mres\u001b[0m\u001b[0;34m)\u001b[0m\u001b[0;34m\u001b[0m\u001b[0;34m\u001b[0m\u001b[0m\n\u001b[1;32m      6\u001b[0m \u001b[0;34m\u001b[0m\u001b[0m\n",
            "\u001b[0;32m<ipython-input-26-ed720dd299b6>\u001b[0m in \u001b[0;36msynonym_replacement\u001b[0;34m(words, n)\u001b[0m\n\u001b[1;32m      4\u001b[0m \u001b[0;32mdef\u001b[0m \u001b[0msynonym_replacement\u001b[0m\u001b[0;34m(\u001b[0m\u001b[0mwords\u001b[0m\u001b[0;34m,\u001b[0m \u001b[0mn\u001b[0m\u001b[0;34m)\u001b[0m\u001b[0;34m:\u001b[0m\u001b[0;34m\u001b[0m\u001b[0;34m\u001b[0m\u001b[0m\n\u001b[1;32m      5\u001b[0m         \u001b[0mnew_words\u001b[0m \u001b[0;34m=\u001b[0m \u001b[0mwords\u001b[0m\u001b[0;34m.\u001b[0m\u001b[0mcopy\u001b[0m\u001b[0;34m(\u001b[0m\u001b[0;34m)\u001b[0m\u001b[0;34m\u001b[0m\u001b[0;34m\u001b[0m\u001b[0m\n\u001b[0;32m----> 6\u001b[0;31m         \u001b[0mrandom_word_list\u001b[0m \u001b[0;34m=\u001b[0m \u001b[0mlist\u001b[0m\u001b[0;34m(\u001b[0m\u001b[0mset\u001b[0m\u001b[0;34m(\u001b[0m\u001b[0;34m[\u001b[0m\u001b[0mword\u001b[0m \u001b[0;32mfor\u001b[0m \u001b[0mword\u001b[0m \u001b[0;32min\u001b[0m \u001b[0mwords\u001b[0m \u001b[0;32mif\u001b[0m \u001b[0mword\u001b[0m \u001b[0;32mnot\u001b[0m \u001b[0;32min\u001b[0m \u001b[0mstop_words\u001b[0m\u001b[0;34m]\u001b[0m\u001b[0;34m)\u001b[0m\u001b[0;34m)\u001b[0m\u001b[0;34m\u001b[0m\u001b[0;34m\u001b[0m\u001b[0m\n\u001b[0m\u001b[1;32m      7\u001b[0m         \u001b[0mrandom\u001b[0m\u001b[0;34m.\u001b[0m\u001b[0mshuffle\u001b[0m\u001b[0;34m(\u001b[0m\u001b[0mrandom_word_list\u001b[0m\u001b[0;34m)\u001b[0m\u001b[0;34m\u001b[0m\u001b[0;34m\u001b[0m\u001b[0m\n\u001b[1;32m      8\u001b[0m         \u001b[0mnum_replaced\u001b[0m \u001b[0;34m=\u001b[0m \u001b[0;36m0\u001b[0m\u001b[0;34m\u001b[0m\u001b[0;34m\u001b[0m\u001b[0m\n",
            "\u001b[0;32m<ipython-input-26-ed720dd299b6>\u001b[0m in \u001b[0;36m<listcomp>\u001b[0;34m(.0)\u001b[0m\n\u001b[1;32m      4\u001b[0m \u001b[0;32mdef\u001b[0m \u001b[0msynonym_replacement\u001b[0m\u001b[0;34m(\u001b[0m\u001b[0mwords\u001b[0m\u001b[0;34m,\u001b[0m \u001b[0mn\u001b[0m\u001b[0;34m)\u001b[0m\u001b[0;34m:\u001b[0m\u001b[0;34m\u001b[0m\u001b[0;34m\u001b[0m\u001b[0m\n\u001b[1;32m      5\u001b[0m         \u001b[0mnew_words\u001b[0m \u001b[0;34m=\u001b[0m \u001b[0mwords\u001b[0m\u001b[0;34m.\u001b[0m\u001b[0mcopy\u001b[0m\u001b[0;34m(\u001b[0m\u001b[0;34m)\u001b[0m\u001b[0;34m\u001b[0m\u001b[0;34m\u001b[0m\u001b[0m\n\u001b[0;32m----> 6\u001b[0;31m         \u001b[0mrandom_word_list\u001b[0m \u001b[0;34m=\u001b[0m \u001b[0mlist\u001b[0m\u001b[0;34m(\u001b[0m\u001b[0mset\u001b[0m\u001b[0;34m(\u001b[0m\u001b[0;34m[\u001b[0m\u001b[0mword\u001b[0m \u001b[0;32mfor\u001b[0m \u001b[0mword\u001b[0m \u001b[0;32min\u001b[0m \u001b[0mwords\u001b[0m \u001b[0;32mif\u001b[0m \u001b[0mword\u001b[0m \u001b[0;32mnot\u001b[0m \u001b[0;32min\u001b[0m \u001b[0mstop_words\u001b[0m\u001b[0;34m]\u001b[0m\u001b[0;34m)\u001b[0m\u001b[0;34m)\u001b[0m\u001b[0;34m\u001b[0m\u001b[0;34m\u001b[0m\u001b[0m\n\u001b[0m\u001b[1;32m      7\u001b[0m         \u001b[0mrandom\u001b[0m\u001b[0;34m.\u001b[0m\u001b[0mshuffle\u001b[0m\u001b[0;34m(\u001b[0m\u001b[0mrandom_word_list\u001b[0m\u001b[0;34m)\u001b[0m\u001b[0;34m\u001b[0m\u001b[0;34m\u001b[0m\u001b[0m\n\u001b[1;32m      8\u001b[0m         \u001b[0mnum_replaced\u001b[0m \u001b[0;34m=\u001b[0m \u001b[0;36m0\u001b[0m\u001b[0;34m\u001b[0m\u001b[0;34m\u001b[0m\u001b[0m\n",
            "\u001b[0;31mNameError\u001b[0m: name 'stop_words' is not defined"
          ]
        }
      ]
    },
    {
      "cell_type": "code",
      "metadata": {
        "id": "E3gLnIHOXAdi",
        "colab_type": "code",
        "colab": {}
      },
      "source": [
        "all_genres = sum(df[\"Genres\"],[])\n",
        "print(\"Total unique genres:\", len(set(all_genres)))"
      ],
      "execution_count": 0,
      "outputs": []
    },
    {
      "cell_type": "code",
      "metadata": {
        "id": "wgo16bhvYJ2S",
        "colab_type": "code",
        "colab": {}
      },
      "source": [
        "all_genres = nltk.FreqDist(all_genres) \n",
        "all_genres_df = pd.DataFrame({'Genre': list(all_genres.keys()), \n",
        "                              'Count': list(all_genres.values())})\n",
        "g = all_genres_df.nlargest(columns=\"Count\", n = 50) \n",
        "plt.figure(figsize=(12,15)) \n",
        "ax = sns.barplot(data=g, x= \"Count\", y = \"Genre\") \n",
        "ax.set(ylabel = 'Count') \n",
        "plt.show()"
      ],
      "execution_count": 0,
      "outputs": []
    },
    {
      "cell_type": "code",
      "metadata": {
        "id": "KZMkgsTaY6bP",
        "colab_type": "code",
        "colab": {}
      },
      "source": [
        "def clean_text(text):\n",
        "    text = re.sub(\"\\'\", \"\", text) \n",
        "    text = re.sub(\"[^a-zA-Z]\",\" \",text) \n",
        "    text = ' '.join(text.split()) \n",
        "    text = text.lower() \n",
        "    return text"
      ],
      "execution_count": 0,
      "outputs": []
    },
    {
      "cell_type": "code",
      "metadata": {
        "id": "7ibs2XTAZOJq",
        "colab_type": "code",
        "colab": {}
      },
      "source": [
        "df['Summary'] = df['Summary'].apply(lambda x: clean_text(x))"
      ],
      "execution_count": 0,
      "outputs": []
    },
    {
      "cell_type": "code",
      "metadata": {
        "id": "dc1oqyxdZUmt",
        "colab_type": "code",
        "colab": {}
      },
      "source": [
        "from nltk.corpus import stopwords\n",
        "stop_words = set(stopwords.words('english'))\n",
        "\n",
        "def remove_stopwords(text):\n",
        "    no_stopword_text = [w for w in text.split() if not w in stop_words]\n",
        "    return ' '.join(no_stopword_text)\n",
        "\n",
        "df['Summary'] = df['Summary'].apply(lambda x: remove_stopwords(x))"
      ],
      "execution_count": 0,
      "outputs": []
    },
    {
      "cell_type": "code",
      "metadata": {
        "id": "RGyK6vlEZckM",
        "colab_type": "code",
        "colab": {}
      },
      "source": [
        "df.head()"
      ],
      "execution_count": 0,
      "outputs": []
    },
    {
      "cell_type": "code",
      "metadata": {
        "id": "LNhIZfSmZl_7",
        "colab_type": "code",
        "colab": {}
      },
      "source": [
        "def freq_words(x, terms = 30): \n",
        "  all_words = ' '.join([text for text in x]) \n",
        "  all_words = all_words.split() \n",
        "  fdist = nltk.FreqDist(all_words) \n",
        "  words_df = pd.DataFrame({'word':list(fdist.keys()), 'count':list(fdist.values())}) \n",
        "  d = words_df.nlargest(columns=\"count\", n = terms) \n",
        "  plt.figure(figsize=(12,15)) \n",
        "  ax = sns.barplot(data=d, x= \"count\", y = \"word\") \n",
        "  ax.set(ylabel = 'Word') \n",
        "  plt.show()\n",
        "  \n",
        "freq_words(df['Summary'], 100)"
      ],
      "execution_count": 0,
      "outputs": []
    },
    {
      "cell_type": "code",
      "metadata": {
        "id": "ai26BegWZrX8",
        "colab_type": "code",
        "colab": {}
      },
      "source": [
        "from sklearn.preprocessing import MultiLabelBinarizer\n",
        "#from sklearn import preprocessing\n",
        "\n",
        "multilabel_binarizer = MultiLabelBinarizer()\n",
        "multilabel_binarizer.fit(df['Genres'])\n",
        "\n",
        "# transform target variable\n",
        "y = multilabel_binarizer.transform(df['Genres'])"
      ],
      "execution_count": 0,
      "outputs": []
    },
    {
      "cell_type": "code",
      "metadata": {
        "id": "JZSdXkn5Z6tu",
        "colab_type": "code",
        "colab": {}
      },
      "source": [
        "tfidf_vectorizer = TfidfVectorizer(max_df=0.8, max_features=10000)\n",
        "xtrain, xval, ytrain, yval = train_test_split(df['Summary'], y, test_size=0.2, random_state=9)\n",
        "xtrain_tfidf = tfidf_vectorizer.fit_transform(xtrain)\n",
        "xval_tfidf = tfidf_vectorizer.transform(xval)"
      ],
      "execution_count": 0,
      "outputs": []
    },
    {
      "cell_type": "code",
      "metadata": {
        "id": "x5OGzK-raCDj",
        "colab_type": "code",
        "colab": {}
      },
      "source": [
        "from sklearn.linear_model import LogisticRegression\n",
        "\n",
        "# Binary Relevance\n",
        "from sklearn.multiclass import OneVsRestClassifier\n",
        "\n",
        "# Performance metric\n",
        "from sklearn.metrics import f1_score"
      ],
      "execution_count": 0,
      "outputs": []
    },
    {
      "cell_type": "code",
      "metadata": {
        "id": "EUV7iKnaaErd",
        "colab_type": "code",
        "colab": {}
      },
      "source": [
        "import math\n",
        "lr = LogisticRegression(max_iter=math.inf)\n",
        "clf = OneVsRestClassifier(lr)"
      ],
      "execution_count": 0,
      "outputs": []
    },
    {
      "cell_type": "code",
      "metadata": {
        "id": "noUUOjzuaGud",
        "colab_type": "code",
        "colab": {}
      },
      "source": [
        "clf.fit(xtrain_tfidf, ytrain)"
      ],
      "execution_count": 0,
      "outputs": []
    },
    {
      "cell_type": "code",
      "metadata": {
        "id": "EnxKGK1XaITD",
        "colab_type": "code",
        "colab": {}
      },
      "source": [
        "y_pred = clf.predict(xval_tfidf)"
      ],
      "execution_count": 0,
      "outputs": []
    },
    {
      "cell_type": "code",
      "metadata": {
        "id": "ICK9FColaKNl",
        "colab_type": "code",
        "outputId": "9d839ea9-783e-479a-fdd0-b976603bd57b",
        "colab": {
          "base_uri": "https://localhost:8080/",
          "height": 34
        }
      },
      "source": [
        "f1_score(yval, y_pred, average=\"micro\")\n",
        "#clf.score(yval, y_pred)"
      ],
      "execution_count": 0,
      "outputs": [
        {
          "output_type": "execute_result",
          "data": {
            "text/plain": [
              "0.653849851004518"
            ]
          },
          "metadata": {
            "tags": []
          },
          "execution_count": 212
        }
      ]
    },
    {
      "cell_type": "code",
      "metadata": {
        "id": "epi1n-S_tleY",
        "colab_type": "code",
        "colab": {}
      },
      "source": [
        "y_pred_prob = clf.predict_proba(xval_tfidf)\n",
        "t = 0.2505 # threshold value 0.2505 -> 0.712340852740299\n",
        "y_pred_new = (y_pred_prob >= t).astype(int)"
      ],
      "execution_count": 0,
      "outputs": []
    },
    {
      "cell_type": "code",
      "metadata": {
        "id": "T_ZLHp72tqIA",
        "colab_type": "code",
        "outputId": "424a3607-96e0-4c35-f6ae-b7de5010fbf5",
        "colab": {
          "base_uri": "https://localhost:8080/",
          "height": 34
        }
      },
      "source": [
        "f1_score(yval, y_pred_new, average=\"micro\")"
      ],
      "execution_count": 0,
      "outputs": [
        {
          "output_type": "execute_result",
          "data": {
            "text/plain": [
              "0.7768644269716465"
            ]
          },
          "metadata": {
            "tags": []
          },
          "execution_count": 220
        }
      ]
    },
    {
      "cell_type": "code",
      "metadata": {
        "id": "kAtiuLtOajYg",
        "colab_type": "code",
        "colab": {}
      },
      "source": [
        "def infer_tags(q):\n",
        "    q = clean_text(q)\n",
        "    q = remove_stopwords(q)\n",
        "    q_vec = tfidf_vectorizer.transform([q])\n",
        "    #q_pred = clf.predict(q_vec)\n",
        "\n",
        "    q_pred_prob = clf.predict_proba(q_vec)\n",
        "    t = 0.2505 # threshold value 0.2505 -> 0.7110468896756014\n",
        "    q_pred_new = (q_pred_prob >= t).astype(int)\n",
        "\n",
        "    return multilabel_binarizer.inverse_transform(q_pred_new)"
      ],
      "execution_count": 0,
      "outputs": []
    },
    {
      "cell_type": "code",
      "metadata": {
        "id": "HhTwzoZxaRwt",
        "colab_type": "code",
        "outputId": "c7a626dd-f551-4927-97e0-36db6affc5c1",
        "colab": {
          "base_uri": "https://localhost:8080/",
          "height": 353
        }
      },
      "source": [
        "for i in range(5): \n",
        "  k = xval.sample(1).index[0] \n",
        "  print(\"Book: \", df['Name'][k], \"\\nPredicted genre: \", infer_tags(xval[k])), print(\"Actual genre: \",df['Genres'][k], \"\\n\")"
      ],
      "execution_count": 0,
      "outputs": [
        {
          "output_type": "stream",
          "text": [
            "Book:  The Dragon Knight \n",
            "Predicted genre:  [('Fantasy', 'Speculative fiction')]\n",
            "Actual genre:  ['Speculative fiction', 'Fantasy'] \n",
            "\n",
            "Book:  Trilby \n",
            "Predicted genre:  [('Horror',)]\n",
            "Actual genre:  ['Horror'] \n",
            "\n",
            "Book:  The Bad Place \n",
            "Predicted genre:  [('Fiction', 'Horror')]\n",
            "Actual genre:  ['Speculative fiction', 'Horror'] \n",
            "\n",
            "Book:  Blood Beast \n",
            "Predicted genre:  [('Fantasy', 'Horror', 'Speculative fiction')]\n",
            "Actual genre:  ['Fantasy', 'Speculative fiction', 'Horror'] \n",
            "\n",
            "Book:  Click Click Snap \n",
            "Predicted genre:  [()]\n",
            "Actual genre:  ['Creative nonfiction'] \n",
            "\n"
          ],
          "name": "stdout"
        }
      ]
    },
    {
      "cell_type": "code",
      "metadata": {
        "id": "WVq43Qm7an6B",
        "colab_type": "code",
        "colab": {}
      },
      "source": [
        ""
      ],
      "execution_count": 0,
      "outputs": []
    }
  ]
}